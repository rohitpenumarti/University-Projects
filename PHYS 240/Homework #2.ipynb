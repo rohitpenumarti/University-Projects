{
 "cells": [
  {
   "cell_type": "code",
   "execution_count": 59,
   "metadata": {},
   "outputs": [],
   "source": [
    "import numpy as np\n",
    "import matplotlib.pyplot as plt\n",
    "from scipy.optimize import curve_fit, minimize\n",
    "import math\n",
    "from time import perf_counter"
   ]
  },
  {
   "cell_type": "markdown",
   "metadata": {},
   "source": [
    "# Part 1"
   ]
  },
  {
   "cell_type": "code",
   "execution_count": 60,
   "metadata": {
    "scrolled": true
   },
   "outputs": [
    {
     "name": "stdout",
     "output_type": "stream",
     "text": [
      "a_0 = -15431.082806848508, a_1 = -8213.438084375179, a_2 = -2582.3620383000703, a_3 = 199.64275067266178, a_4 = 16981.715259489887\n"
     ]
    },
    {
     "data": {
      "image/png": "[encoded data removed]",
      "text/plain": [
       "<Figure size 432x288 with 1 Axes>"
      ]
     },
     "metadata": {
      "needs_background": "light"
     },
     "output_type": "display_data"
    }
   ],
   "source": [
    "# Part a)\n",
    "# This first block is just importing the data file and setting variables to certain data points\n",
    "filepath = r\"C:\\Users\\Rohit Penumarti\\Desktop\\UCSB\\Spring 2020\\PHYS 240\\skytemperature.dat\"\n",
    "data = np.loadtxt(filepath)\n",
    "frequency = data[:, 0]\n",
    "temp = data[:, 1]\n",
    "nu = frequency/75\n",
    "var = np.ones(np.size(nu))\n",
    "\n",
    "# This block is used for the svd calculation. The A matrix has 5 columns for each parameter and the lstsq function is called\n",
    "# to perform this calculation\n",
    "A = np.ones((np.size(nu), 5))\n",
    "A[:, 0] = nu**(-2.5)\n",
    "A[:, 1] = nu**(-2.5)*np.log(nu)\n",
    "A[:, 2] = nu**(-2.5)*(np.log(nu))**2\n",
    "A[:, 3] = nu**(-4.5)\n",
    "A[:, 4] = nu**(-2)\n",
    "b = temp.copy()\n",
    "A /= np.sqrt(var[:, np.newaxis])\n",
    "b /= np.sqrt(var)\n",
    "result = np.linalg.lstsq(A, b, rcond=None)\n",
    "a = result[0]\n",
    "print(\"a_0 = {0}, a_1 = {1}, a_2 = {2}, a_3 = {3}, a_4 = {4}\" .format(a[0], a[1], a[2], a[3], a[4]))\n",
    "\n",
    "# Residuals are measured and plotted\n",
    "residual = temp.copy()\n",
    "for i in range(np.size(a)):\n",
    "    residual -= a[i]*A[:, i]\n",
    "plt.plot(nu, residual, 'b-')\n",
    "plt.show()"
   ]
  },
  {
   "cell_type": "code",
   "execution_count": 61,
   "metadata": {
    "scrolled": false
   },
   "outputs": [
    {
     "name": "stdout",
     "output_type": "stream",
     "text": [
      "The convergence time of this optimization routine is 0.03081240000028629 seconds.\n"
     ]
    },
    {
     "name": "stderr",
     "output_type": "stream",
     "text": [
      "C:\\Users\\Rohit Penumarti\\Anaconda3\\lib\\site-packages\\ipykernel_launcher.py:3: RuntimeWarning: overflow encountered in multiply\n",
      "  This is separate from the ipykernel package so we can avoid doing imports until\n"
     ]
    },
    {
     "data": {
      "image/png": "[encoded data removed]",
      "text/plain": [
       "<Figure size 432x288 with 1 Axes>"
      ]
     },
     "metadata": {
      "needs_background": "light"
     },
     "output_type": "display_data"
    }
   ],
   "source": [
    "# Part b\n",
    "# Function that gives temperature values based on the second model\n",
    "def T(x, b0, b1, b2, b3, b4):\n",
    "    return b0*x**(-2.5+b1+b2*np.log(x))*np.exp(-b3*x**(-2))+b4*x**(-2)\n",
    "\n",
    "# A curve fit routine is used to find the fitted parameters, and the time for convergence is measured\n",
    "start = perf_counter()\n",
    "b = curve_fit(T, nu, temp)[0]\n",
    "end = perf_counter()\n",
    "time_elapsed = end - start\n",
    "print(\"The convergence time of this optimization routine is \" + str(time_elapsed) + \" seconds.\")\n",
    "\n",
    "# Residuals are calculated and plotted\n",
    "residual = temp.copy()\n",
    "residual -= T(nu, b[0], b[1], b[2], b[3], b[4])\n",
    "    \n",
    "plt.plot(nu, residual, 'b-')\n",
    "plt.show()"
   ]
  },
  {
   "cell_type": "markdown",
   "metadata": {},
   "source": [
    "## Part c)\n",
    "> To make the model linear in all but one parameter, we do the following adjustments to the original model.\n",
    "> $$T(\\nu)-b_4\\nu^{-2}=b_0\\nu^{-2.5+b_1+b_2log\\nu}e^{-b_3\\nu^{-2}}$$\n",
    "> $$T(\\nu)\\nu^{2.5}-b_4\\nu^{0.5}=b_0\\nu^{b_1+b_2log\\nu}e^{-b_3\\nu^{-2}}$$\n",
    "> $$log(T(\\nu)\\nu^{2.5}-b_4\\nu^{0.5})=log(b_0)+(b_1+b_2log\\nu)log\\nu-b_3\\nu^{-2}$$\n",
    "> $$log(T(\\nu)\\nu^2-b_4)+0.5log\\nu=log(b_0)+(b_1+b_2log\\nu)log\\nu-b_3\\nu^{-2}$$\n",
    "> We now have a linear model in all but one parameter, i.e $b_4$, for which we provide a good guess, and compute the remaining parameters in the usual manner."
   ]
  },
  {
   "cell_type": "code",
   "execution_count": 63,
   "metadata": {},
   "outputs": [
    {
     "name": "stdout",
     "output_type": "stream",
     "text": [
      "a_0 = 739.9456571283565, a_1 = -0.4395327804900443, a_2 = -0.6945687080513748, a_3 = -0.12487620828642304\n",
      "The convergence time of this optimization routine is 0.005173500001546927 seconds.\n"
     ]
    },
    {
     "data": {
      "image/png": "[encoded data removed]",
      "text/plain": [
       "<Figure size 432x288 with 1 Axes>"
      ]
     },
     "metadata": {
      "needs_background": "light"
     },
     "output_type": "display_data"
    }
   ],
   "source": [
    "# This time, the model is linearized by the process shown above, with only one non-linear parameter, b4. This block computes\n",
    "# the linear parameters using svd\n",
    "var_new = var/(temp-b[4]*nu**(-2))**2\n",
    "A = np.ones((np.size(nu), 4))\n",
    "A[:, 0] = 1\n",
    "A[:, 1] = np.log(nu)\n",
    "A[:, 2] = (np.log(nu))**2\n",
    "A[:, 3] = -nu**(-2)\n",
    "b_new = (np.log(temp*nu**2-b[4])+0.5*np.log(nu)).copy()\n",
    "A /= np.sqrt(var_new[:, np.newaxis])\n",
    "b_new /= np.sqrt(var_new)\n",
    "result = np.linalg.lstsq(A, b_new, rcond=None)\n",
    "b_res = result[0]\n",
    "print(\"a_0 = {0}, a_1 = {1}, a_2 = {2}, a_3 = {3}\" .format(np.exp(b_res[0]), b_res[1], b_res[2], b_res[3]))\n",
    "\n",
    "# Function that returns the chi-squared value of this model with respect to free parameter b4\n",
    "def chi2(b4):\n",
    "    return np.sum((temp-(np.exp(b_res[0])*nu**(-2.5+b_res[1]+b_res[2]*np.log(nu))*np.exp(-b_res[3]*nu**(-2))+b4*nu**(-2)))**2)\n",
    "\n",
    "# A minimize routine is used to measure the final, non-linear parameter b4 and the convergence time of this function is measured\n",
    "start = perf_counter()\n",
    "r = minimize(chi2, x0=1000)\n",
    "end = perf_counter()\n",
    "time_elapsed = end - start\n",
    "print(\"The convergence time of this optimization routine is \" + str(time_elapsed) + \" seconds.\")\n",
    "\n",
    "# Residuals are computed and graphed\n",
    "residual = temp.copy()\n",
    "residual -= T(nu, np.exp(b_res[0]), b_res[1], b_res[2], b_res[3], r.x[0])\n",
    "    \n",
    "plt.plot(nu, residual, 'b-')\n",
    "plt.show()"
   ]
  },
  {
   "cell_type": "markdown",
   "metadata": {},
   "source": [
    "# Part 2"
   ]
  },
  {
   "cell_type": "code",
   "execution_count": 65,
   "metadata": {},
   "outputs": [
    {
     "name": "stdout",
     "output_type": "stream",
     "text": [
      "a_0 = -11073.461870737456, a_1 = -6129.756233923385, a_2 = -1970.6527693496807, a_3 = 160.8240605087372, a_4 = 12663.336882745856, c_0 = -0.4905373584979072\n",
      "The value of c_0 has a percent error of: 7.445781415489214 and the value of c_1 has a percent error of: 0.13151971151244599\n",
      "The rmse value I achieved is: 0.025049384387118897 which has a percent error of: 0.0019753754847558203\n"
     ]
    },
    {
     "data": {
      "image/png": "[encoded data removed]",
      "text/plain": [
       "<Figure size 432x288 with 1 Axes>"
      ]
     },
     "metadata": {
      "needs_background": "light"
     },
     "output_type": "display_data"
    }
   ],
   "source": [
    "# Part a)\n",
    "# This process uses the model from 1a and is done in a similar manner to 1c except with non-linear parameters c1 and c2. There\n",
    "# are 6 linear parameters and svd is used to calculate their values corresponding with best guess c1 and c2 values\n",
    "c_vals = [1.04, 0.134]\n",
    "A_c = np.ones((np.size(nu), 6))\n",
    "A_c[:, 0] = nu**(-2.5)\n",
    "A_c[:, 1] = nu**(-2.5)*np.log(nu)\n",
    "A_c[:, 2] = nu**(-2.5)*(np.log(nu))**2\n",
    "A_c[:, 3] = nu**(-4.5)\n",
    "A_c[:, 4] = nu**(-2)\n",
    "A_c[:, 5] = np.exp(-abs((nu-c_vals[0])/c_vals[1])**5)\n",
    "b_new = temp.copy()\n",
    "A_c /= np.sqrt(var[:, np.newaxis])\n",
    "b_new /= np.sqrt(var)\n",
    "a_0, a_1, a_2, a_3, a_4, c_0 = np.linalg.lstsq(A_c, b_new, rcond=None)[0]\n",
    "print(\"a_0 = {0}, a_1 = {1}, a_2 = {2}, a_3 = {3}, a_4 = {4}, c_0 = {5}\" .format(a_0, a_1, a_2, a_3, a_4, c_0))\n",
    "\n",
    "# Function that returns temperature according to the current model\n",
    "def T_new(x, a0, a1, a2, a3, a4, c0, c1, c2):\n",
    "    return a0*x**(-2.5)+a1*x**(-2.5)*np.log(x)+a2*x**(-2.5)*np.log(x)**2+a3*x**(-4.5)+a4*x**(-2)+c0*np.exp(-abs((nu-c1)/c2)**5)\n",
    "\n",
    "# Returns chi-squared of the current model with respect to parameters c1 and c2\n",
    "def chi2(c):\n",
    "    return np.sum((temp-T_new(nu, a_0, a_1, a_2, a_3, a_4, c_0, c[0], c[1]))**2)\n",
    "\n",
    "# Minimization routine which computes best fit values for c1 and c2 and computes the percent errors of c0 and c1 with their\n",
    "# respective actual values\n",
    "r = minimize(chi2, x0=[1.04, 0.134])\n",
    "error_c_0 = 100*abs(abs(c_0)-0.53)/0.53\n",
    "error_c_1 = 100*abs(r.x[0]-1.04)/1.04\n",
    "print(\"The value of c_0 has a percent error of: \" + str(error_c_0) + \" and the value of c_1 has a percent error of: \" + str(error_c_1))\n",
    "\n",
    "# Residuals and RMSE are calculated and graphed/stated\n",
    "residual = temp.copy()\n",
    "residual -= T_new(nu, a_0, a_1, a_2, a_3, a_4, c_0, r.x[0], r.x[1])\n",
    "rmse = np.sqrt(np.sum(residual**2)/np.size(residual))\n",
    "error_rmse = abs(rmse-0.025)/0.025\n",
    "print(\"The rmse value I achieved is: \" + str(rmse) + \" which has a percent error of: \" + str(error_rmse))\n",
    "    \n",
    "plt.plot(nu, residual, 'b-')\n",
    "plt.show()"
   ]
  },
  {
   "cell_type": "code",
   "execution_count": 81,
   "metadata": {},
   "outputs": [
    {
     "name": "stdout",
     "output_type": "stream",
     "text": [
      "The signal to noise value for this fit is: 7.208382904315662 which has a percent error of 80.5178840423901 from the actual value\n"
     ]
    }
   ],
   "source": [
    "# Part b)\n",
    "var = 0.025*np.ones(np.size(nu))\n",
    "\n",
    "chi2_before = np.sum((temp-(a[0]*nu**(-2.5)+a[1]*nu**(-2.5)*np.log(nu)+a[2]*nu**(-2.5)*np.log(nu)**2+a[3]*nu**(-4.5)+a[4]*nu**(-2)))**2/var)\n",
    "chi2_after = np.sum((temp-T_new(nu, a_0, a_1, a_2, a_3, a_4, c_0, r.x[0], r.x[1]))**2/var)\n",
    "\n",
    "min_chi_sq = chi_sq(a_0, a_1, a_2, a_3, a_4, c_0)\n",
    "\n",
    "c0vals = np.linspace(c_0, c_0+1, 10000)\n",
    "error_c0 = 0\n",
    "for i in c0vals:\n",
    "    current_c0 = i\n",
    "    if(chi_sq(a_0, a_1, a_2, a_3, a_4, current_c0) <= chi_sq_min+1):    \n",
    "        error_c0 = current_c0\n",
    "    else:\n",
    "        break\n",
    "        \n",
    "error_c0 = (error_c0-min_c0)/2\n",
    "stn = c_0/error_c0\n",
    "stn_err = 100*abs(stn-37)/37\n",
    "print(\"The signal to noise value for this fit is: \" + str(stn) + \" which has a percent error of \" + str(stn_err) + \" from the actual value\")"
   ]
  },
  {
   "cell_type": "markdown",
   "metadata": {},
   "source": [
    "# Part 3"
   ]
  },
  {
   "cell_type": "code",
   "execution_count": 83,
   "metadata": {
    "scrolled": true
   },
   "outputs": [
    {
     "name": "stdout",
     "output_type": "stream",
     "text": [
      "The covariance matrix for this model is: \n",
      "[[ 1.87500000e-03  1.23337080e-03  1.20009617e-03 ...  4.26915764e-05\n",
      "  -2.41689676e-05 -8.98341779e-05]\n",
      " [ 1.23337080e-03  1.87500000e-03  1.23337080e-03 ...  1.09837138e-04\n",
      "   4.26915764e-05 -2.41689676e-05]\n",
      " [ 1.20009617e-03  1.23337080e-03  1.87500000e-03 ...  1.76341522e-04\n",
      "   1.09837138e-04  4.26915764e-05]\n",
      " ...\n",
      " [ 4.26915764e-05  1.09837138e-04  1.76341522e-04 ...  1.87500000e-03\n",
      "   1.23337080e-03  1.20009617e-03]\n",
      " [-2.41689676e-05  4.26915764e-05  1.09837138e-04 ...  1.23337080e-03\n",
      "   1.87500000e-03  1.23337080e-03]\n",
      " [-8.98341779e-05 -2.41689676e-05  4.26915764e-05 ...  1.20009617e-03\n",
      "   1.23337080e-03  1.87500000e-03]]\n"
     ]
    }
   ],
   "source": [
    "# Part a)\n",
    "# Covariance matrix is computed according to the model given in the problem statement\n",
    "Cdata = np.zeros((np.size(frequency), np.size(frequency)))\n",
    "A = 0.025**2\n",
    "B = 2*A\n",
    "\n",
    "for i in range(np.size(frequency)):\n",
    "    for j in range(np.size(frequency)):\n",
    "        if(frequency[i] == frequency[j]):\n",
    "            Cdata[i, j] = A+B\n",
    "        else:\n",
    "            Cdata[i, j] = B*np.cos(0.3*(frequency[i]-frequency[j]))*np.exp(-abs(frequency[i]-frequency[j])/60)\n",
    "            \n",
    "print(\"The covariance matrix for this model is: \\n\" + str(Cdata))"
   ]
  },
  {
   "cell_type": "code",
   "execution_count": 46,
   "metadata": {},
   "outputs": [
    {
     "name": "stdout",
     "output_type": "stream",
     "text": [
      "The best fit parameters for part 1a using this method are the following.\n",
      "a_0 = -12795.91997022593, a_1 = -6974.055346959938, a_2 = -2192.7722161330657, a_3 = 168.18222655475284, a_4 = 14378.001089483709\n",
      "The best fit parameters for part 2a using this method are the following.\n",
      "a_0 = -9911.090763825334, a_1 = -5585.977419591062, a_2 = -1796.27303874322, a_3 = 145.81124539519314, a_4 = 11515.95919262483, c_0 = -0.4732047953109793\n",
      "c_1 = 1.0436875706587083, c_2 = 0.13274237249497065\n"
     ]
    }
   ],
   "source": [
    "# Part b)\n",
    "# First we compute the inverse of the covariance matrix for the data using svd so that we can use it in the chi-squared model\n",
    "Udata, Wdata, VTdata = np.linalg.svd(Cdata)\n",
    "\n",
    "ivar = 1/Wdata\n",
    "ivar[Wdata < np.amax(Wdata)*1e-14] = 0\n",
    "\n",
    "# We have 5 parameters and thus 5 columns for the linear fit\n",
    "Anew = np.ones((np.size(nu), 5))\n",
    "Anew[:, 0] = nu**(-2.5)\n",
    "Anew[:, 1] = nu**(-2.5)*np.log(nu)\n",
    "Anew[:, 2] = nu**(-2.5)*(np.log(nu))**2\n",
    "Anew[:, 3] = nu**(-4.5)\n",
    "Anew[:, 4] = nu**(-2)\n",
    "\n",
    "Ap = np.dot(VTdata, Anew)*np.sqrt(ivar)[:, np.newaxis]\n",
    "bp = np.dot(VTdata, temp)*np.sqrt(ivar)\n",
    "\n",
    "# To get model parameters, we use svd as before\n",
    "Umodel, Wmodel, VTmodel = np.linalg.svd(Ap)\n",
    "Winv = 1/Wmodel\n",
    "Winv[Wmodel < np.amax(Wmodel)*1e-14] = 0\n",
    "Vmodel = VTmodel.T\n",
    "\n",
    "a0_best, a1_best, a2_best, a3_best, a4_best = np.linalg.lstsq(Ap, bp, rcond=None)[0]\n",
    "print(\"The best fit parameters for part 1a using this method are the following.\")\n",
    "print(\"a_0 = {0}, a_1 = {1}, a_2 = {2}, a_3 = {3}, a_4 = {4}\" .format(a0_best, a1_best, a2_best, a3_best, a4_best))\n",
    "\n",
    "# This is the second part of the problem where we estimate the parameters according to the model in 2a. Accordingly there are\n",
    "# 6 linear parameters and two non-linear parameters c1 and c2. All calculations of linear parameters are done as above with\n",
    "# the covariance matrix for the data used\n",
    "A_new = np.ones((np.size(nu), 6))\n",
    "A_new[:, 0] = nu**(-2.5)\n",
    "A_new[:, 1] = nu**(-2.5)*np.log(nu)\n",
    "A_new[:, 2] = nu**(-2.5)*(np.log(nu))**2\n",
    "A_new[:, 3] = nu**(-4.5)\n",
    "A_new[:, 4] = nu**(-2)\n",
    "A_new[:, 5] = np.exp(-abs((nu-c_vals[0])/c_vals[1])**5)\n",
    "\n",
    "A_p = np.dot(VTdata, A_new)*np.sqrt(ivar)[:, np.newaxis]\n",
    "b_p = np.dot(VTdata, temp)*np.sqrt(ivar)\n",
    "\n",
    "U_model, W_model, VT_model = np.linalg.svd(A_p)\n",
    "W_inv = 1/W_model\n",
    "W_inv[W_model < np.amax(W_model)*1e-14] = 0\n",
    "V_model = VT_model.T\n",
    "\n",
    "a0_best, a1_best, a2_best, a3_best, a4_best, c0_best = np.linalg.lstsq(A_p, b_p, rcond=None)[0]\n",
    "print(\"The best fit parameters for part 2a using this method are the following.\")\n",
    "print(\"a_0 = {0}, a_1 = {1}, a_2 = {2}, a_3 = {3}, a_4 = {4}, c_0 = {5}\" .format(a0_best, a1_best, a2_best, a3_best, a4_best, c0_best))\n",
    "\n",
    "# Returns chi-squared for the current model which takes in arguments c1 and c2\n",
    "def chi2_corr(c):\n",
    "    return np.sum((temp-T_new(nu, a0_best, a1_best, a2_best, a3_best, a4_best, c0_best, c[0], c[1]))**2)\n",
    "\n",
    "# Minimization routine which calculates non-linear parameters c1 and c2\n",
    "r = minimize(chi2_corr, x0=[1.04, 0.134])\n",
    "print(\"c_1 = {0}, c_2 = {1}\" .format(r.x[0], r.x[1]))"
   ]
  },
  {
   "cell_type": "code",
   "execution_count": 58,
   "metadata": {},
   "outputs": [
    {
     "name": "stdout",
     "output_type": "stream",
     "text": [
      "The best fit parameters for this model using this method are the following.\n",
      "a_0 = -9911.09076382362, a_1 = -5585.977419590315, a_2 = -1796.273038742931, a_3 = 145.81124539515042, a_4 = 11515.95919262316, c_0 = -0.4732047953101009\n",
      "c_1 = 1.04368494716852, c_2 = 0.13262138122030137, c_3 = 5.1426939734955015\n",
      "The error on this estimate is: 0.07610761076107611, which is 0.7462486881659676 standard deviations from the mean\n"
     ]
    }
   ],
   "source": [
    "# Part c)\n",
    "# This part is very similar to the second half of the previous part, expect instead of taking the exponential to the 5th power\n",
    "#, we take a third non-linear parameter and compute the best fit value of that. All calculations are done in a similar\n",
    "# manner to the previous part of the problem\n",
    "c_new = [1.04, 0.134, 5]\n",
    "\n",
    "A_last = np.ones((np.size(nu), 6))\n",
    "A_last[:, 0] = nu**(-2.5)\n",
    "A_last[:, 1] = nu**(-2.5)*np.log(nu)\n",
    "A_last[:, 2] = nu**(-2.5)*(np.log(nu))**2\n",
    "A_last[:, 3] = nu**(-4.5)\n",
    "A_last[:, 4] = nu**(-2)\n",
    "A_last[:, 5] = np.exp(-abs((nu-c_new[0])/c_new[1])**(np.sqrt(c_new[2])**2))\n",
    "\n",
    "A_p = np.dot(VTdata, A_last)*np.sqrt(ivar)[:, np.newaxis]\n",
    "b_p = np.dot(VTdata, temp)*np.sqrt(ivar)\n",
    "\n",
    "U_model, W_model, VT_model = np.linalg.svd(A_p)\n",
    "W_inv = 1/W_model\n",
    "W_inv[W_model < np.amax(W_model)*1e-14] = 0\n",
    "V_model = VT_model.T\n",
    "\n",
    "a0_best, a1_best, a2_best, a3_best, a4_best, c0_best = np.linalg.lstsq(A_p, b_p, rcond=None)[0]\n",
    "print(\"The best fit parameters for this model using this method are the following.\")\n",
    "print(\"a_0 = {0}, a_1 = {1}, a_2 = {2}, a_3 = {3}, a_4 = {4}, c_0 = {5}\" .format(a0_best, a1_best, a2_best, a3_best, a4_best, c0_best))\n",
    "\n",
    "# Returns the temperature according to the current model\n",
    "def T_new(x, a0, a1, a2, a3, a4, c0, c1, c2, c3):\n",
    "    return a0*x**(-2.5)+a1*x**(-2.5)*np.log(x)+a2*x**(-2.5)*np.log(x)**2+a3*x**(-4.5)+a4*x**(-2)+c0*np.exp(-abs((nu-c1)/c2)**c3)\n",
    "\n",
    "# Returns the chi-squared value according to the current model, taking in parameters c1, c2, and c3\n",
    "def chi2_corr(c):\n",
    "    return np.sum((temp-T_new(nu, a0_best, a1_best, a2_best, a3_best, a4_best, c0_best, c[0], c[1], c[2]))**2)\n",
    "\n",
    "# Minimization routine that computes best fit values for the non-linear parameters\n",
    "r = minimize(chi2_corr, x0=c_new)\n",
    "print(\"c_1 = {0}, c_2 = {1}, c_3 = {2}\" .format(r.x[0], r.x[1], r.x[2]))\n",
    "\n",
    "# Returns the chi-squared value of the current model with input parameter c0\n",
    "def chi2_err(c0):\n",
    "    return np.sum((temp-T_new(nu, a0_best, a1_best, a2_best, a3_best, a4_best, c0, r.x[0], r.x[1], r.x[2]))**2)\n",
    "\n",
    "# Finds the value of c0 such that chi-squared = chi-squared_min + 1. This value of c0 represents the standard error in the\n",
    "# estimation. From this calculation, we are able to get the error in our c0 estimate and the number of standard deviations\n",
    "# we are from the reported actual value\n",
    "c0_err = np.linspace(c0_best, c0_best+1, 10000)\n",
    "chi2_min = chi2_err(c0_best)\n",
    "\n",
    "error_c0 = 0\n",
    "for i in c0_err:\n",
    "    current_c0 = i\n",
    "    if(chi2_err(current_c0) <= chi2_min+1):    \n",
    "        error_c0 = current_c0\n",
    "    else:\n",
    "        break\n",
    "        \n",
    "error_c0 = (error_c0-c0_best)/2\n",
    "num_stdev_c0 = abs(abs(c0_best)-0.53)/error_c0\n",
    "print(\"The error on this estimate is: \" + str(error_c0) + \", which is \" + str(num_stdev_c0) + \" standard deviations from the mean\")"
   ]
  }
 ],
 "metadata": {
  "kernelspec": {
   "display_name": "Python 3",
   "language": "python",
   "name": "python3"
  },
  "language_info": {
   "codemirror_mode": {
    "name": "ipython",
    "version": 3
   },
   "file_extension": ".py",
   "mimetype": "text/x-python",
   "name": "python",
   "nbconvert_exporter": "python",
   "pygments_lexer": "ipython3",
   "version": "3.7.3"
  }
 },
 "nbformat": 4,
 "nbformat_minor": 2
}
