{
 "cells": [
  {
   "cell_type": "markdown",
   "metadata": {},
   "source": [
    "# Quick example: use of optimize.minimize "
   ]
  },
  {
   "cell_type": "code",
   "execution_count": 7,
   "metadata": {},
   "outputs": [
    {
     "data": {
      "text/plain": [
       "   direc: array([[1., 0.],\n",
       "       [0., 1.]])\n",
       "     fun: 1.1251634507551158e-23\n",
       " message: 'Optimization terminated successfully.'\n",
       "    nfev: 123\n",
       "     nit: 5\n",
       "  status: 0\n",
       " success: True\n",
       "       x: array([9.52252575e-13, 7.07106781e-01])"
      ]
     },
     "execution_count": 7,
     "metadata": {},
     "output_type": "execute_result"
    }
   ],
   "source": [
    "import numpy as np\n",
    "from scipy import optimize\n",
    "\n",
    "x = np.linspace(-5, 5, 100)\n",
    "y = np.exp(-x**2)\n",
    "\n",
    "def gaussian(p, x): # p is a list: p[0] is the mean, p[1] is the standard deviation\n",
    "    \n",
    "    return np.exp(-(x - p[0])**2/(2.*p[1]**2))\n",
    "\n",
    "def chisq(p, x, y):   # arguments: list of parameters, extras needed for calculation\n",
    "    \n",
    "    return np.sum((gauss(p, x) - y)**2)\n",
    "\n",
    "p0 = [0.5, 0.5]  # Initial guess.  Note that the correct answer is [0, 1/sqrt(2)].\n",
    "method = 'Powell'\n",
    "optimize.minimize(chisq, p0, (x, y), method=method)"
   ]
  },
  {
   "cell_type": "code",
   "execution_count": 9,
   "metadata": {},
   "outputs": [
    {
     "data": {
      "text/plain": [
       "      fun: 1.0526005139352237e-12\n",
       " hess_inv: array([[ 4.02981711e-02, -3.58529640e-05],\n",
       "       [-3.58529640e-05,  2.75254107e-02]])\n",
       "      jac: array([1.39970803e-06, 9.00368149e-06])\n",
       "  message: 'Optimization terminated successfully.'\n",
       "     nfev: 44\n",
       "      nit: 9\n",
       "     njev: 11\n",
       "   status: 0\n",
       "  success: True\n",
       "        x: array([4.89537430e-08, 7.07107016e-01])"
      ]
     },
     "execution_count": 9,
     "metadata": {},
     "output_type": "execute_result"
    }
   ],
   "source": [
    "p0 = [0.5, 0.5]  # Initial guess\n",
    "optimize.minimize(chisq, p0, (x, y))"
   ]
  },
  {
   "cell_type": "code",
   "execution_count": null,
   "metadata": {},
   "outputs": [],
   "source": []
  }
 ],
 "metadata": {
  "kernelspec": {
   "display_name": "Python 3",
   "language": "python",
   "name": "python3"
  },
  "language_info": {
   "codemirror_mode": {
    "name": "ipython",
    "version": 3
   },
   "file_extension": ".py",
   "mimetype": "text/x-python",
   "name": "python",
   "nbconvert_exporter": "python",
   "pygments_lexer": "ipython3",
   "version": "3.7.3"
  }
 },
 "nbformat": 4,
 "nbformat_minor": 4
}
