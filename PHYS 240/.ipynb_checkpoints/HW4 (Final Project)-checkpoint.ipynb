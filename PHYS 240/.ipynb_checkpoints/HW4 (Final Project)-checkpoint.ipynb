{
 "cells": [
  {
   "cell_type": "markdown",
   "metadata": {},
   "source": [
    "# Homework 4/Final Project"
   ]
  },
  {
   "cell_type": "code",
   "execution_count": 1,
   "metadata": {},
   "outputs": [],
   "source": [
    "import numpy as np\n",
    "from scipy import optimize\n",
    "from scipy import interpolate\n",
    "from scipy import stats\n",
    "from astropy.io import fits\n",
    "import matplotlib.pyplot as plt\n",
    "from matplotlib import rc\n",
    "\n",
    "rc('font',**{'family':'serif','serif':['Palatino'],'size': 18})\n",
    "rc('text', usetex=True)\n",
    "rc('lines', **{'linewidth':3.0})\n",
    "rc('axes', **{'labelsize':22})"
   ]
  },
  {
   "cell_type": "markdown",
   "metadata": {},
   "source": [
    "## Part 1: Gaussian Process Regression to Fix Images"
   ]
  },
  {
   "cell_type": "markdown",
   "metadata": {},
   "source": [
    "### Part a)"
   ]
  },
  {
   "cell_type": "code",
   "execution_count": 3,
   "metadata": {},
   "outputs": [
    {
     "name": "stdout",
     "output_type": "stream",
     "text": [
      "The sum of the differences is: -58865.857164382935\n"
     ]
    },
    {
     "data": {
      "image/png": "[encoded data removed]",
      "text/plain": [
       "<Figure size 432x288 with 1 Axes>"
      ]
     },
     "metadata": {
      "needs_background": "light"
     },
     "output_type": "display_data"
    }
   ],
   "source": [
    "images = fits.open('image_cropped.fits')[0].data\n",
    "\n",
    "# Function for finding adjacent points. Used nested for loops to find coordinates and made sure input arrays and coordinates\n",
    "# are valid\n",
    "def find_adjacent_points(arr, coords):\n",
    "    if(arr.ndim != 2):\n",
    "        raise ValueError(\"Called find_adjacent_points with array of incorrect dimension. Must have two dimensions.\")\n",
    "    \n",
    "    if((coords[0] >= np.size(arr, axis=0)) or (coords[0] < 0) or (coords[1] >= np.size(arr, axis=1)) or (coords[1] < 0)):\n",
    "        raise ValueError(\"Coordinates of designated pixel value must be within bounds of arr.\")\n",
    "    \n",
    "    res = np.array([])\n",
    "    for dx in range(-1, 2):\n",
    "        for dy in range(-1, 2):\n",
    "            if((0 <= coords[0] + dx <= np.size(arr, axis=0) - 1) and (0 <= coords[1] + dy <= np.size(arr, axis=1) - 1)\n",
    "              and (dx != 0 or dy != 0)):\n",
    "                res = np.append(res, arr[coords[0] + dx, coords[1] + dy])\n",
    "    return res\n",
    "\n",
    "# Function that finds the median of surrounding points for randomly chosen point. Uses the previous function and returns\n",
    "# difference in median and actual pixel value.\n",
    "def find_median_diff(N):\n",
    "    rand_image = []\n",
    "    rand_pixel = []\n",
    "    rand_pix_val = []\n",
    "    neighbor_median = []\n",
    "    \n",
    "    for i in range(N):\n",
    "        rand_image.append(images[np.random.randint(0, np.size(images, axis=0))])\n",
    "        rand_pixel.append(np.random.randint(0, np.size(rand_image[i], axis=0), size=2))\n",
    "        rand_pix_val.append(rand_image[i][int(rand_pixel[i][0])][int(rand_pixel[i][1])])\n",
    "        neighbor_median.append(np.median(find_adjacent_points(rand_image[i], \n",
    "                                                              [int(rand_pixel[i][0]), int(rand_pixel[i][1])])))\n",
    "    differences = np.array(neighbor_median)-np.array(rand_pix_val)\n",
    "    return differences\n",
    "\n",
    "# The following lines show the results of median substitution for random points.\n",
    "N = 10000\n",
    "differences = find_median_diff(N)\n",
    "sum_diff = np.sum(differences)\n",
    "print(\"The sum of the differences is: \" + str(sum_diff))\n",
    "\n",
    "plt.hist(differences, bins=np.arange(np.amin(differences), np.amax(differences), 10), density=True)\n",
    "plt.xlabel(\"Median Difference\")\n",
    "plt.ylabel(\"dp/dw\")\n",
    "plt.show()"
   ]
  },
  {
   "cell_type": "markdown",
   "metadata": {},
   "source": [
    "### Part b)"
   ]
  },
  {
   "cell_type": "code",
   "execution_count": 8,
   "metadata": {
    "scrolled": false
   },
   "outputs": [
    {
     "name": "stdout",
     "output_type": "stream",
     "text": [
      "The sum of the residuals is: -644246.6932054458\n"
     ]
    },
    {
     "data": {
      "image/png": "[encoded data removed]",
      "text/plain": [
       "<Figure size 432x288 with 1 Axes>"
      ]
     },
     "metadata": {
      "needs_background": "light"
     },
     "output_type": "display_data"
    }
   ],
   "source": [
    "# Covariance function for the pixels.\n",
    "def K(x1, x2, y1, y2, a, h):\n",
    "    _x1, _x2 = np.meshgrid(x1, x2)\n",
    "    _y1, _y2 = np.meshgrid(y1, y2)\n",
    "    return a**2*np.exp(-((_x1-_x2)**2+(_y1-_y2)**2)/(2*h**2))\n",
    "\n",
    "# This function generates residuals from the randomly sampled points. Finds neighboring grid with pixel of focus centered in\n",
    "# grid. The neighboring grid is calculated according to the size parameter, and the a and h hyperparameters are tunable to\n",
    "# achieve best results. N denotes the number of samples obtained.\n",
    "def generate_residuals(N, size, a, h):\n",
    "    residuals = np.zeros(N)\n",
    "    \n",
    "    sig_data = 1\n",
    "    Cov_data = np.identity(size**2-1)*sig_data**2\n",
    "    \n",
    "    for i in range(N):\n",
    "        rand_img = np.random.randint(0, np.size(images, axis=0))\n",
    "        rand_coords = np.random.randint(size/2, np.size(images, axis=1)-(size+1)/2, 2)\n",
    "        rand_pix_val = images[rand_img, rand_coords[0], rand_coords[1]]\n",
    "\n",
    "        pnt_range_x = np.arange(rand_coords[0]-int(size/2), rand_coords[0]+int((size+1)/2))\n",
    "        pnt_range_y = np.arange(rand_coords[1]-int(size/2), rand_coords[1]+int((size+1)/2))\n",
    "        indices = np.meshgrid(pnt_range_x, pnt_range_y, indexing='ij')\n",
    "        d = np.sqrt((indices[0]-rand_coords[0])**2+(indices[1]-rand_coords[1])**2)\n",
    "        dist = d[d != 0]\n",
    "\n",
    "        pnts = images[rand_img, pnt_range_x[:,None], pnt_range_y[None,:]]\n",
    "        pnts_flat = np.ravel(pnts)\n",
    "        surrounding_pnts = np.delete(pnts_flat, int((size**2-1)/2))\n",
    "        \n",
    "        Kinv = np.linalg.inv(K(np.delete(indices[0], int(size**2/2)), np.delete(indices[0], int(size**2/2)),\n",
    "                               np.delete(indices[1], int(size**2/2)), np.delete(indices[1], int(size**2/2)),\n",
    "                               a, h) + Cov_data)\n",
    "        \n",
    "        pnts_val_mean = np.linalg.multi_dot([K(np.delete(indices[0], int(size**2/2)), \n",
    "                                            np.delete(indices[0], int(size**2/2)), np.delete(indices[1], int(size**2/2)),\n",
    "                                            np.delete(indices[1], int(size**2/2)), a, h), Kinv, surrounding_pnts])\n",
    "\n",
    "        residuals[i] = pnts_val_mean[0]-rand_pix_val\n",
    "    return residuals\n",
    "\n",
    "# Below are the results arising from Gaussian Process Regression used to estimate center points.\n",
    "a = 1\n",
    "h = 1\n",
    "residuals = generate_residuals(10000, 9, a, h)\n",
    "sum_resid = np.sum(residuals)\n",
    "print(\"The sum of the residuals is: \" + str(sum_resid))\n",
    "\n",
    "plt.hist(residuals, bins=np.arange(np.amin(residuals), np.amax(residuals), 10), density=True)\n",
    "plt.xlabel(\"Residuals\")\n",
    "plt.ylabel(\"dp/dw\")\n",
    "plt.show()"
   ]
  },
  {
   "cell_type": "markdown",
   "metadata": {},
   "source": [
    "### Part c)"
   ]
  },
  {
   "cell_type": "code",
   "execution_count": 11,
   "metadata": {},
   "outputs": [
    {
     "name": "stdout",
     "output_type": "stream",
     "text": [
      "The sum of the residuals is: -56103.49183302983\n"
     ]
    },
    {
     "data": {
      "image/png": "[encoded data removed]",
      "text/plain": [
       "<Figure size 432x288 with 1 Axes>"
      ]
     },
     "metadata": {
      "needs_background": "light"
     },
     "output_type": "display_data"
    }
   ],
   "source": [
    "# Here are the resulting residuals from varying the hyperparameters. I found that varying h higher than 5 did not yield\n",
    "# distinguishable results so opted to choose that. The same can be said for a. The results of the variation are shown below.\n",
    "a = 10\n",
    "h = 5\n",
    "residuals = generate_residuals(10000, 9, a, h)\n",
    "sum_resid = np.sum(residuals)\n",
    "print(\"The sum of the residuals is: \" + str(sum_resid))\n",
    "\n",
    "plt.hist(residuals, bins=np.arange(np.amin(residuals), np.amax(residuals), 10), density=True)\n",
    "plt.xlabel(\"Residuals\")\n",
    "plt.ylabel(\"dp/dw\")\n",
    "plt.show()"
   ]
  },
  {
   "cell_type": "markdown",
   "metadata": {},
   "source": [
    "### Part d)"
   ]
  },
  {
   "cell_type": "code",
   "execution_count": 12,
   "metadata": {
    "scrolled": true
   },
   "outputs": [
    {
     "name": "stdout",
     "output_type": "stream",
     "text": [
      "The sum of the residuals is: -40076.236375357796\n"
     ]
    },
    {
     "data": {
      "image/png": "[encoded data removed]",
      "text/plain": [
       "<Figure size 432x288 with 1 Axes>"
      ]
     },
     "metadata": {
      "needs_background": "light"
     },
     "output_type": "display_data"
    }
   ],
   "source": [
    "# This time, I varied grid size and showed the results below.\n",
    "residuals = generate_residuals(10000, 3, a, h)\n",
    "sum_resid = np.sum(residuals)\n",
    "print(\"The sum of the residuals is: \" + str(sum_resid))\n",
    "\n",
    "plt.hist(residuals, bins=np.arange(np.amin(residuals), np.amax(residuals), 10), density=True)\n",
    "plt.xlabel(\"Residuals\")\n",
    "plt.ylabel(\"dp/dw\")\n",
    "plt.show()"
   ]
  },
  {
   "cell_type": "markdown",
   "metadata": {},
   "source": [
    "> As seen above, we get that the smallest patch that produces indistinguishable results from the 9x9 patch is a 3x3 patch. It reduces the sum of the residuals and greatly cuts down computational time."
   ]
  },
  {
   "cell_type": "markdown",
   "metadata": {},
   "source": [
    "### Part e)"
   ]
  },
  {
   "cell_type": "code",
   "execution_count": 16,
   "metadata": {},
   "outputs": [
    {
     "name": "stdout",
     "output_type": "stream",
     "text": [
      "The ratio in the summed residuals from Median Substitution to Gaussian Process Regression is given by: 1.468846939943157 which shows that the Gaussian Process Regression model performs better than the median substition by a factor of around 1.5. The ideal performance factor for Gaussian Process Regression with respect to Median Substition is around 3, showing that our ratio is slightly worse than ideal.\n"
     ]
    }
   ],
   "source": [
    "# Below is a brief analysis of the effectiveness of Gaussian Process Regression over Median Substitution. I used the ratio\n",
    "# of the two to determine the effectiveness of GPR over the other. The results were printed.\n",
    "abs_resid_median_sub = abs(sum_diff)\n",
    "abs_resid_gpr = abs(sum_resid)\n",
    "ratio = abs_resid_median_sub/abs_resid_gpr\n",
    "print(\"The ratio in the summed residuals from Median Substitution to Gaussian Process Regression is given by: \" + str(ratio)\n",
    "     + \" which shows that the Gaussian Process Regression model performs better than the median substition by a factor of \"\n",
    "     \"around \" + str(round(ratio, 1)) + \". The ideal performance factor for Gaussian Process Regression with respect to \"\n",
    "     \"Median Substition is around 3, showing that our ratio is slightly worse than ideal.\")"
   ]
  },
  {
   "cell_type": "markdown",
   "metadata": {},
   "source": [
    "## Part 2: A Mixture Model and Bootstrapping, Redux"
   ]
  },
  {
   "cell_type": "markdown",
   "metadata": {},
   "source": [
    "### Part a)\n",
    "> For this mixture model, we will use a bivariate Gaussian distribution in order to estimate $\\Delta\\dot{x}$, $\\Delta\\dot{y}$, $a$, and $b$. With this in mind, we get the likelihood of the two dimensional mixture model as the following:\n",
    "> $$\\mathcal{L_i}=\\frac{g}{2\\pi\\sqrt{(a^2(\\sigma_{x,i}^{\\prime2}+\\sigma_{x,i}^{\\prime\\prime2}+2b^2)(a^2(\\sigma_{y,i}^{\\prime2}+\\sigma_{y,i}^{\\prime\\prime2})+2b^2)}}exp\\biggr(-\\frac{1}{2}\\biggr(\\frac{(\\dot{x_i^{\\prime}}-\\dot{x_i^{\\prime\\prime}}-\\Delta\\dot{x})^2}{a^2(\\sigma_{x,i}^{\\prime2}+\\sigma_{x,i}^{\\prime\\prime2})+2b^2}+\\frac{\\dot{y_i^{\\prime}}-\\dot{y_i^{\\prime\\prime}}-\\Delta\\dot{y}}{a^2(\\sigma_{y,i}^{\\prime2}+\\sigma_{y,i}^{\\prime\\prime2})+2b^2})\\biggr)+\\frac{1-g}{2\\pi\\sqrt{(4a^2(\\sigma_{x,i}^{\\prime2}+\\sigma_{x,i}^{\\prime\\prime2})+2b^2)(4a^2(\\sigma_{y,i}^{\\prime2}+\\sigma_{y,i}^{\\prime\\prime2})+2b^2)}}exp\\biggr(-\\frac{1}{2}\\biggr(\\frac{(\\dot{x_i^{\\prime}}-\\dot{x_i^{\\prime\\prime}}-\\Delta\\dot{x})^2}{4a^2(\\sigma_{x,i}^{\\prime2}+\\sigma_{x,i}^{\\prime\\prime2})+2b^2}+\\frac{\\dot{y_i^{\\prime}}-\\dot{y_i^{\\prime\\prime}}-\\Delta\\dot{y}}{4a^2(\\sigma_{y,i}^{\\prime2}+\\sigma_{y,i}^{\\prime\\prime2})+2b^2})\\biggr)$$"
   ]
  },
  {
   "cell_type": "code",
   "execution_count": 17,
   "metadata": {},
   "outputs": [],
   "source": [
    "# Below is the log likelihood of the Gaussian Mixture Model given the bivariate Gaussian given above. Parameters given are\n",
    "# the parameters of interest (\\delta\\dot{x}, \\delta\\dot{y}, a, and b), g (probability of a non-outlier), and the remaining\n",
    "# parameters of the function are the data for the model along with their errors.\n",
    "def log_like_2D(p, g, ra1, ra1_errs, dec1, dec1_errs, ra2, ra2_errs, dec2, dec2_errs):\n",
    "    A_good = 1/(2*np.pi*np.sqrt((p[2]**2*(ra1_errs**2+ra2_errs**2)+2*p[3]**2)*(p[2]**2*(ra1_errs**2+ra2_errs**2)+2*p[3]**2)))\n",
    "    gauss_ra_good = np.exp(-0.5*(ra1-ra2-p[0])**2/(p[2]**2*(ra1_errs**2+ra2_errs**2)+2*p[3]**2))\n",
    "    gauss_dec_good = np.exp(-0.5*(dec1-dec2-p[1])**2/(p[2]**2*(ra1_errs**2+ra2_errs**2)+2*p[3]**2))\n",
    "    good = g*A_good*gauss_ra_good*gauss_dec_good\n",
    "    \n",
    "    A_bad = 1/(2*np.pi*np.sqrt((4*p[2]**2*(ra1_errs**2+ra2_errs**2)+2*p[3]**2)*(4*p[2]**2*(ra1_errs**2+ra2_errs**2)+2*p[3]**2)))\n",
    "    gauss_ra_bad = np.exp(-0.5*(ra1-ra2-p[0])**2/(4*p[2]**2*(ra1_errs**2+ra2_errs**2)+2*p[3]**2))\n",
    "    gauss_dec_bad = np.exp(-0.5*(dec1-dec2-p[1])**2/(4*p[2]**2*(ra1_errs**2+ra2_errs**2)+2*p[3]**2))\n",
    "    bad = (1-g)*A_bad*gauss_ra_bad*gauss_dec_bad\n",
    "    \n",
    "    return -np.sum(np.log(good+bad))"
   ]
  },
  {
   "cell_type": "markdown",
   "metadata": {},
   "source": [
    "### Part b)"
   ]
  },
  {
   "cell_type": "code",
   "execution_count": 18,
   "metadata": {
    "scrolled": true
   },
   "outputs": [
    {
     "data": {
      "image/png": "[encoded data removed]",
      "text/plain": [
       "<Figure size 432x288 with 1 Axes>"
      ]
     },
     "metadata": {
      "needs_background": "light"
     },
     "output_type": "display_data"
    },
    {
     "name": "stdout",
     "output_type": "stream",
     "text": [
      "The approximate probability of a good value is: 0.8910891089108911\n"
     ]
    }
   ],
   "source": [
    "# Below is the code that reads in the data from the file, and plots them to get a good visualization of proportion of\n",
    "# outliers\n",
    "filepath = r\"C:\\Users\\Rohit Penumarti\\Desktop\\UCSB\\Spring 2020\\PHYS 240\\velocities.dat\"\n",
    "data = np.loadtxt(filepath)\n",
    "\n",
    "x_dot1 = data[:, 0]\n",
    "x1_errs = data[:, 1]\n",
    "y_dot1 = data[:, 2]\n",
    "y1_errs = data[:, 3]\n",
    "x_dot2 = data[:, 4]\n",
    "x2_errs = data[:, 5]\n",
    "y_dot2 = data[:, 6]\n",
    "y2_errs = data[:, 7]\n",
    "\n",
    "plt.plot(x_dot1, y_dot1, '.')\n",
    "plt.plot(x_dot2, y_dot2, '.')\n",
    "plt.show()\n",
    "\n",
    "# Here I estimate the proportion of outliers for the model. I estimate that non-outlier proper motions are within the range\n",
    "# -50 to 50. The priors are then calculated using this amount. I feel while this is not perfectly accurate, they produce\n",
    "# better, more robust priors than using 0.5 for both.\n",
    "approx_non_out1 = x_dot1[np.logical_and(np.logical_and(y_dot1>=-50, y_dot1<=50), np.logical_and(x_dot1>=-50, x_dot1<=50))]\n",
    "approx_non_out2 = x_dot2[np.logical_and(np.logical_and(y_dot2>=-50, y_dot2<=50), np.logical_and(x_dot2>=-50, x_dot2<=50))]\n",
    "approx_non_out = np.average([np.size(approx_non_out1), np.size(approx_non_out2)])\n",
    "g = approx_non_out/np.size(x_dot1)\n",
    "print(\"The approximate probability of a good value is: \" + str(g))"
   ]
  },
  {
   "cell_type": "code",
   "execution_count": 19,
   "metadata": {
    "scrolled": true
   },
   "outputs": [
    {
     "name": "stdout",
     "output_type": "stream",
     "text": [
      "The estimated parameter values for the 2D mixture model are: [ 7.00007324e-02 -1.48471025e-01  4.08973067e+00 -8.05328199e-09]\n"
     ]
    }
   ],
   "source": [
    "# Minimization of log-likelihood to achieve the best fit parameters.\n",
    "res = optimize.minimize(log_like_2D, x0=[0.07, -0.15, 4, -8], \n",
    "                        args=(g, x_dot1, x1_errs, y_dot1, y1_errs, x_dot2, x2_errs, y_dot2, y2_errs,)).x\n",
    "print(\"The estimated parameter values for the 2D mixture model are: \" + str(res))"
   ]
  },
  {
   "cell_type": "markdown",
   "metadata": {},
   "source": [
    "### Part c)"
   ]
  },
  {
   "cell_type": "code",
   "execution_count": 20,
   "metadata": {},
   "outputs": [
    {
     "name": "stdout",
     "output_type": "stream",
     "text": [
      "Using a bootstrap resampling method, I obtain standard errors of: [0.02112154 0.02323368 0.49537456 0.11347682] for each respective parameter.\n"
     ]
    }
   ],
   "source": [
    "# Here is a bootstrap resampling routine where I produce samples of the data and sample priors from the given data. I run\n",
    "# this routine for 10% of the total number of data points to achieve my standard deviations.\n",
    "n_bootstrap = int(np.size(x_dot1)/10)\n",
    "model = []\n",
    "bootstrap_errs = np.zeros(4)\n",
    "\n",
    "for i in range(n_bootstrap):\n",
    "    i_sample = np.random.randint(0, len(x_dot1), len(x_dot1))\n",
    "    ra1_sample = x_dot1[i_sample]\n",
    "    ra1_err_sample = x1_errs[i_sample]\n",
    "    dec1_sample = y_dot1[i_sample]\n",
    "    dec1_err_sample = y1_errs[i_sample]\n",
    "    ra2_sample = x_dot2[i_sample]\n",
    "    ra2_err_sample = x2_errs[i_sample]\n",
    "    dec2_sample = y_dot2[i_sample]\n",
    "    dec2_err_sample = y2_errs[i_sample]\n",
    "    \n",
    "    approx_non_out1_sample = ra1_sample[np.logical_and(np.logical_and(dec1_sample>=-50, dec1_sample<=50), \n",
    "                                                   np.logical_and(ra1_sample>=-50, ra1_sample<=50))]\n",
    "    approx_non_out2_sample = ra2_sample[np.logical_and(np.logical_and(dec2_sample>=-50, dec2_sample<=50), \n",
    "                                                   np.logical_and(ra2_sample>=-50, ra2_sample<=50))]\n",
    "    approx_non_out_sample = np.average([np.size(approx_non_out1_sample), np.size(approx_non_out2_sample)])\n",
    "    g_sample = np.size(approx_non_out_sample)/np.size(ra1_sample)\n",
    "    \n",
    "    model.append(optimize.minimize(log_like_2D, x0=[0.07, -0.15, 4, -8], \n",
    "                                 args=(g_sample, ra1_sample, ra1_err_sample, dec1_sample, dec1_err_sample, ra2_sample, \n",
    "                                       ra2_err_sample, dec2_sample, dec2_err_sample)).x)\n",
    "\n",
    "# This block of code prints out the results from the bootstrapping routine\n",
    "model_arr = np.array(model)\n",
    "for i in range(4):\n",
    "    bootstrap_errs[i] = np.std(model_arr[:, i])\n",
    "print(\"Using a bootstrap resampling method, I obtain standard errors of: \" + str(bootstrap_errs) \n",
    "      + \" for each respective parameter.\")"
   ]
  },
  {
   "cell_type": "markdown",
   "metadata": {},
   "source": [
    "## Part 3: Measure your Evidence, Watch your Assumptions"
   ]
  },
  {
   "cell_type": "code",
   "execution_count": 25,
   "metadata": {
    "scrolled": false
   },
   "outputs": [
    {
     "name": "stdout",
     "output_type": "stream",
     "text": [
      "The significance of the black hole in terms of the BIC is: -1.6607312068216498\n",
      "The significance of the black hole in terms of the AIC is: -2.60517018598809\n",
      "The strength of the evidence in favor of the black hole using the BIC is: 0.19000000000000022\n",
      "The strength of the evidence in favor of the black hole using the AIC is: 0.0738905609893066\n",
      "It is clear in both scenarios, that the model with no black hole is preferred in either criterion\n"
     ]
    }
   ],
   "source": [
    "# Here I am assuming that the sample size is 19, the likelihood ratio of a black hole is 10 versus none which is one, and\n",
    "# that the number of parameters for the models with black holes as 3 and two for the ones without since the black hole is a\n",
    "# free parameter. I then measure the BIC and AIC using the formulas on wikipedia and find the strength of each.\n",
    "N = 19\n",
    "max_like_black_hole = 1\n",
    "max_like_no_black_hole = 1/10\n",
    "k_black_hole = 3\n",
    "k_no_black_hole = 2\n",
    "\n",
    "BIC_black_hole = k_black_hole*np.log(N)-2*np.log(max_like_black_hole)\n",
    "AIC_black_hole = 2*(k_black_hole-np.log(max_like_black_hole))\n",
    "\n",
    "BIC_no_black_hole = k_no_black_hole*np.log(N)-2*np.log(max_like_no_black_hole)\n",
    "AIC_no_black_hole = 2*(k_no_black_hole-np.log(max_like_no_black_hole))\n",
    "\n",
    "delta_BIC = BIC_black_hole-BIC_no_black_hole\n",
    "delta_AIC = AIC_black_hole-AIC_no_black_hole\n",
    "\n",
    "print(\"The significance of the black hole in terms of the BIC is: \" + str(delta_BIC))\n",
    "print(\"The significance of the black hole in terms of the AIC is: \" + str(delta_AIC))\n",
    "\n",
    "strength_BIC = np.exp(delta_BIC)\n",
    "strength_AIC = np.exp(delta_AIC)\n",
    "\n",
    "print(\"The strength of the evidence in favor of the black hole using the BIC is: \" + str(strength_BIC))\n",
    "print(\"The strength of the evidence in favor of the black hole using the AIC is: \" + str(strength_AIC))\n",
    "print(\"It is clear in both scenarios, that the model with no black hole is preferred in either criterion\")"
   ]
  },
  {
   "cell_type": "markdown",
   "metadata": {},
   "source": [
    "> The probability that the authors will assign to the black hole having zero mass will be zero since they are using a lognormal distribution and that will cause zero to have a far lower probability of occuring. Instead of fitting using a lognormal distribution, they should have used the posterior probability distribution that they calculated in Figure 4b). Using that would be far more accurate than the lognormal and would give a greater possibility to zero being the mass."
   ]
  }
 ],
 "metadata": {
  "kernelspec": {
   "display_name": "Python 3",
   "language": "python",
   "name": "python3"
  },
  "language_info": {
   "codemirror_mode": {
    "name": "ipython",
    "version": 3
   },
   "file_extension": ".py",
   "mimetype": "text/x-python",
   "name": "python",
   "nbconvert_exporter": "python",
   "pygments_lexer": "ipython3",
   "version": "3.7.3"
  }
 },
 "nbformat": 4,
 "nbformat_minor": 2
}
