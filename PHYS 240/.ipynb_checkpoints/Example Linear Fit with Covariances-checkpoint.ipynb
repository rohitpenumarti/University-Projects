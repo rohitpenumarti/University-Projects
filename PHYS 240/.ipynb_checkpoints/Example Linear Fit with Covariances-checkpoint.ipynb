{
 "cells": [
  {
   "cell_type": "markdown",
   "metadata": {},
   "source": [
    "# Example of Linear Fit with Errors, Covariances"
   ]
  },
  {
   "cell_type": "markdown",
   "metadata": {},
   "source": [
    "Here we'll fit the linear model $y_i = a x_i + b + \\delta_i$, where $x_i$ is the time or position of each measurement, $y_i$ is the measurement value, and $\\delta_i$ is its error.  We will assume the $\\delta_i$ are drawn from Gaussian distributions of zero mean and $\\sigma_i^2$ variance.  The first thing we'll do is to generate sample data.  I'll take the $x_i$ to be uniformly distributed between 0 and 1, and I will take $a=1$ and $b=0$ for the correct model.  I will use a different variance for each point, with the variance uniformly distributed between 0.5 and 1.  I will use 100 points."
   ]
  },
  {
   "cell_type": "code",
   "execution_count": 1,
   "metadata": {},
   "outputs": [],
   "source": [
    "import numpy as np\n",
    "\n",
    "n = 100\n",
    "a_true = 1\n",
    "b_true = 0\n",
    "var = np.random.rand(n)*0.5 + 0.5  # variance for each x\n",
    "\n",
    "x = np.random.rand(n)\n",
    "y = a_true*x + b_true + np.random.randn(n)*np.sqrt(var)"
   ]
  },
  {
   "cell_type": "markdown",
   "metadata": {},
   "source": [
    "Now we will fit the linear model.  We can write down $\\chi^2$ and optimize:\n",
    "\n",
    "$\\chi^2 = \\sum \\frac{(ax_i + b - y_i)^2}{\\sigma_i^2}$\n",
    "\n",
    "$\\frac{\\partial \\chi^2}{\\partial a} = 2 \\sum \\frac{x_i(ax_i + b - y_i)}{\\sigma_i^2} = 0$\n",
    "\n",
    "$\\frac{\\partial \\chi^2}{\\partial b} = 2 \\sum \\frac{(ax_i + b - y_i)}{\\sigma_i^2} = 0$\n",
    "\n",
    "To make this simpler to write, we will define\n",
    "\n",
    "$S = \\sum \\frac{1}{\\sigma_i^2}$ $\\qquad$ $S_x = \\sum \\frac{x_i}{\\sigma_i^2}$ $\\qquad$ $S_y = \\sum \\frac{y_i}{\\sigma_i^2}$ $\\qquad$ $S_{xy} = \\sum \\frac{x_i y_i}{\\sigma_i^2}$ $\\qquad$ $S_{xx} = \\sum \\frac{x_i^2}{\\sigma_i^2}$\n",
    "\n",
    "With these definitions, the $\\chi^2$ derivatives become\n",
    "\n",
    "$\\frac{\\partial \\chi^2}{\\partial a} = 2 \\left( a S_{xx} + b S_x - S_{xy} \\right) = 0$\n",
    "\n",
    "$\\frac{\\partial \\chi^2}{\\partial b} = 2 \\left( a S_{x} + b S - S_{y} \\right) = 0$\n",
    "\n",
    "and the solution to the linear system is \n",
    "\n",
    "$\\tilde{a} = \\frac{S S_{xy} - S_x S_y}{S S_{xx} - S_x^2}$\n",
    "\n",
    "$\\tilde{b} = \\frac{S_{xx} S_{y} - S_x S_{xy}}{S S_{xx} - S_x^2}$.\n",
    "\n",
    "We'll get this numerically in three ways.  First, directly from the argument above."
   ]
  },
  {
   "cell_type": "code",
   "execution_count": 2,
   "metadata": {},
   "outputs": [
    {
     "name": "stdout",
     "output_type": "stream",
     "text": [
      "a = 0.80726, b = -0.02262\n"
     ]
    }
   ],
   "source": [
    "S = np.sum(1/var)\n",
    "Sx = np.sum(x/var)\n",
    "Sxx = np.sum(x**2/var)\n",
    "Sy  = np.sum(y/var)\n",
    "Sxy = np.sum(x*y/var)\n",
    "\n",
    "a_best = (S*Sxy - Sx*Sy)/(S*Sxx - Sx**2)\n",
    "b_best = (Sxx*Sy - Sx*Sxy)/(S*Sxx - Sx**2)\n",
    "print('a = %.5f, b = %.5f' % (a_best, b_best))"
   ]
  },
  {
   "cell_type": "markdown",
   "metadata": {},
   "source": [
    "Next, we will construct the matrix of coefficients describing our linear model, along with the solution vector (our measurements) that we would like to approximate."
   ]
  },
  {
   "cell_type": "code",
   "execution_count": 3,
   "metadata": {},
   "outputs": [
    {
     "name": "stdout",
     "output_type": "stream",
     "text": [
      "a = 0.80726, b = -0.02262\n"
     ]
    }
   ],
   "source": [
    "A = np.ones((n, 2))   # We have n measurements, and two parameters\n",
    "A[:, 0] = x           # Coefficient of a is x in y=a*x+b\n",
    "A[:, 1] = 1           # Coefficient of b is 1 in y=a*x+b\n",
    "b = y.copy()          # The measurements are the other side of the equation\n",
    "A /= np.sqrt(var[:, np.newaxis])  # Normalize both A and b by the standard deviation of the measurement!\n",
    "b /= np.sqrt(var)\n",
    "a_best, b_best = np.linalg.lstsq(A, b, rcond=None)[0]\n",
    "print('a = %.5f, b = %.5f' % (a_best, b_best))"
   ]
  },
  {
   "cell_type": "markdown",
   "metadata": {},
   "source": [
    "Finally, we'll do it with the SVD of A directly.  We need to do a little extra work to place the 1-D array of weights inside the appropriate non-square diagonal matrix ($2\\times n$ in this case)"
   ]
  },
  {
   "cell_type": "code",
   "execution_count": 4,
   "metadata": {},
   "outputs": [
    {
     "name": "stdout",
     "output_type": "stream",
     "text": [
      "a = 0.80726, b = -0.02262\n"
     ]
    }
   ],
   "source": [
    "U, W, VT = np.linalg.svd(A)\n",
    "Winv = 1/W\n",
    "Winv[W < np.amax(W)*1e-14] = 0\n",
    "Winv_full = np.zeros(A.T.shape)\n",
    "Winv_full[:len(W), :len(W)] = np.diag(Winv)\n",
    "\n",
    "a_best, b_best = np.linalg.multi_dot([VT.T, Winv_full, U.T, b])\n",
    "print('a = %.5f, b = %.5f' % (a_best, b_best))"
   ]
  },
  {
   "cell_type": "markdown",
   "metadata": {},
   "source": [
    "Now for the covariance of the best-fit model parameters $a$ and $b$.  We'll do the covariance two ways.  First, we'll take the second derivative of $\\chi^2$ and invert the matrix.  Then we'll use the SVD.  The second derivatives are (keeping the definitions of $S$, $S_x$, $S_y$, $S_{xx}$, and $S_{xy}$),\n",
    "\n",
    "$\\frac{\\partial^2 \\chi^2}{\\partial a^2} = 2S_{xx}$\n",
    "\n",
    "$\\frac{\\partial^2 \\chi^2}{\\partial b^2} = 2S$\n",
    "\n",
    "$\\frac{\\partial^2 \\chi^2}{\\partial a \\partial b} = \\frac{\\partial^2 \\chi^2}{\\partial b \\partial a} = 2S_{x}$\n",
    "\n",
    "for an inverse covariance matrix of \n",
    "\n",
    "${\\bf C}^{-1} = \\begin{bmatrix} S_{xx} & S_x \\\\ S_x & S \\end{bmatrix}$\n",
    "\n",
    "or a covariance matrix of\n",
    "\n",
    "${\\bf C} = \\frac{1}{S S_{xx} - S_x^2} \\begin{bmatrix} S & -S_x \\\\ -S_x & S_{xx} \\end{bmatrix}$.\n",
    "\n",
    "__Importantly, please note that__\n",
    "\n",
    "$\\left( \\frac{1}{2} \\frac{\\partial^2 \\chi^2}{\\partial a^2} \\right)^{-1} = \\frac{1}{S_{xx}} \\neq \\sigma^2_a$\n",
    "$\\qquad$and$\\qquad$\n",
    "$\\left( \\frac{1}{2} \\frac{\\partial^2 \\chi^2}{\\partial b^2} \\right)^{-1} = \\frac{1}{S} \\neq \\sigma^2_b$\n",
    "\n",
    "These equalities only hold if the covariance matrix is diagonal.  You could still compute $\\sigma_a^2$ by\n",
    "\n",
    "$\\sigma^2_a = \\sum \\left( \\frac{\\partial \\tilde{a}}{\\partial y_i} \\right)^2 \\sigma^2_i$,\n",
    "\n",
    "but it takes a bit more effort than the approach given above.  It's still just a few lines, so try it if you want to convince yourself!  \n",
    "\n",
    "The covariance is also sometimes given as a correlation coefficient $\\in U[-1, 1]$, defined as \n",
    "\n",
    "$c_{a,b} = \\frac{{\\rm Cov}({a,b})}{\\sigma_a \\sigma_b}$."
   ]
  },
  {
   "cell_type": "code",
   "execution_count": 5,
   "metadata": {},
   "outputs": [
    {
     "name": "stdout",
     "output_type": "stream",
     "text": [
      "var_a = 0.09621, var_b = 0.02538, covar_ab = -0.04195, corr_ab = -0.84901\n"
     ]
    }
   ],
   "source": [
    "var_a = S/(S*Sxx - Sx**2)\n",
    "var_b = Sxx/(S*Sxx - Sx**2)\n",
    "cov_ab = -Sx/(S*Sxx - Sx**2)\n",
    "corr_ab = cov_ab/np.sqrt(var_a*var_b)\n",
    "\n",
    "print('var_a = %.5f, var_b = %.5f, covar_ab = %.5f, corr_ab = %.5f' % (var_a, var_b, cov_ab, corr_ab))"
   ]
  },
  {
   "cell_type": "markdown",
   "metadata": {},
   "source": [
    "Now we'll get the same answer from the SVD that we did previously."
   ]
  },
  {
   "cell_type": "code",
   "execution_count": 6,
   "metadata": {},
   "outputs": [
    {
     "name": "stdout",
     "output_type": "stream",
     "text": [
      "[[ 0.0962103  -0.04195122]\n",
      " [-0.04195122  0.02537707]]\n"
     ]
    }
   ],
   "source": [
    "V = VT.T\n",
    "cov = np.sum(V[np.newaxis, :, :]*V[:, np.newaxis, :]*Winv**2, axis=-1)\n",
    "print(cov)"
   ]
  },
  {
   "cell_type": "markdown",
   "metadata": {},
   "source": [
    "Finally, let's see what happens if I introduce a correlated error term to all of the measurements.  This affects all measurements equally, so it should not matter for our measurement of $a$ (the slope of the line, which doesn't care about an offset affecting all points), and should fall entirely on $b$."
   ]
  },
  {
   "cell_type": "code",
   "execution_count": 7,
   "metadata": {},
   "outputs": [
    {
     "name": "stdout",
     "output_type": "stream",
     "text": [
      "a = 0.80726, b = -0.02262\n",
      "[[ 0.0962103  -0.04195122]\n",
      " [-0.04195122  1.02537707]]\n"
     ]
    }
   ],
   "source": [
    "Cdata = np.diag(var) + np.ones((len(var), len(var)))\n",
    "Udata, Wdata, VTdata = np.linalg.svd(Cdata)\n",
    "\n",
    "ivar = 1/Wdata\n",
    "ivar[Wdata < np.amax(Wdata)*1e-14] = 0\n",
    "\n",
    "Anew = np.ones((n, 2))   # My previous A had the variances in it; I need to re-define it.\n",
    "Anew[:, 0] = x \n",
    "Anew[:, 1] = 1 \n",
    "\n",
    "Ap = np.dot(VTdata, Anew)*np.sqrt(ivar)[:, np.newaxis]\n",
    "bp = np.dot(VTdata, y)*np.sqrt(ivar)\n",
    "\n",
    "Umodel, Wmodel, VTmodel = np.linalg.svd(Ap)\n",
    "Winv = 1/Wmodel\n",
    "Winv[Wmodel < np.amax(Wmodel)*1e-14] = 0\n",
    "Vmodel = VTmodel.T\n",
    "\n",
    "a_best, b_best = np.linalg.lstsq(Ap, bp, rcond=None)[0]\n",
    "Cmodel = np.sum(Vmodel[np.newaxis, :, :]*Vmodel[:, np.newaxis, :]*Winv**2, axis=-1)\n",
    "\n",
    "print('a = %.5f, b = %.5f' % (a_best, b_best))\n",
    "print(Cmodel)"
   ]
  },
  {
   "cell_type": "markdown",
   "metadata": {},
   "source": [
    "Indeed, the best-fit values for $a$ and $b$ didn't change (my realization of the uncertainties was the same).  The only thing that changed was the variance of $b$: it increased by 1 because of the contribution of the correlated error term (which I assumed to have unit variance in the line where I defined `Cdata`)."
   ]
  }
 ],
 "metadata": {
  "kernelspec": {
   "display_name": "Python 3",
   "language": "python",
   "name": "python3"
  },
  "language_info": {
   "codemirror_mode": {
    "name": "ipython",
    "version": 3
   },
   "file_extension": ".py",
   "mimetype": "text/x-python",
   "name": "python",
   "nbconvert_exporter": "python",
   "pygments_lexer": "ipython3",
   "version": "3.7.3"
  }
 },
 "nbformat": 4,
 "nbformat_minor": 4
}
