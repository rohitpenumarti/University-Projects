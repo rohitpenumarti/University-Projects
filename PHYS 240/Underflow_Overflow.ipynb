{
 "cells": [
  {
   "cell_type": "markdown",
   "metadata": {},
   "source": [
    "# A Note about Underflow and Overflow"
   ]
  },
  {
   "cell_type": "code",
   "execution_count": 1,
   "metadata": {},
   "outputs": [],
   "source": [
    "import numpy as np"
   ]
  },
  {
   "cell_type": "markdown",
   "metadata": {},
   "source": [
    "A computer represents a double-precision number using 64 bits.  Of these, 1 is for the sign of the number, one for the sign of the exponent, 53 for the base, and 9 for the exponent (a number less than 2 times 2 to a power).  The number is written in base 2, and the exponent is also written in base 2.  So the largest number that may be represented is\n",
    "\n",
    "$2 \\times 2^{2^{10} - 1} - 1 = 2^{1024} - 1$.\n",
    "\n",
    "The smallest number that may be represented using double precision floating point is roughly \n",
    "\n",
    "$2^{-2^{10}}$,\n",
    "\n",
    "but this time, the number multiplying the exponent could have all zeros with a one in the last place.  So the smallest number is actually about\n",
    "\n",
    "$2^{-2^{10} - 53} = 2^{-1077}$.\n",
    "\n",
    "Let's see."
   ]
  },
  {
   "cell_type": "code",
   "execution_count": 2,
   "metadata": {},
   "outputs": [
    {
     "name": "stdout",
     "output_type": "stream",
     "text": [
      "8.98846567431158e+307\n"
     ]
    },
    {
     "ename": "OverflowError",
     "evalue": "(34, 'Numerical result out of range')",
     "output_type": "error",
     "traceback": [
      "\u001b[0;31m---------------------------------------------------------------------------\u001b[0m",
      "\u001b[0;31mOverflowError\u001b[0m                             Traceback (most recent call last)",
      "\u001b[0;32m<ipython-input-2-3581d22294cd>\u001b[0m in \u001b[0;36m<module>\u001b[0;34m\u001b[0m\n\u001b[1;32m      1\u001b[0m \u001b[0mprint\u001b[0m\u001b[0;34m(\u001b[0m\u001b[0;36m2.\u001b[0m\u001b[0;34m**\u001b[0m\u001b[0;36m1023\u001b[0m\u001b[0;34m)\u001b[0m\u001b[0;34m\u001b[0m\u001b[0;34m\u001b[0m\u001b[0m\n\u001b[0;32m----> 2\u001b[0;31m \u001b[0mprint\u001b[0m\u001b[0;34m(\u001b[0m\u001b[0;36m2.\u001b[0m\u001b[0;34m**\u001b[0m\u001b[0;36m1024\u001b[0m\u001b[0;34m)\u001b[0m  \u001b[0;31m# Overflow!\u001b[0m\u001b[0;34m\u001b[0m\u001b[0;34m\u001b[0m\u001b[0m\n\u001b[0m",
      "\u001b[0;31mOverflowError\u001b[0m: (34, 'Numerical result out of range')"
     ]
    }
   ],
   "source": [
    "print(2.**1023)\n",
    "print(2.**1024)  # Overflow!"
   ]
  },
  {
   "cell_type": "code",
   "execution_count": 3,
   "metadata": {},
   "outputs": [
    {
     "name": "stdout",
     "output_type": "stream",
     "text": [
      "5e-324\n",
      "0.0\n"
     ]
    }
   ],
   "source": [
    "print(2.**(-1074))\n",
    "print(2.**(-1075))  # Underflow!"
   ]
  },
  {
   "cell_type": "markdown",
   "metadata": {},
   "source": [
    "This can cause trouble with likelihoods when you multiply them together.  If you have a bunch of reasonable likelihoods, say 0.5, and you multiply 10,000 of them together, you are in trouble!"
   ]
  },
  {
   "cell_type": "code",
   "execution_count": 4,
   "metadata": {},
   "outputs": [
    {
     "name": "stdout",
     "output_type": "stream",
     "text": [
      "0.0\n"
     ]
    }
   ],
   "source": [
    "likelihoods = np.ones(10000)*0.5\n",
    "print(np.prod(likelihoods))"
   ]
  },
  {
   "cell_type": "markdown",
   "metadata": {},
   "source": [
    "Sometimes the log can help with cases like this.  For example, the product of the likelihoods underflows (and will not be amenable to minimization), but I can just take the sum of the log likelihoods instead to find the log of the total likelihood.  This is much more robust to underflow or overflow."
   ]
  },
  {
   "cell_type": "code",
   "execution_count": 5,
   "metadata": {},
   "outputs": [
    {
     "name": "stdout",
     "output_type": "stream",
     "text": [
      "-6931.471805599453\n"
     ]
    }
   ],
   "source": [
    "print(np.sum(np.log(likelihoods)))"
   ]
  },
  {
   "cell_type": "markdown",
   "metadata": {},
   "source": [
    "For MCMC, for example, you only ever need likelihood ratios.  You can compute the ratio between two likelihooods as\n",
    "\n",
    "$\\frac{\\cal L_1}{\\cal L_2} = \\exp \\left[ \\log {\\cal L}_1 - \\log {\\cal L}_2 \\right]$\n",
    "\n",
    "Notice that you never need to represent the likelihood itself using floating point.  You can take the difference of two logs first and _then_ exponentiate.  This is usually what you want to do."
   ]
  }
 ],
 "metadata": {
  "kernelspec": {
   "display_name": "Python 3",
   "language": "python",
   "name": "python3"
  },
  "language_info": {
   "codemirror_mode": {
    "name": "ipython",
    "version": 3
   },
   "file_extension": ".py",
   "mimetype": "text/x-python",
   "name": "python",
   "nbconvert_exporter": "python",
   "pygments_lexer": "ipython3",
   "version": "3.7.3"
  }
 },
 "nbformat": 4,
 "nbformat_minor": 4
}
