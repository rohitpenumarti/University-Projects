{
 "cells": [
  {
   "cell_type": "code",
   "execution_count": 1,
   "metadata": {},
   "outputs": [
    {
     "name": "stderr",
     "output_type": "stream",
     "text": [
      "C:\\Users\\Rohit Penumarti\\Anaconda3\\lib\\site-packages\\pandas_datareader\\compat\\__init__.py:7: FutureWarning: pandas.util.testing is deprecated. Use the functions in the public API at pandas.testing instead.\n",
      "  from pandas.util.testing import assert_frame_equal\n"
     ]
    }
   ],
   "source": [
    "from pandas_datareader import data as pdr\n",
    "import datetime\n",
    "import numpy as np\n",
    "import matplotlib.pyplot as plt"
   ]
  },
  {
   "cell_type": "code",
   "execution_count": 8,
   "metadata": {},
   "outputs": [],
   "source": [
    "def StockVol(histoPrice):\n",
    "    closing_prices = histoPrice['Adj Close'].to_numpy()\n",
    "    returns = np.log(closing_prices[1:]/closing_prices[:-1])\n",
    "    vol = np.sqrt(252)*np.sqrt(np.var(returns))\n",
    "    return vol"
   ]
  },
  {
   "cell_type": "code",
   "execution_count": 9,
   "metadata": {
    "scrolled": false
   },
   "outputs": [],
   "source": [
    "def StockPath(n, sigma, S0, T, num_p, r):\n",
    "    paths = np.zeros((n, num_p+1))\n",
    "    paths[:, 0] = S0\n",
    "    dt = T/num_p\n",
    "    \n",
    "    for i in range(n):\n",
    "        for j in range(1, num_p+1):\n",
    "            rand = np.random.standard_normal()\n",
    "            paths[i, j] = paths[i, j-1]*np.exp((r-0.5*sigma**2)*dt+sigma*np.sqrt(dt)*rand)\n",
    "    \n",
    "    return paths"
   ]
  },
  {
   "cell_type": "code",
   "execution_count": 29,
   "metadata": {},
   "outputs": [],
   "source": [
    "def EurOptPrice(n, paths, sigma, T, num_p, r, K):\n",
    "    payoff = np.exp(-r*T)*np.maximum(K-paths[:, num_p], 0)\n",
    "    price = np.average(payoff)\n",
    "    var = np.var(payoff)\n",
    "    return [payoff, price, var]"
   ]
  },
  {
   "cell_type": "code",
   "execution_count": 96,
   "metadata": {
    "scrolled": true
   },
   "outputs": [],
   "source": [
    "def AmeOptPrice(n, paths, sigma, T, num_p, r, K):\n",
    "    V_hat = np.zeros((n, num_p))\n",
    "    h = np.maximum(K-paths, 0)\n",
    "    V_hat[:, num_p-1] = h[:, num_p-1]\n",
    "    \n",
    "    dt = T/num_p\n",
    "    df = np.exp(-r*dt)\n",
    "    \n",
    "    for i in range(num_p-1, 0, -1):\n",
    "        fit = np.polyfit(paths[:, i], V_hat[:, i]*df, 5)\n",
    "        C = np.polyval(fit, paths[:, i])\n",
    "        V_hat[:, i-1] = np.where(h[:, i] > C, h[:, i], V_hat[:, i]*df)\n",
    "        \n",
    "    price = np.sum(V_hat[:, 1]*df)/n\n",
    "    var = np.var(V_hat[:, 1]*df)\n",
    "    return [V_hat, price, var]"
   ]
  },
  {
   "cell_type": "code",
   "execution_count": 97,
   "metadata": {
    "scrolled": true
   },
   "outputs": [],
   "source": [
    "def ContVariate(n, paths, sigma, T, S0, num_p, r, K):\n",
    "    V_hat = AmeOptPrice(n, paths, sigma, T, num_p, r, K)[0]\n",
    "    \n",
    "    dt = T/num_p\n",
    "    df = np.exp(-r*dt)\n",
    "    \n",
    "    Y = V_hat[:, 1]*df\n",
    "    X = paths[:, 1]*df\n",
    "\n",
    "    EX = np.exp(r*(1/num_p))*S0\n",
    "        \n",
    "    X_mean = np.average(X)\n",
    "    Y_mean = np.average(Y)\n",
    "    b = np.sum((X-X_mean)*(Y-Y_mean))/np.sum((X-X_mean)**2)\n",
    "    estimator = (1/n)*np.sum(Y-b*(X-EX))\n",
    "    var = np.var(Y-b*(X-EX))\n",
    "    \n",
    "    return [estimator, var]"
   ]
  },
  {
   "cell_type": "code",
   "execution_count": 98,
   "metadata": {},
   "outputs": [
    {
     "name": "stdout",
     "output_type": "stream",
     "text": [
      "The price and variance, respectively, of the European put option with strike 1440 is: [387.06129841812725, 78697.7954687852]\n",
      "The price and variance, respectively, of the American put option with strike 1440 is: [405.2627985361096, 39046.140040044134]\n",
      "The price and variance, respectively of the American put option with strike 1440 using control variates as a technique for variance reduction is: [404.95384872066705, 38904.23296077818]\n"
     ]
    }
   ],
   "source": [
    "start = (datetime.datetime.today() - datetime.timedelta(days=366)).strftime('%m/%d/%Y')\n",
    "end = datetime.datetime.today().strftime('%m/%d/%Y')\n",
    "    \n",
    "df = pdr.get_data_yahoo('GOOG', start=start, end=end)\n",
    "\n",
    "vol = StockVol(df)\n",
    "S0 = df['Adj Close'][0]\n",
    "T = 1\n",
    "num_p = 252\n",
    "r = 0.0068\n",
    "n = 1000\n",
    "\n",
    "paths = StockPath(n, vol, S0, T, num_p, r)\n",
    "\n",
    "K = 1440\n",
    "priceEuro = EurOptPrice(n, paths, vol, T, num_p, r, K)[1:]\n",
    "print(\"The price and variance, respectively, of the European put option with strike \" + str(K) + \" is: \" + str(priceEuro))\n",
    "\n",
    "priceAmer = AmeOptPrice(n, paths, vol, T, num_p, r, K)[1:]\n",
    "print(\"The price and variance, respectively, of the American put option with strike \" + str(K) + \" is: \" + str(priceAmer))\n",
    "\n",
    "price_cont_var = ContVariate(n, paths, vol, T, S0, num_p, r, K)\n",
    "print(\"The price and variance, respectively of the American put option with strike \" + str(K) + \" using control variates as \"\n",
    "      \"a technique for variance reduction is: \" + str(price_cont_var))"
   ]
  },
  {
   "cell_type": "code",
   "execution_count": null,
   "metadata": {},
   "outputs": [],
   "source": []
  }
 ],
 "metadata": {
  "kernelspec": {
   "display_name": "Python 3",
   "language": "python",
   "name": "python3"
  },
  "language_info": {
   "codemirror_mode": {
    "name": "ipython",
    "version": 3
   },
   "file_extension": ".py",
   "mimetype": "text/x-python",
   "name": "python",
   "nbconvert_exporter": "python",
   "pygments_lexer": "ipython3",
   "version": "3.7.3"
  }
 },
 "nbformat": 4,
 "nbformat_minor": 2
}
