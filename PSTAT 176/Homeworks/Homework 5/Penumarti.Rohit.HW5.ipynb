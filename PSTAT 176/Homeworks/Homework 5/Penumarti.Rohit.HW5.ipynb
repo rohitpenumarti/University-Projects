{
 "cells": [
  {
   "cell_type": "code",
   "execution_count": 1,
   "metadata": {},
   "outputs": [],
   "source": [
    "import numpy as np\n",
    "import matplotlib.pyplot as plt\n",
    "import scipy.stats as stats"
   ]
  },
  {
   "cell_type": "markdown",
   "metadata": {},
   "source": [
    "# Problem 3"
   ]
  },
  {
   "cell_type": "code",
   "execution_count": 17,
   "metadata": {},
   "outputs": [
    {
     "name": "stdout",
     "output_type": "stream",
     "text": [
      "[[0.03   0.0375 0.035  ... 0.0375 0.035  0.0375]\n",
      " [0.03   0.035  0.0325 ... 0.035  0.0375 0.035 ]\n",
      " [0.03   0.0425 0.04   ... 0.035  0.0325 0.0375]\n",
      " ...\n",
      " [0.03   0.04   0.0375 ... 0.035  0.0375 0.035 ]\n",
      " [0.03   0.0325 0.0375 ... 0.0375 0.0375 0.035 ]\n",
      " [0.03   0.04   0.035  ... 0.035  0.035  0.0425]]\n"
     ]
    }
   ],
   "source": [
    "# Part a)\n",
    "r0 = 0.03\n",
    "N = 12\n",
    "u = 0.0025\n",
    "m = 0\n",
    "d = -u\n",
    "M = 1000\n",
    "\n",
    "RN = np.zeros((M, N+1))\n",
    "RN[:, 0] = r0\n",
    "\n",
    "for i in range(M):\n",
    "    for j in range(N):\n",
    "        U = np.random.uniform(0, 1, N)\n",
    "        RN[i, j+1] = r0+u*(stats.binom.ppf(U[j], N, 0.4))+ \\\n",
    "        m*(int(0.5*stats.binom.ppf(U[j], N, 0.4)))+d*(int(0.5*stats.binom.ppf(U[j], N, 0.4)))\n",
    "    \n",
    "print(RN)"
   ]
  },
  {
   "cell_type": "code",
   "execution_count": null,
   "metadata": {},
   "outputs": [],
   "source": []
  }
 ],
 "metadata": {
  "kernelspec": {
   "display_name": "Python 3",
   "language": "python",
   "name": "python3"
  },
  "language_info": {
   "codemirror_mode": {
    "name": "ipython",
    "version": 3
   },
   "file_extension": ".py",
   "mimetype": "text/x-python",
   "name": "python",
   "nbconvert_exporter": "python",
   "pygments_lexer": "ipython3",
   "version": "3.7.3"
  }
 },
 "nbformat": 4,
 "nbformat_minor": 4
}
