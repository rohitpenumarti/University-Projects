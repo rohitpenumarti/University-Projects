{
 "cells": [
  {
   "cell_type": "code",
   "execution_count": 1,
   "metadata": {},
   "outputs": [],
   "source": [
    "import numpy as np\n",
    "import matplotlib.pyplot as plt\n",
    "import scipy.stats as stats"
   ]
  },
  {
   "cell_type": "markdown",
   "metadata": {},
   "source": [
    "# Problem 2"
   ]
  },
  {
   "cell_type": "code",
   "execution_count": 11,
   "metadata": {
    "scrolled": true
   },
   "outputs": [
    {
     "name": "stdout",
     "output_type": "stream",
     "text": [
      "The estimated price for this put is: 2.6550808615718893 with 95% confidence interval: [0.9302771522787316, 3.852878916958636]\n"
     ]
    }
   ],
   "source": [
    "# Part a)\n",
    "def euro_put_estimate(S0, u, d, r, N, M, K):\n",
    "    q = (1+r-d)/(u-d)\n",
    "    U = np.random.uniform(size=M)\n",
    "    S = np.zeros(M)\n",
    "    payoff = np.zeros(M)\n",
    "\n",
    "    for i in range(M):\n",
    "        S[i] = S0*(u/d)**stats.binom.ppf(U[i], N, q)*d**N\n",
    "        payoff[i] = (1/(1+r)**N)*max(K-S[i],0)\n",
    "\n",
    "    price = np.average(payoff)\n",
    "    ci = [price-1.96*np.std(payoff)/np.sqrt(M), price+1.96*np.std(payoff)/np.sqrt(M)]\n",
    "    return [price, ci]\n",
    "\n",
    "S0 = 50\n",
    "u = 1.06\n",
    "d = 0.98\n",
    "r = 0.01\n",
    "N = 26\n",
    "M = 25\n",
    "K = 60\n",
    "print(\"The estimated price for this put is: \" + str(euro_put_estimate(S0, u, d, r, N, M, K)[0]) + \" with 95% confidence \"\n",
    "      \"interval: \" + str(euro_put_estimate(S0, u, d, r, N, M, K)[1]))"
   ]
  },
  {
   "cell_type": "code",
   "execution_count": 12,
   "metadata": {
    "scrolled": true
   },
   "outputs": [
    {
     "name": "stdout",
     "output_type": "stream",
     "text": [
      "The true value of the put price is: 2.1235867663227928 with standard deviation: 3.6851920061217207\n"
     ]
    },
    {
     "data": {
      "image/png": "[encoded data removed]",
      "text/plain": [
       "<Figure size 432x288 with 1 Axes>"
      ]
     },
     "metadata": {
      "needs_background": "light"
     },
     "output_type": "display_data"
    }
   ],
   "source": [
    "# Part b)\n",
    "prices = np.zeros(10)\n",
    "cis = []\n",
    "\n",
    "for i in range(10):\n",
    "    prices[i] = euro_put_estimate(S0, u, d, r, N, M, K)[0]\n",
    "    cis.append(euro_put_estimate(S0, u, d, r, N, M, K)[1])\n",
    "    \n",
    "q = (1+r-d)/(u-d)\n",
    "allS = [S0*(u/d)**i*d**N for i in range(N+1)]\n",
    "true_price = np.sum([max(0, K-allS[i])*stats.binom.pmf(i, N, q) for i in range(N)])/(1+r)**N\n",
    "true_price_sq = np.sum([max(0, K-allS[i])**2*stats.binom.pmf(i, N, q) for i in range(N)])/(1+r)**(2*N)\n",
    "true_sd = np.sqrt(true_price_sq-true_price**2)\n",
    "print(\"The true value of the put price is: \" + str(true_price) + \" with standard deviation: \" + str(true_sd))\n",
    "\n",
    "i = range(1, 11)\n",
    "plt.plot(i, prices, 'b.')\n",
    "plt.hlines(y=true_price, xmin=0, xmax=10)\n",
    "plt.xlabel(\"Estimate Number\")\n",
    "plt.ylabel(\"Option Price\")\n",
    "plt.legend([\"Estimates\", \"True Value\"])\n",
    "plt.show()"
   ]
  },
  {
   "cell_type": "code",
   "execution_count": 13,
   "metadata": {
    "scrolled": true
   },
   "outputs": [
    {
     "name": "stdout",
     "output_type": "stream",
     "text": [
      "The estimated price for this put is: 0.5547455923546348 with 95% confidence interval: [-0.08353027995005186, 0.994478643275279]\n",
      "The true value of the call price is: 0.8114443935649318 with standard deviation: 3.040950280803362\n"
     ]
    },
    {
     "data": {
      "image/png": "[encoded data removed]",
      "text/plain": [
       "<Figure size 432x288 with 1 Axes>"
      ]
     },
     "metadata": {
      "needs_background": "light"
     },
     "output_type": "display_data"
    }
   ],
   "source": [
    "# Part c)\n",
    "def euro_call_estimate(S0, u, d, r, N, M, K):\n",
    "    q = (1+r-d)/(u-d)\n",
    "    U = np.random.uniform(size=M)\n",
    "    S = np.zeros(M)\n",
    "    payoff = np.zeros(M)\n",
    "\n",
    "    for i in range(M):\n",
    "        S[i] = S0*(u/d)**stats.binom.ppf(U[i], N, q)*d**N\n",
    "        payoff[i] = (1/(1+r)**N)*max(S[i]-K,0)\n",
    "\n",
    "    price = np.average(payoff)\n",
    "    ci = [price-1.96*np.std(payoff)/np.sqrt(M), price+1.96*np.std(payoff)/np.sqrt(M)]\n",
    "    return [price, ci]\n",
    "\n",
    "K = 80\n",
    "print(\"The estimated price for this put is: \" + str(euro_call_estimate(S0, u, d, r, N, M, K)[0]) + \" with 95% confidence \"\n",
    "      \"interval: \" + str(euro_call_estimate(S0, u, d, r, N, M, K)[1]))\n",
    "\n",
    "prices = np.zeros(10)\n",
    "cis = []\n",
    "\n",
    "for i in range(10):\n",
    "    prices[i] = euro_call_estimate(S0, u, d, r, N, M, K)[0]\n",
    "    cis.append(euro_call_estimate(S0, u, d, r, N, M, K)[1])\n",
    "    \n",
    "q = (1+r-d)/(u-d)\n",
    "allS = [S0*(u/d)**i*d**N for i in range(N+1)]\n",
    "true_price = np.sum([max(0, allS[i]-K)*stats.binom.pmf(i, N, q) for i in range(N)])/(1+r)**N\n",
    "true_price_sq = np.sum([max(0, allS[i]-K)**2*stats.binom.pmf(i, N, q) for i in range(N)])/(1+r)**(2*N)\n",
    "true_sd = np.sqrt(true_price_sq-true_price**2)\n",
    "print(\"The true value of the call price is: \" + str(true_price) + \" with standard deviation: \" + str(true_sd))\n",
    "\n",
    "i = range(1, 11)\n",
    "plt.plot(i, prices, 'b.')\n",
    "plt.hlines(y=true_price, xmin=0, xmax=10)\n",
    "plt.xlabel(\"Estimate Number\")\n",
    "plt.ylabel(\"Option Price\")\n",
    "plt.legend([\"Estimates\", \"True Value\"])\n",
    "plt.show()"
   ]
  },
  {
   "cell_type": "markdown",
   "metadata": {},
   "source": [
    "> This scenario is different from the other because the previous part was estimating the payoff for a put whereas this part is estimating that for a call. Since the strike is much higher than before, this causes there to be a higher probability of simulating zero payoffs which results in the average being lower than in the case for the put which has a lower strike price, but still a lower probability of producing zero payoffs. This results in a larger average payoff."
   ]
  },
  {
   "cell_type": "markdown",
   "metadata": {},
   "source": [
    "# Problem 3"
   ]
  },
  {
   "cell_type": "code",
   "execution_count": 7,
   "metadata": {},
   "outputs": [
    {
     "data": {
      "image/png": "[encoded data removed]",
      "text/plain": [
       "<Figure size 432x288 with 1 Axes>"
      ]
     },
     "metadata": {
      "needs_background": "light"
     },
     "output_type": "display_data"
    },
    {
     "name": "stdout",
     "output_type": "stream",
     "text": [
      "The sample mean and standard deviation of this sample is: 11.285375943275188 and 7.930010877504594 respectively.\n",
      "The estimated price for this Lookback option is: 11.285375943275188 with 99% confidence interval: [9.239433136879002, 13.331318749671373]\n"
     ]
    }
   ],
   "source": [
    "K = 55\n",
    "N = 30\n",
    "M = 100\n",
    "\n",
    "S = np.zeros((M, N+1))\n",
    "S[:, 0] = S0\n",
    "payoff = np.zeros(M)\n",
    "\n",
    "for i in range(int(M/2)):\n",
    "    AT = np.random.uniform(size=N)\n",
    "    AT2 = 1-AT\n",
    "    AT_path = u**(AT<q)*d**(AT>=q)\n",
    "    AT2_path = u**(AT2<q)*d**(AT2>=q)\n",
    "    \n",
    "    S[2*i, 1:] = S0*np.cumprod(AT_path)\n",
    "    S[2*i+1, 1:] = S0*np.cumprod(AT2_path)\n",
    "    payoff[2*i] = (1/(1+r)**N)*max(np.amax(S[2*i, :])-K,0)\n",
    "    payoff[2*i+1] = (1/(1+r)**N)*max(np.amax(S[2*i-1, :])-K,0)\n",
    "\n",
    "plt.hist(payoff)\n",
    "plt.xlabel(\"Payoff\")\n",
    "plt.ylabel(\"Frequency\")\n",
    "plt.show()\n",
    "\n",
    "price = np.average(payoff)\n",
    "stdev = np.std(payoff)\n",
    "print(\"The sample mean and standard deviation of this sample is: \" + str(price) + \" and \" + str(stdev) + \" respectively.\")\n",
    "\n",
    "ci = [price-2.58*stdev/np.sqrt(M), price+2.58*stdev/np.sqrt(M)]\n",
    "print(\"The estimated price for this Lookback option is: \" + str(price) + \" with 99% confidence interval: \" + str(ci))"
   ]
  },
  {
   "cell_type": "markdown",
   "metadata": {},
   "source": [
    "# Problem 4"
   ]
  },
  {
   "cell_type": "code",
   "execution_count": 8,
   "metadata": {},
   "outputs": [
    {
     "name": "stdout",
     "output_type": "stream",
     "text": [
      "The estimated price for this call using the Black Scholes model is: 6.199779577571021 with 95% confidence interval: [3.5001830674339285, 8.899376087708113]\n",
      "The true price of the call according to the Black-Scholes model is: 6.573775055279903 which is contained within the 95% confidence bounds. The estimate has a percent error of: 5.689204065607594% with the actual value.\n"
     ]
    }
   ],
   "source": [
    "# Part a)\n",
    "K = 45\n",
    "sigma = 0.2\n",
    "r = 0.04\n",
    "T = 0.5\n",
    "M = 25\n",
    "\n",
    "Z = np.random.normal(size=M)\n",
    "S = np.zeros(M)\n",
    "payoff = np.zeros(M)\n",
    "\n",
    "for i in range(M):\n",
    "    S[i] = S0*np.exp((r-sigma**2/2)*T+sigma*np.sqrt(T)*Z[i])\n",
    "    payoff[i] = np.exp(-r*T)*max(S[i]-K, 0)\n",
    "    \n",
    "price = np.average(payoff)\n",
    "ci = [price-1.96*np.std(payoff)/np.sqrt(M), price+1.96*np.std(payoff)/np.sqrt(M)]\n",
    "print(\"The estimated price for this call using the Black Scholes model is: \" + str(price) + \" with 95% confidence interval: \"\n",
    "      + str(ci))\n",
    "\n",
    "d1 = (np.log(S0/K)+(r+sigma**2/2)*T)/(sigma*np.sqrt(T))\n",
    "d2 = d1-sigma*np.sqrt(T)\n",
    "true_price = S0*stats.norm.cdf(d1)-K*np.exp(-r*T)*stats.norm.cdf(d2)\n",
    "percent_err = (abs(price-true_price)/true_price)*100\n",
    "if(ci[0]<=true_price<=ci[1]):    \n",
    "    print(\"The true price of the call according to the Black-Scholes model is: \" + str(true_price) + \" which is contained \"\n",
    "          \"within the 95% confidence bounds. The estimate has a percent error of: \" + str(percent_err) + \"% with the actual \"\n",
    "          \"value.\")\n",
    "else:\n",
    "    print(\"The true price of the call according to the Black-Scholes model is: \" + str(true_price) + \" which is not \" \n",
    "          \"contained within the 95% confidence bounds. The estimate has a percent error of: \" + str(percent_err) + \"% with \"\n",
    "          \"the actual value.\")"
   ]
  },
  {
   "cell_type": "code",
   "execution_count": 9,
   "metadata": {},
   "outputs": [
    {
     "name": "stdout",
     "output_type": "stream",
     "text": [
      "The estimated price for this call in the Black Scholes model using Quasi Monte Carlo sampling is: 6.526476783089659\n"
     ]
    }
   ],
   "source": [
    "# Part b)\n",
    "M = 25\n",
    "u = np.linspace(0.02, 0.98, M)\n",
    "S = np.zeros(M)\n",
    "payoff = np.zeros(M)\n",
    "\n",
    "for i in range(M):\n",
    "    S[i] = S0*np.exp((r-sigma**2/2)*T+sigma*np.sqrt(T)*stats.norm.ppf(u[i]))\n",
    "    payoff[i] = np.exp(-r*T)*max(S[i]-K,0)\n",
    "    \n",
    "price = np.average(payoff)\n",
    "print(\"The estimated price for this call in the Black Scholes model using Quasi Monte Carlo sampling is: \" + str(price))"
   ]
  },
  {
   "cell_type": "markdown",
   "metadata": {},
   "source": [
    "# Problem 5"
   ]
  },
  {
   "cell_type": "code",
   "execution_count": 10,
   "metadata": {
    "scrolled": true
   },
   "outputs": [
    {
     "data": {
      "image/png": "[encoded data removed]",
      "text/plain": [
       "<Figure size 432x288 with 1 Axes>"
      ]
     },
     "metadata": {
      "needs_background": "light"
     },
     "output_type": "display_data"
    },
    {
     "name": "stdout",
     "output_type": "stream",
     "text": [
      "The estimated price for this basket option using the Black Scholes model is: 3.871604693035326 with 98% confidence interval: [3.2136641793249834, 4.529545206745669]\n"
     ]
    }
   ],
   "source": [
    "I = 5\n",
    "r = 0.03\n",
    "M = 500\n",
    "T = 1\n",
    "\n",
    "S0_vals = [10*i for i in range(1, I+1)]\n",
    "volatilities = [0.1+0.05*i for i in range(1, I+1)]\n",
    "Z = np.random.normal(size=M)\n",
    "S = np.zeros((M, I))\n",
    "payoff = np.zeros(M)\n",
    "\n",
    "for j in range(I):\n",
    "    S[:, j] = S0_vals[j]*np.exp((r-volatilities[j]**2/2)*T+volatilities[j]*np.sqrt(T)*Z)\n",
    "        \n",
    "for i in range(M):\n",
    "    payoff[i] = np.exp(-r*T)*max((S[i, 0]+S[i, 1]+S[i, 2]+S[i, 3]+S[i, 4])/5-30, 0)\n",
    "    \n",
    "plt.hist(payoff)\n",
    "plt.xlabel(\"Payoffs\")\n",
    "plt.ylabel(\"Frequency\")\n",
    "plt.show()\n",
    "\n",
    "price = np.average(payoff)\n",
    "ci = [price-2.33*np.std(payoff)/np.sqrt(M), price+2.33*np.std(payoff)/np.sqrt(M)]\n",
    "print(\"The estimated price for this basket option using the Black Scholes model is: \" + str(price) + \" with 98% confidence \"\n",
    "      \"interval: \" + str(ci))"
   ]
  }
 ],
 "metadata": {
  "kernelspec": {
   "display_name": "Python 3",
   "language": "python",
   "name": "python3"
  },
  "language_info": {
   "codemirror_mode": {
    "name": "ipython",
    "version": 3
   },
   "file_extension": ".py",
   "mimetype": "text/x-python",
   "name": "python",
   "nbconvert_exporter": "python",
   "pygments_lexer": "ipython3",
   "version": "3.7.3"
  }
 },
 "nbformat": 4,
 "nbformat_minor": 2
}
