{
 "cells": [
  {
   "cell_type": "code",
   "execution_count": 2,
   "metadata": {},
   "outputs": [],
   "source": [
    "import numpy as np\n",
    "import scipy.stats as stats"
   ]
  },
  {
   "cell_type": "code",
   "execution_count": 3,
   "metadata": {},
   "outputs": [],
   "source": [
    "S0 = 100\n",
    "T_ = [1, 2]\n",
    "S_ = [95, 97]\n",
    "delta_t = 0.05\n",
    "r = 0.05\n",
    "volatility = 0.3\n",
    "alpha = 0.08\n",
    "\n",
    "Z = np.random.normal()"
   ]
  },
  {
   "cell_type": "code",
   "execution_count": null,
   "metadata": {},
   "outputs": [],
   "source": [
    "def hit_box_option_payoff(t, S, N):\n",
    "    t1 = math.ceil(t[0])\n",
    "    t2 = int(t[1])\n",
    "    \n",
    "    SN = sim_N_period_binom(N)\n",
    "    SN_box = SN[:, t1:t2+1]\n",
    "        \n",
    "    box_check = np.where(np.logical_and(SN_box>=S[0], SN_box<=S[1]), 1, 0)\n",
    "    payoff = np.any(box_check, axis=1)\n",
    "    \n",
    "    price = q**N*np.sum(payoff)/(1+r)**N\n",
    "    return price"
   ]
  }
 ],
 "metadata": {
  "kernelspec": {
   "display_name": "Python 3",
   "language": "python",
   "name": "python3"
  },
  "language_info": {
   "codemirror_mode": {
    "name": "ipython",
    "version": 3
   },
   "file_extension": ".py",
   "mimetype": "text/x-python",
   "name": "python",
   "nbconvert_exporter": "python",
   "pygments_lexer": "ipython3",
   "version": "3.7.3"
  }
 },
 "nbformat": 4,
 "nbformat_minor": 2
}
