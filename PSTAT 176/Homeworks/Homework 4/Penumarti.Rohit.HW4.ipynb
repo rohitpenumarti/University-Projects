{
 "cells": [
  {
   "cell_type": "code",
   "execution_count": 1,
   "metadata": {},
   "outputs": [],
   "source": [
    "import numpy as np\n",
    "import pandas as pd\n",
    "from datetime import datetime"
   ]
  },
  {
   "cell_type": "markdown",
   "metadata": {},
   "source": [
    "# Problem 3"
   ]
  },
  {
   "cell_type": "code",
   "execution_count": 128,
   "metadata": {
    "scrolled": true
   },
   "outputs": [],
   "source": [
    "# Part a)\n",
    "df = pd.read_csv(\"IBM-MSFT-HAS.csv\")\n",
    "df['Date'] = pd.to_datetime(df['Date'])\n",
    "\n",
    "returns = np.zeros((len(df['Date'])-1, 3))\n",
    "for i in range(3):    \n",
    "    for j in range(len(df['Date'])-1):\n",
    "        returns[j, i] = (df['IBM'][j+1]/df['IBM'][j] - 1)*(i == 0)+(df['MSFT'][j+1]/df['MSFT'][j] - 1)*(i == 1) \\\n",
    "        + (df['HAS'][j+1]/df['HAS'][j] - 1)*(i == 2)\n",
    "\n",
    "df['IBM Returns'] = pd.Series(returns[:, 0])\n",
    "df['MSFT Returns'] = pd.Series(returns[:, 1])\n",
    "df['HAS Returns'] = pd.Series(returns[:, 2])\n",
    "\n",
    "df_nov = df[np.logical_and(df.Date.dt.month == 11, df.Date.dt.year == 2017)]\n",
    "df_dec = df[np.logical_and(df.Date.dt.month == 12, df.Date.dt.year == 2017)]\n",
    "df_jan = df[np.logical_and(df.Date.dt.month == 1, df.Date.dt.year == 2018)]\n",
    "df_feb = df[np.logical_and(df.Date.dt.month == 2, df.Date.dt.year == 2018)]\n",
    "df_mar = df[np.logical_and(df.Date.dt.month == 3, df.Date.dt.year == 2018)]\n",
    "df_apr = df[np.logical_and(df.Date.dt.month == 4, df.Date.dt.year == 2018)]\n",
    "\n",
    "data_nov = df_nov[['IBM Returns', 'MSFT Returns', 'HAS Returns']].to_numpy()\n",
    "data_dec = df_dec[['IBM Returns', 'MSFT Returns', 'HAS Returns']].to_numpy()\n",
    "data_jan = df_jan[['IBM Returns', 'MSFT Returns', 'HAS Returns']].to_numpy()\n",
    "data_feb = df_feb[['IBM Returns', 'MSFT Returns', 'HAS Returns']].to_numpy()\n",
    "data_mar = df_mar[['IBM Returns', 'MSFT Returns', 'HAS Returns']].to_numpy()\n",
    "data_apr = df_apr[['IBM Returns', 'MSFT Returns', 'HAS Returns']].to_numpy()"
   ]
  },
  {
   "cell_type": "code",
   "execution_count": 129,
   "metadata": {
    "scrolled": false
   },
   "outputs": [
    {
     "name": "stdout",
     "output_type": "stream",
     "text": [
      "The average monthly returns for IBM, Microsoft, and Hasbro are: [-0.0053536   0.02347976  0.00113885] respectively. The covariance matrix of the average returns is: \n",
      "[[0.00099269 0.0008125  0.0005805 ]\n",
      " [0.0008125  0.00172114 0.0020343 ]\n",
      " [0.0005805  0.0020343  0.00311119]] \n",
      "where the variances are given along the diagonal.\n"
     ]
    }
   ],
   "source": [
    "daily_avg_returns_half = np.zeros((3, 6))\n",
    "\n",
    "for i in range(3):\n",
    "    for j in range(6):\n",
    "        daily_avg_returns_half[i, j] = np.nanmean(data_nov[:, i])*(j == 0) + np.nanmean(data_dec[:, i])*(j == 1) \\\n",
    "        + np.nanmean(data_jan[:, i])*(j == 2) + np.nanmean(data_feb[:, i])*(j == 3) + np.nanmean(data_mar[:, i])*(j == 4) \\\n",
    "        + np.nanmean(data_apr[:, i])*(j == 5)\n",
    "\n",
    "avg_returns_IBM = 20*np.average(daily_avg_returns_half[0])\n",
    "avg_returns_MSFT = 20*np.average(daily_avg_returns_half[1])\n",
    "avg_returns_HAS = 20*np.average(daily_avg_returns_half[2])\n",
    "avg_returns = np.array([avg_returns_IBM, avg_returns_MSFT, avg_returns_HAS])\n",
    "cov = 400*np.cov(daily_avg_returns_half, ddof=0)\n",
    "print(\"The average monthly returns for IBM, Microsoft, and Hasbro are: \" + str(avg_returns) + \" respectively. The \"\n",
    "     \"covariance matrix of the average returns is: \\n\" + str(cov) + \" \\nwhere the variances are given along the diagonal.\")"
   ]
  },
  {
   "cell_type": "code",
   "execution_count": 109,
   "metadata": {},
   "outputs": [
    {
     "name": "stdout",
     "output_type": "stream",
     "text": [
      "The market portfolio is: [ 2.86990494 -4.37265362  2.50274868] which has expected return: -0.11518295512079778 and standard deviation: 0.06319563574321117\n"
     ]
    }
   ],
   "source": [
    "# Part b)\n",
    "r = 0.02\n",
    "uVec = np.ones(np.size(cov, axis=0))\n",
    "market_w = np.linalg.multi_dot([(avg_returns-r*uVec), np.linalg.inv(cov)])\n",
    "market_w /= np.sum(market_w)\n",
    "mu_market = np.linalg.multi_dot([market_w, np.transpose(avg_returns)])\n",
    "sigma_market = np.sqrt(np.linalg.multi_dot([market_w, np.transpose(cov), np.transpose(market_w)]))\n",
    "\n",
    "print(\"The market portfolio is: \" + str(market_w) + \" which has expected return: \" + str(mu_market) + \" and standard \"\n",
    "      \"deviation: \" + str(sigma_market))"
   ]
  },
  {
   "cell_type": "code",
   "execution_count": 110,
   "metadata": {},
   "outputs": [],
   "source": [
    "# Part c)\n",
    "df_may = df[np.logical_and(df.Date.dt.month == 5, df.Date.dt.year == 2017)]\n",
    "df_jun = df[np.logical_and(df.Date.dt.month == 6, df.Date.dt.year == 2017)]\n",
    "df_jul = df[np.logical_and(df.Date.dt.month == 7, df.Date.dt.year == 2017)]\n",
    "df_aug = df[np.logical_and(df.Date.dt.month == 8, df.Date.dt.year == 2017)]\n",
    "df_sep = df[np.logical_and(df.Date.dt.month == 9, df.Date.dt.year == 2017)]\n",
    "df_oct = df[np.logical_and(df.Date.dt.month == 10, df.Date.dt.year == 2017)]\n",
    "\n",
    "data_may = df_may[['IBM Returns', 'MSFT Returns', 'HAS Returns']].to_numpy()\n",
    "data_jun = df_jun[['IBM Returns', 'MSFT Returns', 'HAS Returns']].to_numpy()\n",
    "data_jul = df_jul[['IBM Returns', 'MSFT Returns', 'HAS Returns']].to_numpy()\n",
    "data_aug = df_aug[['IBM Returns', 'MSFT Returns', 'HAS Returns']].to_numpy()\n",
    "data_sep = df_sep[['IBM Returns', 'MSFT Returns', 'HAS Returns']].to_numpy()\n",
    "data_oct = df_oct[['IBM Returns', 'MSFT Returns', 'HAS Returns']].to_numpy()"
   ]
  },
  {
   "cell_type": "code",
   "execution_count": 111,
   "metadata": {},
   "outputs": [
    {
     "name": "stdout",
     "output_type": "stream",
     "text": [
      "The average monthly returns for IBM, Microsoft, and Hasbro are: [-0.00120631  0.03107525 -0.00927302] respectively. The covariance matrix of the average returns is: \n",
      "[[ 1.36745138e-03  4.47166986e-05 -3.14882985e-04]\n",
      " [ 4.47166986e-05  1.62915330e-03 -1.29021203e-03]\n",
      " [-3.14882985e-04 -1.29021203e-03  2.32567111e-03]] \n",
      "where the variances are given along the diagonal.\n"
     ]
    }
   ],
   "source": [
    "daily_avg_returns_other = np.zeros((3, 6))\n",
    "\n",
    "for i in range(3):\n",
    "    for j in range(6):\n",
    "        daily_avg_returns_other[i, j] = np.nanmean(data_may[:, i])*(j == 0) + np.nanmean(data_jun[:, i])*(j == 1) \\\n",
    "        + np.nanmean(data_jul[:, i])*(j == 2) + np.nanmean(data_aug[:, i])*(j == 3) + np.nanmean(data_sep[:, i])*(j == 4) \\\n",
    "        + np.nanmean(data_oct[:, i])*(j == 5)\n",
    "\n",
    "avg_returns_IBM = 20*np.average(daily_avg_returns_other[0])\n",
    "avg_returns_MSFT = 20*np.average(daily_avg_returns_other[1])\n",
    "avg_returns_HAS = 20*np.average(daily_avg_returns_other[2])\n",
    "avg_returns = np.array([avg_returns_IBM, avg_returns_MSFT, avg_returns_HAS])\n",
    "cov = 400*np.cov(daily_avg_returns_other, ddof=0)\n",
    "print(\"The average monthly returns for IBM, Microsoft, and Hasbro are: \" + str(avg_returns) + \" respectively. The \"\n",
    "     \"covariance matrix of the average returns is: \\n\" + str(cov) + \" \\nwhere the variances are given along the diagonal.\")"
   ]
  },
  {
   "cell_type": "code",
   "execution_count": 112,
   "metadata": {},
   "outputs": [
    {
     "name": "stdout",
     "output_type": "stream",
     "text": [
      "The market portfolio is: [0.41073013 0.17555926 0.41371061] which has expected return: 0.0011237340756777557 and standard deviation: 0.019773028055737087\n"
     ]
    }
   ],
   "source": [
    "r = 0.02\n",
    "uVec = np.ones(np.size(cov, axis=0))\n",
    "market_w = np.linalg.multi_dot([(avg_returns-r*uVec), np.linalg.inv(cov)])\n",
    "market_w /= np.sum(market_w)\n",
    "mu_market = np.linalg.multi_dot([market_w, np.transpose(avg_returns)])\n",
    "sigma_market = np.sqrt(np.linalg.multi_dot([market_w, np.transpose(cov), np.transpose(market_w)]))\n",
    "\n",
    "print(\"The market portfolio is: \" + str(market_w) + \" which has expected return: \" + str(mu_market) + \" and standard \"\n",
    "      \"deviation: \" + str(sigma_market))"
   ]
  },
  {
   "cell_type": "markdown",
   "metadata": {},
   "source": [
    "> The market portfolio from part c) compared to that of part b) is different because in part c), there is no shorting and each of the weights are fractional amounts of each stock whereas for part b), the weights are larger, and Microsoft is shorted. Furthermore, the return on the portfolio on part c) is very small but positive whereas the return on part b) is negative and has absolute value greater than that of part c). The standard deviation of part c) is much smaller than that of part b) by about 3 times."
   ]
  },
  {
   "cell_type": "code",
   "execution_count": 105,
   "metadata": {
    "scrolled": true
   },
   "outputs": [
    {
     "name": "stdout",
     "output_type": "stream",
     "text": [
      "The average monthly returns for the whole year for IBM, Microsoft, and Hasbro are: [-0.000164    0.00136388 -0.00020335] respectively. The covariance matrix of the average returns is: \n",
      "[[2.96093084e-06 1.09120462e-06 3.05034588e-07]\n",
      " [1.09120462e-06 4.22392180e-06 8.80688086e-07]\n",
      " [3.05034588e-07 8.80688086e-07 6.86383535e-06]] \n",
      "where the variances are given along the diagonal.\n"
     ]
    }
   ],
   "source": [
    "# Part d)\n",
    "daily_returns = np.append(daily_avg_returns_half, daily_avg_returns_other, axis=1)\n",
    "avg_returns_IBM_whole = np.average(daily_returns[0])\n",
    "avg_returns_MSFT_whole = np.average(daily_returns[1])\n",
    "avg_returns_HAS_whole = np.average(daily_returns[2])\n",
    "avg_returns = np.array([avg_returns_IBM_whole, avg_returns_MSFT_whole, avg_returns_HAS_whole])\n",
    "cov = np.cov(daily_returns, ddof=0)\n",
    "print(\"The average monthly returns for the whole year for IBM, Microsoft, and Hasbro are: \" + str(avg_returns) + \n",
    "      \" respectively. The covariance matrix of the average returns is: \\n\" + str(cov) + \" \\nwhere the variances are given \"\n",
    "      + \"along the diagonal.\")"
   ]
  },
  {
   "cell_type": "code",
   "execution_count": 106,
   "metadata": {},
   "outputs": [
    {
     "name": "stdout",
     "output_type": "stream",
     "text": [
      "The market portfolio is: [0.53953989 0.23390143 0.22655868] which has expected return: 0.00018445732832092986 and standard deviation: 0.0013742891567943881\n"
     ]
    }
   ],
   "source": [
    "r = 0.02\n",
    "uVec = np.ones(np.size(cov, axis=0))\n",
    "market_w = np.linalg.multi_dot([(avg_returns-r*uVec), np.linalg.inv(cov)])\n",
    "market_w /= np.sum(market_w)\n",
    "mu_market = np.linalg.multi_dot([market_w, np.transpose(avg_returns)])\n",
    "sigma_market = np.sqrt(np.linalg.multi_dot([market_w, np.transpose(cov), np.transpose(market_w)]))\n",
    "\n",
    "print(\"The market portfolio is: \" + str(market_w) + \" which has expected return: \" + str(mu_market) + \" and standard \"\n",
    "      \"deviation: \" + str(sigma_market))"
   ]
  }
 ],
 "metadata": {
  "kernelspec": {
   "display_name": "Python 3",
   "language": "python",
   "name": "python3"
  },
  "language_info": {
   "codemirror_mode": {
    "name": "ipython",
    "version": 3
   },
   "file_extension": ".py",
   "mimetype": "text/x-python",
   "name": "python",
   "nbconvert_exporter": "python",
   "pygments_lexer": "ipython3",
   "version": "3.7.3"
  }
 },
 "nbformat": 4,
 "nbformat_minor": 2
}
