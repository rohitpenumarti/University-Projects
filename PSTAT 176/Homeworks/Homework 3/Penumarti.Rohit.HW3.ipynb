{
 "cells": [
  {
   "cell_type": "code",
   "execution_count": 1,
   "metadata": {},
   "outputs": [],
   "source": [
    "import numpy as np\n",
    "import matplotlib.pyplot as plt\n",
    "import scipy.stats as stats\n",
    "from scipy.optimize import minimize"
   ]
  },
  {
   "cell_type": "markdown",
   "metadata": {},
   "source": [
    "# Problem 1"
   ]
  },
  {
   "cell_type": "code",
   "execution_count": 2,
   "metadata": {},
   "outputs": [
    {
     "name": "stdout",
     "output_type": "stream",
     "text": [
      "The estimated value of the price of the option is: 1.827972901022458\n",
      "The estimated standard error of the price of the option is: 0.30889960486223494\n"
     ]
    }
   ],
   "source": [
    "S0 = 50\n",
    "r = 0.02\n",
    "T = 0.5\n",
    "sigma = 0.25\n",
    "K = 55\n",
    "M = 100\n",
    "\n",
    "U1 = np.random.uniform(0, 1, 10)*0.4\n",
    "U2 = np.random.uniform(0, 1, 30)*0.2 + 0.4\n",
    "U3 = np.random.uniform(0, 1, 30)*0.2 + 0.6\n",
    "U4 = np.random.uniform(0, 1, 30)*0.2 + 0.8\n",
    "\n",
    "S = np.zeros(M)\n",
    "payoff = np.zeros(M)\n",
    "\n",
    "for i in range((int)((3*M)/10)):\n",
    "    S[(int)((i/3)*(1-i%3))] = S0*np.exp((r-sigma**2/2)*T + sigma*np.sqrt(T)*stats.norm.ppf(U1[(int)((i/3)*(1-i%3))]))\n",
    "    payoff[(int)((i/3)*(1-i%3))] = np.exp(-r*T)*max(S[(int)((i/3)*(1-i%3))]-K, 0)\n",
    "    \n",
    "    S[i+10] = S0*np.exp((r-sigma**2/2)*T + sigma*np.sqrt(T)*stats.norm.ppf(U2[i]))\n",
    "    payoff[i+10] = np.exp(-r*T)*max(S[i+10]-K, 0)\n",
    "    \n",
    "    S[i+40] = S0*np.exp((r-sigma**2/2)*T + sigma*np.sqrt(T)*stats.norm.ppf(U3[i]))\n",
    "    payoff[i+40] = np.exp(-r*T)*max(S[i+40]-K, 0)\n",
    "    \n",
    "    S[i+70] = S0*np.exp((r-sigma**2/2)*T + sigma*np.sqrt(T)*stats.norm.ppf(U4[i]))\n",
    "    payoff[i+70] = np.exp(-r*T)*max(S[i+70]-K, 0)\n",
    "    \n",
    "mu1 = np.average(payoff[0:9])\n",
    "mu2 = np.average(payoff[10:39])\n",
    "mu3 = np.average(payoff[40:69])\n",
    "mu4 = np.average(payoff[70:99])\n",
    "\n",
    "sig1 = np.std(payoff[0:9])\n",
    "sig2 = np.std(payoff[10:39])\n",
    "sig3 = np.std(payoff[40:69])\n",
    "sig4 = np.std(payoff[70:99])\n",
    "\n",
    "price = 0.4*mu1+0.2*(mu2+mu3+mu4)\n",
    "std_err = np.sqrt((0.4*sig1**2+0.2*(sig2**2+sig3**2+sig4**2))/M)\n",
    "\n",
    "print(\"The estimated value of the price of the option is: \" + str(price))\n",
    "print(\"The estimated standard error of the price of the option is: \" + str(std_err))"
   ]
  },
  {
   "cell_type": "markdown",
   "metadata": {},
   "source": [
    "# Problem 2"
   ]
  },
  {
   "cell_type": "code",
   "execution_count": 3,
   "metadata": {
    "scrolled": true
   },
   "outputs": [
    {
     "name": "stdout",
     "output_type": "stream",
     "text": [
      "For 10000 simulations, the probability that the insurance company pays nothing is: 0.3305, the expected cost to the insurance company is: 222.6892978105333, and the probability that the insurer will have to pay more than $1000 is: 0.0226\n"
     ]
    }
   ],
   "source": [
    "def sim_claims(M):\n",
    "    cost = np.zeros(M)\n",
    "    loss = np.zeros(M)\n",
    "    zero_count = 0\n",
    "    count1000 = 0\n",
    "    \n",
    "    for i in range(M):\n",
    "        N = np.random.binomial(12, 0.4)\n",
    "        prob = np.random.random(N)\n",
    "        \n",
    "        claims = [np.random.gamma(5, 100)*(prob[i]<0.25)+np.random.gamma(4, 50)*(prob[i]>=0.25) for i in range(N)]\n",
    "        loss[i] = np.sum(claims)\n",
    "        \n",
    "        if(loss[i]<1000):\n",
    "            cost[i] = 0\n",
    "        elif(1000<=loss[i]<2500):\n",
    "            cost[i] = 0.5*(loss[i]-1000)\n",
    "        else:\n",
    "            cost[i] = loss[i]-1750\n",
    "        \n",
    "        if(cost[i] == 0):\n",
    "            zero_count += 1\n",
    "        elif(cost[i] >= 1000):\n",
    "            count1000 += 1\n",
    "    \n",
    "    prob0 = zero_count/M\n",
    "    prob1000 = count1000/M\n",
    "    expectation = np.sum(cost)/M\n",
    "    return [prob0, expectation, prob1000]\n",
    "\n",
    "M = 10000\n",
    "results = sim_claims(M)\n",
    "print(\"For \" + str(M) + \" simulations, the probability that the insurance company pays nothing is: \" + str(results[0])\n",
    "        + \", the expected cost to the insurance company is: \" + str(results[1]) + \", and the probability that the \"\n",
    "     \"insurer will have to pay more than $1000 is: \" + str(results[2]))"
   ]
  },
  {
   "cell_type": "markdown",
   "metadata": {},
   "source": [
    "# Problem 3"
   ]
  },
  {
   "cell_type": "code",
   "execution_count": 52,
   "metadata": {
    "scrolled": false
   },
   "outputs": [
    {
     "data": {
      "image/png": "[encoded data removed]",
      "text/plain": [
       "<Figure size 432x288 with 1 Axes>"
      ]
     },
     "metadata": {
      "needs_background": "light"
     },
     "output_type": "display_data"
    }
   ],
   "source": [
    "# Part 1\n",
    "mu = [0.1, 0.2]\n",
    "C = np.array([[0.16, 0.1], [0.1, 0.25]])\n",
    "\n",
    "w1 = np.linspace(-1, 2, 300)\n",
    "w2 = 1-w1\n",
    "w = np.transpose(np.array([w1, w2]))\n",
    "muV = []\n",
    "volatilities = []\n",
    "short_indices = []\n",
    "long_indices = []\n",
    "\n",
    "for i in range(np.size(w, axis=0)):\n",
    "    muV.append(np.linalg.multi_dot([w[i], np.transpose(mu)]))\n",
    "    volatilities.append(np.sqrt(np.linalg.multi_dot([w[i], C, np.transpose(w[i])])))\n",
    "    if(w[i, 0]<0 or w[i, 1]<0):\n",
    "        short_indices.append(i)\n",
    "    else:\n",
    "        long_indices.append(i)\n",
    "\n",
    "muV_short = np.array([muV[i] for i in short_indices])\n",
    "vol_short = np.array([volatilities[i] for i in short_indices])\n",
    "muV_long = np.array([muV[i] for i in long_indices])\n",
    "vol_long = np.array([volatilities[i] for i in long_indices])\n",
    "\n",
    "w_min = np.linalg.multi_dot([np.transpose(np.ones(np.size(C, axis=0))), np.linalg.inv(C)])\n",
    "w_min = w_min/np.linalg.multi_dot([np.transpose(np.ones(np.size(C, axis=0))), np.linalg.inv(C), np.ones(np.size(C, axis=0))])\n",
    "\n",
    "mu_min_port = np.linalg.multi_dot([w_min, np.transpose(mu)])\n",
    "\n",
    "plt.plot(vol_short[muV_short>mu_min_port], muV_short[muV_short>mu_min_port], 'bo')\n",
    "plt.plot(vol_long[muV_long>mu_min_port], muV_long[muV_long>mu_min_port], 'ro')\n",
    "plt.xlabel(\"Risk\")\n",
    "plt.ylabel(\"Expected Return\")\n",
    "plt.legend([\"Portfolio with Shorting\", \"Portfolio without Shorting\"])\n",
    "plt.show()"
   ]
  },
  {
   "cell_type": "code",
   "execution_count": 59,
   "metadata": {},
   "outputs": [
    {
     "name": "stdout",
     "output_type": "stream",
     "text": [
      "The portfolio with the maximum value for the expression is: w  = [-0.13189053  1.13189053]\n"
     ]
    }
   ],
   "source": [
    "# Part 2\n",
    "portfolio_to_maximize = np.array(muV)-0.3*np.array(volatilities)\n",
    "\n",
    "index_approx_max_p = np.argmax(portfolio_to_maximize)\n",
    "approx_max_alloc = w[index_approx_max_p]\n",
    "\n",
    "def expression(w, m, cov):\n",
    "    return np.linalg.multi_dot([w, np.transpose(m)])-0.3*np.linalg.multi_dot([w, cov, np.transpose(w)])\n",
    "\n",
    "def find_max_w(func, w0, num_iter, change, m, cov):\n",
    "    current_w = w0\n",
    "    current_exp = func(current_w, m, cov)\n",
    "    \n",
    "    for i in range(num_iter):\n",
    "        w1_change = np.random.uniform(-change, change)\n",
    "        next_w1 = current_w[0]+w1_change\n",
    "        next_w2 = 1-next_w1\n",
    "        if(next_w1<-1 or next_w1>2):\n",
    "            break\n",
    "        next_w = np.array([next_w1, next_w2])\n",
    "        next_exp = func(next_w, m, cov)\n",
    "        \n",
    "        if(next_exp>current_exp):\n",
    "            current_exp = next_exp\n",
    "            current_w = next_w\n",
    "    return [current_w, current_exp]\n",
    "\n",
    "max_alloc = find_max_w(expression, approx_max_alloc, 1000, 0.0001, mu, C)[0]\n",
    "print(\"The portfolio with the maximum value for the expression is: w  = \" + str(max_alloc))"
   ]
  },
  {
   "cell_type": "markdown",
   "metadata": {},
   "source": [
    "# Problem 4"
   ]
  },
  {
   "cell_type": "code",
   "execution_count": 6,
   "metadata": {},
   "outputs": [
    {
     "name": "stdout",
     "output_type": "stream",
     "text": [
      "The minimum total variance portfolio is: [0.59354839 0.12903226 0.27741935]\n"
     ]
    }
   ],
   "source": [
    "# Part 1\n",
    "mu = np.array([0.1, 0.12, 0.16])\n",
    "C = np.array([[0.09, 0.03, 0], [-0.03, 0.16, 0.04], [0, 0.04, 0.16]])\n",
    "\n",
    "ones = np.ones(np.size(C, 0))\n",
    "w_min = np.linalg.multi_dot([np.transpose(ones), np.linalg.inv(C)])/np.linalg.multi_dot([np.transpose(ones), \n",
    "                                                                                         np.linalg.inv(C), ones])\n",
    "print(\"The minimum total variance portfolio is: \" + str(w_min))"
   ]
  },
  {
   "cell_type": "code",
   "execution_count": 7,
   "metadata": {},
   "outputs": [
    {
     "name": "stdout",
     "output_type": "stream",
     "text": [
      "With target return 0.15, the minimum variance portfolio is: [0.15152616 0.0912064  0.79914608]\n",
      "The associated portfolio standard deviation is: 0.33378119138281354\n"
     ]
    }
   ],
   "source": [
    "# Part 2\n",
    "def eff_port(target_mu, m, cov):\n",
    "    ones = np.ones(np.size(cov, axis=0))\n",
    "    \n",
    "    aa = np.ones((2, 2))\n",
    "    bb = np.ones((2, 2))\n",
    "    cc = np.ones((2, 2))\n",
    "    \n",
    "    aa[0,1] = np.linalg.multi_dot([ones, np.linalg.inv(cov), np.transpose(m)])\n",
    "    aa[1,0] = target_mu\n",
    "    aa[1,1] = np.linalg.multi_dot([m, np.linalg.inv(cov), np.transpose(m)])\n",
    "    \n",
    "    bb[0,0] = np.linalg.multi_dot([ones, np.linalg.inv(cov), np.transpose(ones)])\n",
    "    bb[1,0] = np.linalg.multi_dot([m, np.linalg.inv(cov), np.transpose(ones)])\n",
    "    bb[1,1] = target_mu\n",
    "    \n",
    "    cc[0,0] = bb[0,0]\n",
    "    cc[0,1] = aa[0,1]\n",
    "    cc[1,0] = bb[1,0]\n",
    "    cc[1,1] = aa[1,1]\n",
    "    \n",
    "    myW = (np.linalg.multi_dot([np.linalg.det(aa)*ones, np.linalg.inv(cov)])+np.linalg.multi_dot([np.linalg.det(bb)*m, \n",
    "                                                                                    np.linalg.inv(cov)]))/np.linalg.det(cc)\n",
    "    return myW\n",
    "\n",
    "target_mu = 0.15\n",
    "min_w = eff_port(target_mu, mu, C)\n",
    "sigma_min_w = np.sqrt(np.linalg.multi_dot([min_w, C, np.transpose(min_w)]))\n",
    "\n",
    "print(\"With target return \" + str(target_mu) + \", the minimum variance portfolio is: \" + str(min_w))\n",
    "print(\"The associated portfolio standard deviation is: \" + str(sigma_min_w))"
   ]
  },
  {
   "cell_type": "code",
   "execution_count": 8,
   "metadata": {},
   "outputs": [
    {
     "name": "stdout",
     "output_type": "stream",
     "text": [
      "The market portfolio is: [0.45016077 0.11575563 0.4340836 ] which has expected return: 0.12836012861736334 and standard deviation: 0.2335600661158311\n"
     ]
    }
   ],
   "source": [
    "# Part 3\n",
    "rf = 0.04\n",
    "uVec = np.ones(np.size(C, axis=0))\n",
    "market_w = np.linalg.multi_dot([(mu-rf*uVec), np.linalg.inv(C)])\n",
    "market_w /= np.sum(market_w)\n",
    "mu_market = np.linalg.multi_dot([market_w, np.transpose(mu)])\n",
    "sigma_market = np.sqrt(np.linalg.multi_dot([market_w, np.transpose(C), np.transpose(market_w)]))\n",
    "\n",
    "print(\"The market portfolio is: \" + str(market_w) + \" which has expected return: \" + str(mu_market) + \" and standard \"\n",
    "      \"deviation: \" + str(sigma_market))"
   ]
  },
  {
   "cell_type": "markdown",
   "metadata": {},
   "source": [
    "# Problem 5"
   ]
  },
  {
   "cell_type": "code",
   "execution_count": 48,
   "metadata": {
    "scrolled": false
   },
   "outputs": [
    {
     "name": "stdout",
     "output_type": "stream",
     "text": [
      "The portfolio with variance closest to zero is: [0.643076719436744, 0.2246158135018204, 0.1323074670614356]\n",
      "The portfolio with variance closest to 0.6 is: [-0.14287469367242225, -0.04933417706538431, 1.1922088707378067]\n"
     ]
    }
   ],
   "source": [
    "# Part a)\n",
    "mu = [0.06, 0.08, 0.12]\n",
    "C = np.array([[0.04, 0.01, -0.01], [0.01, 0.09, 0], [-0.01, 0, 0.25]])\n",
    "\n",
    "def find_w(target_sigma, w0, num_iter, tolerance, change, cov):\n",
    "    current_w = w0\n",
    "    current_sigma = np.sqrt(np.linalg.multi_dot([current_w, cov, np.transpose(current_w)]))\n",
    "    \n",
    "    for i in range(num_iter):\n",
    "        w_changes = []\n",
    "        next_w = []\n",
    "        \n",
    "        for i in range(np.size(cov, axis=0)-1):\n",
    "            w_changes.append(np.random.uniform(-change, change))\n",
    "            next_w.append(current_w[i]+w_changes[i])\n",
    "            \n",
    "        next_w.append(1-np.sum(next_w))\n",
    "        next_sigma = np.sqrt(np.linalg.multi_dot([np.array(next_w), cov, np.transpose(np.array(next_w))]))\n",
    "        \n",
    "        if(abs(current_sigma-target_sigma)>abs(next_sigma-target_sigma)):\n",
    "            current_sigma = next_sigma\n",
    "            current_w = next_w\n",
    "        \n",
    "        if(target_sigma-tolerance <= current_sigma <= target_sigma+tolerance):\n",
    "            break\n",
    "    return [current_w, current_sigma]\n",
    "\n",
    "w0=[1/3, 1/3, 1/3]\n",
    "num_iter = 100000\n",
    "tolerance = 0.0001\n",
    "change = 0.0001\n",
    "\n",
    "target_sigma_0 = 0\n",
    "w_0 = find_w(target_sigma_0, w0, num_iter, tolerance, change, C)[0]\n",
    "\n",
    "target_sigma_0_6 = 0.6\n",
    "w_06 = find_w(target_sigma_0_6, w0, num_iter, tolerance, change, C)[0]\n",
    "\n",
    "print(\"The portfolio with variance closest to zero is: \"+ str(w_0))\n",
    "print(\"The portfolio with variance closest to 0.6 is: \"+ str(w_06))"
   ]
  },
  {
   "cell_type": "code",
   "execution_count": 49,
   "metadata": {
    "scrolled": false
   },
   "outputs": [
    {
     "name": "stdout",
     "output_type": "stream",
     "text": [
      "The minimum portfolio variance possible is: 0.16323649667324353\n"
     ]
    },
    {
     "data": {
      "image/png": "[encoded data removed]",
      "text/plain": [
       "<Figure size 432x288 with 1 Axes>"
      ]
     },
     "metadata": {
      "needs_background": "light"
     },
     "output_type": "display_data"
    }
   ],
   "source": [
    "mu_vals = []\n",
    "sig_vals = []\n",
    "\n",
    "w1_vals = np.linspace(w_0[0], w_06[0], 100)\n",
    "w2_vals = np.linspace(w_0[1], w_06[1], 100)\n",
    "w3_vals = 1-w1_vals-w2_vals\n",
    "w_vals =np.transpose(np.array([w1_vals, w2_vals, w3_vals]))\n",
    "\n",
    "ones = np.ones(np.size(C, 0))\n",
    "w_min = np.linalg.multi_dot([np.transpose(ones), np.linalg.inv(C)])/np.linalg.multi_dot([np.transpose(ones), \n",
    "                                                                                         np.linalg.inv(C), ones])\n",
    "min_var = np.sqrt(np.linalg.multi_dot([w_min, C, np.transpose(w_min)]))\n",
    "mu_cutoff = np.linalg.multi_dot([w_min, np.transpose(mu)])\n",
    "print(\"The minimum portfolio variance possible is: \" + str(min_var))\n",
    "\n",
    "for i in range(np.size(w_vals, axis=0)):\n",
    "    mu_vals.append(np.linalg.multi_dot([w_vals[i], np.transpose(mu)]))\n",
    "    sig_vals.append(np.sqrt(np.linalg.multi_dot([w_vals[i], C, np.transpose(w_vals[i])])))\n",
    "        \n",
    "plt.plot(sig_vals_efficient, mu_vals_efficient, 'bo')\n",
    "plt.plot(sig_vals_inefficient, mu_vals_inefficient, 'ro')\n",
    "plt.xlabel(\"Risk\")\n",
    "plt.ylabel(\"Expected Return\")\n",
    "plt.show()"
   ]
  },
  {
   "cell_type": "code",
   "execution_count": 50,
   "metadata": {},
   "outputs": [
    {
     "data": {
      "image/png": "[encoded data removed]",
      "text/plain": [
       "<Figure size 432x288 with 1 Axes>"
      ]
     },
     "metadata": {
      "needs_background": "light"
     },
     "output_type": "display_data"
    }
   ],
   "source": [
    "# Part b)\n",
    "mu_12 = np.array([0.06, 0.08])\n",
    "mu_13 = np.array([0.06, 0.12])\n",
    "mu_23 = np.array([0.08, 0.12])\n",
    "C_12 = np.array([[0.04, 0.01], [0.01, 0.09]])\n",
    "C_13 = np.array([[0.04, -0.01], [-0.01, 0.25]])\n",
    "C_23 = np.array([[0.09, 0], [0, 0.25]])\n",
    "\n",
    "w0=[1/2, 1/2]\n",
    "num_iter = 100000\n",
    "tolerance = 0.0001\n",
    "change = 0.0001\n",
    "\n",
    "w_0_12 = find_w(target_sigma_0, w0, num_iter, tolerance, change, C_12)[0]\n",
    "w_06_12 = find_w(target_sigma_0_6, w0, num_iter, tolerance, change, C_12)[0]\n",
    "w1_vals_12 = np.linspace(w_0_12[0], w_06_12[0], 50)\n",
    "w2_vals_12 = 1-w1_vals_12\n",
    "w_vals_12 = np.transpose(np.array([w1_vals_12, w2_vals_12]))\n",
    "muV_vals_12 = []\n",
    "risk_vals_12 = []\n",
    "\n",
    "w_0_13 = find_w(target_sigma_0, w0, num_iter, tolerance, change, C_13)[0]\n",
    "w_06_13 = find_w(target_sigma_0_6, w0, num_iter, tolerance, change, C_13)[0]\n",
    "w1_vals_13 = np.linspace(w_0_13[0], w_06_13[0], 50)\n",
    "w2_vals_13 = 1-w1_vals_13\n",
    "w_vals_13 = np.transpose(np.array([w1_vals_13, w2_vals_13]))\n",
    "muV_vals_13 = []\n",
    "risk_vals_13 = []\n",
    "\n",
    "w_0_23 = find_w(target_sigma_0, w0, num_iter, tolerance, change, C_23)[0]\n",
    "w_06_23 = find_w(target_sigma_0_6, w0, num_iter, tolerance, change, C_23)[0]\n",
    "w1_vals_23 = np.linspace(w_0_23[0], w_06_23[0], 50)\n",
    "w2_vals_23 = 1-w1_vals_23\n",
    "w_vals_23 = np.transpose(np.array([w1_vals_23, w2_vals_23]))\n",
    "muV_vals_23 = []\n",
    "risk_vals_23 = []\n",
    "\n",
    "for i in range(50):\n",
    "    muV_vals_12.append(np.linalg.multi_dot([w_vals_12[i], np.transpose(mu_12)]))\n",
    "    risk_vals_12.append(np.sqrt(np.linalg.multi_dot([w_vals_12[i], C_12, np.transpose(w_vals_12[i])])))\n",
    "    \n",
    "    muV_vals_13.append(np.linalg.multi_dot([w_vals_13[i], np.transpose(mu_13)]))\n",
    "    risk_vals_13.append(np.sqrt(np.linalg.multi_dot([w_vals_13[i], C_13, np.transpose(w_vals_13[i])])))\n",
    "    \n",
    "    muV_vals_23.append(np.linalg.multi_dot([w_vals_23[i], np.transpose(mu_23)]))\n",
    "    risk_vals_23.append(np.sqrt(np.linalg.multi_dot([w_vals_23[i], C_23, np.transpose(w_vals_23[i])])))\n",
    "    \n",
    "plt.plot(risk_vals_12, muV_vals_12, 'bo')\n",
    "plt.plot(risk_vals_13, muV_vals_13, 'ro')\n",
    "plt.plot(risk_vals_23, muV_vals_23, 'go')\n",
    "plt.xlabel(\"Risk\")\n",
    "plt.ylabel(\"Expected Returns\")\n",
    "plt.legend(['Asset 1 and 2', 'Asset 1 and 3', 'Asset 2 and 3'])\n",
    "plt.show()"
   ]
  },
  {
   "cell_type": "code",
   "execution_count": 51,
   "metadata": {
    "scrolled": true
   },
   "outputs": [
    {
     "name": "stdout",
     "output_type": "stream",
     "text": [
      "The minimum variance portfolio for the asset 1 and 2 combination has weights: [0.72727273 0.27272727] with sigma and mu values of: (0.17837651700316892, 0.06545454545454546)\n",
      "The minimum variance portfolio for the asset 1 and 3 combination has weights: [0.83870968 0.16129032] with sigma and mu values of: (0.17870501915438117, 0.0696774193548387)\n",
      "The minimum variance portfolio for the asset 2 and 3 combination has weights: [0.73529412 0.26470588] with sigma and mu values of: (0.25724787771376323, 0.09058823529411764)\n"
     ]
    }
   ],
   "source": [
    "ones = np.ones(np.size(C_12, 0))\n",
    "w_min_12 = np.linalg.multi_dot([np.transpose(ones), np.linalg.inv(C_12)])/np.linalg.multi_dot([np.transpose(ones), \n",
    "                                                                                         np.linalg.inv(C_12), ones])\n",
    "min_var_12 = np.sqrt(np.linalg.multi_dot([w_min_12, C_12, np.transpose(w_min_12)]))\n",
    "muV_min_var_12 = np.linalg.multi_dot([w_min_12, np.transpose(mu_12)])\n",
    "\n",
    "w_min_13 = np.linalg.multi_dot([np.transpose(ones), np.linalg.inv(C_13)])/np.linalg.multi_dot([np.transpose(ones), \n",
    "                                                                                         np.linalg.inv(C_13), ones])\n",
    "min_var_13 = np.sqrt(np.linalg.multi_dot([w_min_13, C_13, np.transpose(w_min_13)]))\n",
    "muV_min_var_13 = np.linalg.multi_dot([w_min_13, np.transpose(mu_13)])\n",
    "\n",
    "w_min_23 = np.linalg.multi_dot([np.transpose(ones), np.linalg.inv(C_23)])/np.linalg.multi_dot([np.transpose(ones), \n",
    "                                                                                         np.linalg.inv(C_23), ones])\n",
    "min_var_23 = np.sqrt(np.linalg.multi_dot([w_min_23, C_23, np.transpose(w_min_23)]))\n",
    "muV_min_var_23 = np.linalg.multi_dot([w_min_23, np.transpose(mu_23)])\n",
    "\n",
    "print(\"The minimum variance portfolio for the asset 1 and 2 combination has weights: \" + str(w_min_12) + \" with sigma and\"\n",
    "     \" mu values of: \" + str((min_var_12, muV_min_var_12)))\n",
    "print(\"The minimum variance portfolio for the asset 1 and 3 combination has weights: \" + str(w_min_13) + \" with sigma and\"\n",
    "     \" mu values of: \" + str((min_var_13, muV_min_var_13)))\n",
    "print(\"The minimum variance portfolio for the asset 2 and 3 combination has weights: \" + str(w_min_23) + \" with sigma and\"\n",
    "     \" mu values of: \" + str((min_var_23, muV_min_var_23)))"
   ]
  },
  {
   "cell_type": "markdown",
   "metadata": {},
   "source": [
    "### Part c)\n",
    "> All the 4 curves start and end at the same risk value, but the expected returns are different. This is because, the different combinations of assets yields different portfolio weights at each $(\\sigma, \\mu)$ coordinate. This results in the curves having different slopes."
   ]
  }
 ],
 "metadata": {
  "kernelspec": {
   "display_name": "Python 3",
   "language": "python",
   "name": "python3"
  },
  "language_info": {
   "codemirror_mode": {
    "name": "ipython",
    "version": 3
   },
   "file_extension": ".py",
   "mimetype": "text/x-python",
   "name": "python",
   "nbconvert_exporter": "python",
   "pygments_lexer": "ipython3",
   "version": "3.7.3"
  }
 },
 "nbformat": 4,
 "nbformat_minor": 2
}
