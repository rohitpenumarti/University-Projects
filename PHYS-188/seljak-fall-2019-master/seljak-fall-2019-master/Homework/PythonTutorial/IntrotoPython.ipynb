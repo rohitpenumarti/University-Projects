{
 "cells": [
  {
   "cell_type": "markdown",
   "metadata": {},
   "source": [
    "source: https://github.com/berkeley-physics/intro_python\n",
    "\n",
    "\n",
    "# Introduction to Python\n",
    "\n",
    "If you are viewing this notebook on `datahub.berkeley.edu`, you should have everything you need. If you are running this anywhere else, you will need Python 3 and the core Jupyter packages, as well as `numpy`, `scipy`, and `matplotlib`, which are standard packages that should come with your Jupyter installation.\n",
    "\n",
    "Text in <font color=\"red\">red</font> is \"advanced\" material. Beginners who are finding these concepts difficult to grasp, are recommended to skip the advanced material until they are more familiar with programming. When you have finished the tutorials please fill in the feedback survey [here](https://forms.gle/UN3bFxiXg19GJfy9A).\n",
    "\n",
    "### Contents\n",
    "- [Introduction](#intro)\n",
    "- [A glorified calculator](#calc)\n",
    "- [Types of things](#types)\n",
    "- [Functions and variables](#fn)\n",
    "- [Lists, tuples, etc.](#lists)\n",
    "- [Classes](#classes)\n",
    "- [Control flow](#cflow)\n",
    "- [NumPy](#numpy)\n",
    "- [Jupyter notebooks](#jupyter)\n",
    "\n",
    "<a name=\"intro\"></a>\n",
    "### Introduction\n",
    "#### Welcome to programming\n",
    "An integral part of the physicist's toolkit is the computer. A computer is a physical device designed in such a way that the physical states of the system, and the relationships between them, can be mapped to those of any other physical systems. Thus we can simulate physical systems by identifying them with that of a computer. This mapping is so powerful in fact that it is more effective to think of the computer as a mathematical system rather than a physical one. The mathematics of computers, called computer science, is a rich field which connects seamlessly with physics in areas like (quantum and classical) information theory and complexity theory. Many physicists subscribe to some kind of notion of digital philosophy, in which the primary entities of the universe, the physical things, are nothing more than information (\"it from bit/qubit\"). In this viewpoint, computer science and physics are literally identical. It is not surprising then, that people interested in physics are often also interested in mathematics and computer science. However here we use computers only as tools that enable greater physical insight and understanding, and so for us right now they are a means to an end rather than an end itself.\n",
    "\n",
    "You will be learning programming for physics in a language called Python. As such we will only teach you what you're likely to need to know. Thus while we won't talk about Turing machines or complexity classes, we recommend that you take some CS classes or use some of the extensive resources available online to learn more about this rich and interesting field of study.\n",
    "\n",
    "Computers are mathematical systems which we can program. We can create mathematical objects, and define the rules that determine how they behave. Physical systems also follow rules. By encoding those rules into a program, we can use the physical system that is a computer to simulate a vast array of other physical systems.\n",
    "\n",
    "If we compute things exactly using abstract mathematical objects as we would on paper, this is called __symbolic__ computing. We'd recommend [Mathematica](https://software.berkeley.edu/mathematica) for symbolic computing, but Python also has [a package](https://www.sympy.org/en/index.html) for it. Symbolic computing basically does the math for you because some mathematicians have codified into a program the usual rules of manipulation of mathematical expressions.\n",
    "\n",
    "While you are welcome to use symbolic computation, this is not the kind of computing we shall be doing here. We shall be doing __numerical__ computing, in which we approximate numbers to representations on a computer. Since a digital computer only has a finite level of accuracy (discussed further below), this process is not exact and does contain error. Sometimes one must be careful that the errors do not propagate and that our answers are not affected by it. \n",
    "\n",
    "#### Motivation\n",
    "Why use computers? Can't we use good old-fashioned pen and paper to get exact answers instead of numerical approximations? Here are some things that are easy numerically, but extremely tedious if not untractable analytically:\n",
    "\n",
    "- transcendental equations\n",
    "- high-dimensional statistics\n",
    "- solving differential equations (Navier-Stokes: is fluid dynamics solved?)\n",
    "- data analysis\n",
    "- series expansions\n",
    "- evaluating functions\n",
    "- integration\n",
    "- basic arithmetic (what's $67+313^{344}-13*12 \\mod 235$?)\n",
    "\n",
    "In this series of introductory notebooks, we shall do all of the above using standard packages in Python. \n",
    "\n",
    "The rest of this notebook is an introduction to programming in Python. Each section introduces you to programming concepts and/or shows you how to efficiently implement schemes in Python. If you are familiar with Python, you might want to skip this notebook and move on to the next one which introduces you to scientific computing in Python. If you are familiar with programming but not Python, we'd recommend that you go through the relevant parts of the notebook to get familiar with Python quirks and syntax.\n",
    "\n",
    "#### Python vs other languages\n",
    "The Physics department has decided to use Python since it is the most commonly used language for applications in physics. Python is a _high-level_ language, which means that Python itself is written in a _low-level language_ like C, which itself is written in the binary instruction language understood by the computer. Thus when you run a Python program, it is first compiled to a C program. This C program is then compiled to machine instructions, which are then executed. A higher-level language allows you to do more things without having to write as much code, and not worry about the details of how things work under the hood. A lower-level language will be more verbose, but it gives you the ability to choose exactly how things are implemented, and thus allows you to make your code run faster. Since we use Python, our code will typically be shorter but slower than the equivalent code in a lower-level language\n",
    "\n",
    "<a name=\"calc\"></a>\n",
    "### A glorified calculator\n",
    "\n",
    "You can do all the usual arithmetic operations with Python. You can edit and press `shift` + `enter` to evaluate each of the cells below. Feel free to create a new notebook or additional cells using the + icon in the taskbar on top of the page to play around.\n",
    "\n",
    "Addition"
   ]
  },
  {
   "cell_type": "code",
   "execution_count": null,
   "metadata": {},
   "outputs": [],
   "source": [
    "5+2"
   ]
  },
  {
   "cell_type": "markdown",
   "metadata": {},
   "source": [
    "Subtraction"
   ]
  },
  {
   "cell_type": "code",
   "execution_count": null,
   "metadata": {},
   "outputs": [],
   "source": [
    "6-8"
   ]
  },
  {
   "cell_type": "markdown",
   "metadata": {},
   "source": [
    "Multiplication"
   ]
  },
  {
   "cell_type": "code",
   "execution_count": null,
   "metadata": {},
   "outputs": [],
   "source": [
    "4*2.5"
   ]
  },
  {
   "cell_type": "markdown",
   "metadata": {},
   "source": [
    "Division"
   ]
  },
  {
   "cell_type": "code",
   "execution_count": null,
   "metadata": {},
   "outputs": [],
   "source": [
    "32/6 #this is a comment"
   ]
  },
  {
   "cell_type": "markdown",
   "metadata": {},
   "source": [
    "Integer division (quotient)"
   ]
  },
  {
   "cell_type": "code",
   "execution_count": null,
   "metadata": {},
   "outputs": [],
   "source": [
    "32//6. #everything after the '#' is ignored by Python"
   ]
  },
  {
   "cell_type": "markdown",
   "metadata": {},
   "source": [
    "Modulus (remainder)"
   ]
  },
  {
   "cell_type": "code",
   "execution_count": null,
   "metadata": {},
   "outputs": [],
   "source": [
    "32%6."
   ]
  },
  {
   "cell_type": "markdown",
   "metadata": {},
   "source": [
    "Exponentiation (be careful not to use `^`, that means [bitwise `XOR`](https://en.wikipedia.org/wiki/Bitwise_operation#XOR))"
   ]
  },
  {
   "cell_type": "code",
   "execution_count": null,
   "metadata": {},
   "outputs": [],
   "source": [
    "2**10"
   ]
  },
  {
   "cell_type": "markdown",
   "metadata": {},
   "source": [
    "You can also compare objects"
   ]
  },
  {
   "cell_type": "code",
   "execution_count": null,
   "metadata": {},
   "outputs": [],
   "source": [
    "3 < 4, 5 == 5.0, 32 >= 33"
   ]
  },
  {
   "cell_type": "markdown",
   "metadata": {},
   "source": [
    "It follows the usual order of operations"
   ]
  },
  {
   "cell_type": "code",
   "execution_count": null,
   "metadata": {},
   "outputs": [],
   "source": [
    "4**3/2+1%5, (4**(3/2)+1)%5 #use parentheses where required."
   ]
  },
  {
   "cell_type": "markdown",
   "metadata": {},
   "source": [
    "The full list of in-built Python operators can be found in the [relavant Python documentation](https://docs.python.org/3/library/stdtypes.html#numeric-types-int-float-complex). In general, whenever you are using something written by somebody else, you should make sure you know what it is doing, e.g. what inputs to give a function and what outputs to expect. This is the purpose of __documentation__, and using documentation is an essential programming skill. Documentation and [stack overflow](https://stackoverflow.com/) will be your greatest friends in your quest to learn Python. Since we introduce you to all of Python in one notebook, we mention a lot of things without explaining them in depth. We will at first provide links to documentation, but later will expect you to use the extensive materials available online by yourself. \n",
    "\n",
    "<a name=\"eqn\"></a>\n",
    "### Types of things\n",
    "\n",
    "These are many different types of primitive objects in Python. As you saw above, the most commonly used built-in types are integers (`int`) and floating-point numbers (`float`). Other commonly used types are pieces of text, called strings (`str`), and binary true/false objects called [Booleans](https://en.wikipedia.org/wiki/Boolean_algebra) (`bool`). Python has a built-in function called `type()` that tells you the type of a given object."
   ]
  },
  {
   "cell_type": "code",
   "execution_count": null,
   "metadata": {},
   "outputs": [],
   "source": [
    "type(1), type(1.), type(True), type(\"hello\")"
   ]
  },
  {
   "cell_type": "markdown",
   "metadata": {},
   "source": [
    "`int`s are exact and Python 3 automatically resizes the data allotted to each int so that it can store an arbitrarily large positive or negative integer. On the other hand, `float`s are __not exact__. Essentially floating-point numbers are binary fractions multiplied by a scale. Typically Python uses 64 bits for floats, which are represented as $n=\\text{(53-bit integer)}\\times 2^{\\text{(11-bit integer)}-52}$. Thus there are 53 bits of precision, meaning that the float $f$ represents all numbers in a range of $2^{-53}f$. When subtracting floats that are very close to each other (e.g. taking derivatives), error that was intially a factor of $10^{-16}$ might scale up dramatically. The largest and smallest numbers floats can store are $2^{-2^{10}-52}$ and $2^{2^{10}-1}$ (we lose 1 bit to the sign of each integer). Trying to store smaller or larger numbers results in underflow or overflow respectively (but sometimes you can work in log space). Ultimately, since they are represented using 64 bits, there are only $2^{64}$ floats. This kind of thing is unavoidable when using a discrete system like a digital computer to model or represent a continuous system like the number line. Since these representational errors can compound, comparing floats is a bit tricky. For more information, read the [Python tutorial](https://docs.python.org/3/tutorial/floatingpoint.html)."
   ]
  },
  {
   "cell_type": "code",
   "execution_count": null,
   "metadata": {},
   "outputs": [],
   "source": [
    "2**1024 #python ints rescale as much as memory allows"
   ]
  },
  {
   "cell_type": "markdown",
   "metadata": {},
   "source": [
    "When a number becomes too large or too small to be a represented by a float, e.g. when performing repeated multiplications or divisions, this is known as _overflow_ or _underflow_ respectively."
   ]
  },
  {
   "cell_type": "code",
   "execution_count": null,
   "metadata": {},
   "outputs": [],
   "source": [
    "2.**1024 #overflow"
   ]
  },
  {
   "cell_type": "code",
   "execution_count": null,
   "metadata": {},
   "outputs": [],
   "source": [
    "1.999999*2.**1023, 2*2.**1023"
   ]
  },
  {
   "cell_type": "code",
   "execution_count": null,
   "metadata": {},
   "outputs": [],
   "source": [
    "2**-1074, 2**-1074/1.9999999, 2**-1074/2"
   ]
  },
  {
   "cell_type": "code",
   "execution_count": null,
   "metadata": {},
   "outputs": [],
   "source": [
    "2**-52, 1.+2**-52-1 #float precision"
   ]
  },
  {
   "cell_type": "code",
   "execution_count": null,
   "metadata": {},
   "outputs": [],
   "source": [
    "2**-53, 1.+2**-53-1 "
   ]
  },
  {
   "cell_type": "code",
   "execution_count": null,
   "metadata": {},
   "outputs": [],
   "source": [
    "2**64 #total number of floats (upper bound)"
   ]
  },
  {
   "cell_type": "code",
   "execution_count": null,
   "metadata": {},
   "outputs": [],
   "source": [
    "3*0.1, 3*0.1 == 0.3 #in practice, we can check if 2 floats are within some small tolerance from each other; more on this later."
   ]
  },
  {
   "cell_type": "markdown",
   "metadata": {},
   "source": [
    "Here's a handy way to input large or small `float`s:"
   ]
  },
  {
   "cell_type": "code",
   "execution_count": null,
   "metadata": {},
   "outputs": [],
   "source": [
    "1e-2, 1.4e3, 1.8e0 #use e to set an integer exponent, e.g. 3.3e-5 =  3.3 * 10**-5"
   ]
  },
  {
   "cell_type": "markdown",
   "metadata": {},
   "source": [
    "Python automatically casts one type to another when required. Typically the casting heirarchy preserves information. For more information, read the [docs](https://docs.python.org/3/library/stdtypes.html#numeric-types-int-float-complex)."
   ]
  },
  {
   "cell_type": "code",
   "execution_count": null,
   "metadata": {},
   "outputs": [],
   "source": [
    "type(5*2), type(5*2.), type(5/2), type(5//2), type(1.+False)"
   ]
  },
  {
   "cell_type": "markdown",
   "metadata": {},
   "source": [
    "Of course, this doesn't always work:"
   ]
  },
  {
   "cell_type": "code",
   "execution_count": null,
   "metadata": {},
   "outputs": [],
   "source": [
    "1+\"2\""
   ]
  },
  {
   "cell_type": "markdown",
   "metadata": {},
   "source": [
    "You can also explicitly convert some types to others using built-in functions that are rather intuitively named:"
   ]
  },
  {
   "cell_type": "code",
   "execution_count": null,
   "metadata": {},
   "outputs": [],
   "source": [
    "str(5.4), bool(-45.2), float(6), int(6.9), float(\"587e-10\")"
   ]
  },
  {
   "cell_type": "markdown",
   "metadata": {},
   "source": [
    "Of course, this doesn't always work.\n",
    "\n",
    "Python also has complex numbers, initialised by the special letter `j` written at the end of a number (`int` or `float`), which plays the role of $i\\equiv\\sqrt{-1}$."
   ]
  },
  {
   "cell_type": "code",
   "execution_count": null,
   "metadata": {},
   "outputs": [],
   "source": [
    "type(1j), abs(.4+.3j), 1==1+0j, (3+2j).real, (3+2j).imag"
   ]
  },
  {
   "cell_type": "markdown",
   "metadata": {},
   "source": [
    "There's also a special constant called `None` that is sometimes used to denote a lack of information."
   ]
  },
  {
   "cell_type": "code",
   "execution_count": null,
   "metadata": {},
   "outputs": [],
   "source": [
    "type(None)"
   ]
  },
  {
   "cell_type": "markdown",
   "metadata": {},
   "source": [
    "<a name=\"fn\"></a>\n",
    "### Functions and variables\n",
    "\n",
    "Functions are types of objects which return objects when given objects. They are functions as we think of them mathematically. Python has several built-in functions, like `type()` and the ones to convert type that we saw in the previous section. We can also define our own functions. Here's the function definition for $f(x)=x^2$."
   ]
  },
  {
   "cell_type": "code",
   "execution_count": null,
   "metadata": {},
   "outputs": [],
   "source": [
    "def f(x): #this is the function definition\n",
    "    \"\"\"Returns the square of x\"\"\" #this is the docstring. it is documentation that specifies what the function does.\n",
    "    #this is the body of the function. you can use any of the arguments (in this case, x) here\n",
    "    #the function ends when the indented block ends or when it hits a return\n",
    "    #the editor will automatically indent after a valid function declaration, but you will sometimes have to unindent manually.\n",
    "    return x**2 #function execution ends and x**2 is passed on to the thing that called the function\n",
    "#function definition ended. no longer indented\n",
    "#to learn how functions are executed, google 'call stack'"
   ]
  },
  {
   "cell_type": "markdown",
   "metadata": {},
   "source": [
    "<font color=\"red\">Python differs from most other programming languages in that whitespace matters: indentation is an integral part of the language and tells the compiler when blocks end.</font>"
   ]
  },
  {
   "cell_type": "code",
   "execution_count": null,
   "metadata": {},
   "outputs": [],
   "source": [
    "f(4) #this is a function call. The code written in the function definition is only executed when it is called"
   ]
  },
  {
   "cell_type": "markdown",
   "metadata": {},
   "source": [
    "To obtain information about a function, use `?`."
   ]
  },
  {
   "cell_type": "code",
   "execution_count": null,
   "metadata": {},
   "outputs": [],
   "source": [
    "f?"
   ]
  },
  {
   "cell_type": "code",
   "execution_count": null,
   "metadata": {},
   "outputs": [],
   "source": [
    "str?"
   ]
  },
  {
   "cell_type": "markdown",
   "metadata": {},
   "source": [
    "In most programming languages, one has to specify the type of each argument accepted by the function. For example, we would have to specify that `x` in the function above is e.g. a `float`. However, Python is __untyped__. In Python, anything can be passed on to the function, and so one has to be careful that the function works as expected for all the types it is called on. One common beginners' mistake is for people to pass lists to functions expecting single values. If other people are going to be using your code, you can enforce preconditions on your arguments using the statements `assert` and/or `raise`."
   ]
  },
  {
   "cell_type": "code",
   "execution_count": null,
   "metadata": {},
   "outputs": [],
   "source": [
    "f(True)"
   ]
  },
  {
   "cell_type": "code",
   "execution_count": null,
   "metadata": {},
   "outputs": [],
   "source": [
    "f(\"a\") #Since python is untyped, python functions differ from mathematical functions in that they lack explicit domains and ranges"
   ]
  },
  {
   "cell_type": "markdown",
   "metadata": {},
   "source": [
    "Keep in mind that functions don't have to return anything. If Python sees an unindented block before a `return`, it will end the function execution and implicitly return `None`. \n",
    "\n",
    "We can also create variables that can take on temporary values. Again, in Python, unlike most other languages, variables are untyped. Thus a variable that starts off as an `int`, for example, might get reassigned to a `str`."
   ]
  },
  {
   "cell_type": "code",
   "execution_count": null,
   "metadata": {},
   "outputs": [],
   "source": [
    "x = 5 #this is an assignment. The variable x now has the value 5"
   ]
  },
  {
   "cell_type": "code",
   "execution_count": null,
   "metadata": {},
   "outputs": [],
   "source": [
    "x #can access variable in any cell executed after the one it was defined in"
   ]
  },
  {
   "cell_type": "code",
   "execution_count": null,
   "metadata": {},
   "outputs": [],
   "source": [
    "x = \"ab\"+\"cd\" #assign new value. old value lost."
   ]
  },
  {
   "cell_type": "code",
   "execution_count": null,
   "metadata": {},
   "outputs": [],
   "source": [
    "x"
   ]
  },
  {
   "cell_type": "code",
   "execution_count": null,
   "metadata": {},
   "outputs": [],
   "source": [
    "del x #delete variable"
   ]
  },
  {
   "cell_type": "code",
   "execution_count": null,
   "metadata": {},
   "outputs": [],
   "source": [
    "x"
   ]
  },
  {
   "cell_type": "markdown",
   "metadata": {},
   "source": [
    "Variables like `x` in the cell above are _global_ variables. They can be referenced anywhere in the notebook. However, variables defined inside function definitions are called _local_ variables. They can only be accessed within the body of the function, and are lost when the function execution ends. If a global variable has the same name as the argument to a function or to a local variable, the global variable cannot be accessed within the body of the function. In general, try to avoid namespace collisions."
   ]
  },
  {
   "cell_type": "code",
   "execution_count": null,
   "metadata": {},
   "outputs": [],
   "source": [
    "x = 5 #global variables\n",
    "z = 6\n",
    "y = -1\n",
    "\n",
    "def g(x,y):\n",
    "    #global variables x and y cannot be accessed here because they have same names as arguments\n",
    "    z = x + y #defines new local variable in terms of arguments. now global variable z is unchanged but cannot be accessed\n",
    "    return f(z) #uses local variable\n",
    "\n",
    "g(1,2), z, f(z), x, y, f(x+y) #this is outside body of function. global vriables can be accessed."
   ]
  },
  {
   "cell_type": "markdown",
   "metadata": {},
   "source": [
    "While functions can access global variables, this is considered bad programming practice. One should pass the function everything it needs as an argument, so that the function can run in any environment and no global variables need to be defined. Similarly, one can change global variables by scoping it using `global`, but one should instead return everything required."
   ]
  },
  {
   "cell_type": "code",
   "execution_count": null,
   "metadata": {},
   "outputs": [],
   "source": [
    "def bad_fn(x):\n",
    "    return x + z #using global variable z and argument x\n",
    "\n",
    "bad_fn(1), x, z"
   ]
  },
  {
   "cell_type": "code",
   "execution_count": null,
   "metadata": {},
   "outputs": [],
   "source": [
    "z = None #this breaks the function\n",
    "bad_fn(1)"
   ]
  },
  {
   "cell_type": "markdown",
   "metadata": {},
   "source": [
    "While we have only shown you functions with 1 or 2 arguments so far, you can define functions with 0 or more arguments. In Python you can also define some arguments to be optional, and assign it a default value in the function definition. These arguments are known as keywords. As an example, let's consider the problem of testing two `float`s for equality. "
   ]
  },
  {
   "cell_type": "code",
   "execution_count": null,
   "metadata": {},
   "outputs": [],
   "source": [
    "def float_equal(float1, float2, tolerance=1e-6):\n",
    "    return abs(float1-float2) <= tolerance\n",
    "\n",
    "float_equal(0.1*3, 0.3), float_equal(3, 3+5e-7), float_equal(3, 3+5e-7, 1e-7)"
   ]
  },
  {
   "cell_type": "markdown",
   "metadata": {},
   "source": [
    "Arguments can be given using the name of the argument, in which case the order of arguments doesn't matter. Keywords must always follow the regular arguments though."
   ]
  },
  {
   "cell_type": "code",
   "execution_count": null,
   "metadata": {},
   "outputs": [],
   "source": [
    "float_equal(0.1*3, 0.3, 1e-10), float_equal(0.1*3, 0.3, tolerance=1e-10), float_equal(tolerance=1e-10, float2=0.3, float1=0.1*3) #these are all equivalent."
   ]
  },
  {
   "cell_type": "markdown",
   "metadata": {},
   "source": [
    "Functions are just another type of object. Thus we can use functions as arguments to functions, or have functions that return functions. Here is one that does both:"
   ]
  },
  {
   "cell_type": "code",
   "execution_count": null,
   "metadata": {},
   "outputs": [],
   "source": [
    "type(f)"
   ]
  },
  {
   "cell_type": "code",
   "execution_count": null,
   "metadata": {},
   "outputs": [],
   "source": [
    "def add_five(fn):\n",
    "    def g(x):\n",
    "        return fn(x)+5\n",
    "    return g\n",
    "\n",
    "h = add_five(f)\n",
    "add_five, h, f(3), h(3)"
   ]
  },
  {
   "cell_type": "markdown",
   "metadata": {},
   "source": [
    "A popular computer science paradigm is functional programming, in which all data types are functions. The analogous field of math is known as $\\lambda$-calculus. In this spirit, Python offers a way to create anonymous functions in one line using the `lambda` command. For example, the command `lambda arg1, arg2: arg1+arg2` creates a function that takes two arguments and returns their sum. We can assign this object to a variable, e.g. `f = lambda arg: value`, which is equivalent to `def f(arg): return value`."
   ]
  },
  {
   "cell_type": "code",
   "execution_count": null,
   "metadata": {},
   "outputs": [],
   "source": [
    "f = lambda x: x**2 #this is equivlent to the previous definition of f\n",
    "\n",
    "def add_five(fn): #this is equivalent to the previous definition of add_five\n",
    "    return lambda x: fn(x)+5\n",
    "\n",
    "add_five = lambda fn: lambda x: fn(x)+5 #this is also equivalent to the previous definition of add_five"
   ]
  },
  {
   "cell_type": "markdown",
   "metadata": {},
   "source": [
    "<a name=\"lists\"></a>\n",
    "### Lists, tuples, etc.\n",
    "\n",
    "Lists are ordered collections of objects. Lists are demarcated by `[]` and entries are separated by `,`."
   ]
  },
  {
   "cell_type": "code",
   "execution_count": null,
   "metadata": {},
   "outputs": [],
   "source": [
    "type([]) #empty list"
   ]
  },
  {
   "cell_type": "markdown",
   "metadata": {},
   "source": [
    "Since Python is untyped, different entries of the same list can have different types."
   ]
  },
  {
   "cell_type": "code",
   "execution_count": null,
   "metadata": {},
   "outputs": [],
   "source": [
    "a = [1, \"a\", None, 0.7+7j, False]"
   ]
  },
  {
   "cell_type": "markdown",
   "metadata": {},
   "source": [
    "Python has an in-built function `len()` which returns the number of entries (length) in a list (or list-like object)."
   ]
  },
  {
   "cell_type": "code",
   "execution_count": null,
   "metadata": {},
   "outputs": [],
   "source": [
    "len(a)"
   ]
  },
  {
   "cell_type": "markdown",
   "metadata": {},
   "source": [
    "You can access entries using the index of each entry. In Python indices start from `0` and go to `n-1` for a list of length `n`. You can also index backwards, so `-x` is equivalent to `n-x`."
   ]
  },
  {
   "cell_type": "code",
   "execution_count": null,
   "metadata": {},
   "outputs": [],
   "source": [
    "a[1], a[-2]"
   ]
  },
  {
   "cell_type": "code",
   "execution_count": null,
   "metadata": {},
   "outputs": [],
   "source": [
    "a[1] = \"b\" #change entry in list\n",
    "a"
   ]
  },
  {
   "cell_type": "markdown",
   "metadata": {},
   "source": [
    "One of Python's most useful features is list slicing, which generates sublists from a given list. `x[start:end:step]` returns a list containing every `step`th entry of `x` starting at `start` upto but not including `end`. The defaults for a list of length `n` are `start = 0`, `end = n`, and `step = 1`. (If `step < 0` then the defaults for `start` and `end` are changed accordingly.)"
   ]
  },
  {
   "cell_type": "code",
   "execution_count": null,
   "metadata": {},
   "outputs": [],
   "source": [
    "a[:] #all default: whole list"
   ]
  },
  {
   "cell_type": "code",
   "execution_count": null,
   "metadata": {},
   "outputs": [],
   "source": [
    "a[::] #same as above"
   ]
  },
  {
   "cell_type": "code",
   "execution_count": null,
   "metadata": {},
   "outputs": [],
   "source": [
    "a[1:3] #entries 1 through 3 (i.e. entries 1 and 2)"
   ]
  },
  {
   "cell_type": "code",
   "execution_count": null,
   "metadata": {},
   "outputs": [],
   "source": [
    "a[1::3] #every third entry starting at 1"
   ]
  },
  {
   "cell_type": "code",
   "execution_count": null,
   "metadata": {},
   "outputs": [],
   "source": [
    "a[-1] #last entry"
   ]
  },
  {
   "cell_type": "code",
   "execution_count": null,
   "metadata": {},
   "outputs": [],
   "source": [
    "a[-1:] #list of last entry onwards"
   ]
  },
  {
   "cell_type": "code",
   "execution_count": null,
   "metadata": {},
   "outputs": [],
   "source": [
    "a[:-1] #exclude last entry"
   ]
  },
  {
   "cell_type": "code",
   "execution_count": null,
   "metadata": {},
   "outputs": [],
   "source": [
    "a[::-1] #whole list backwards"
   ]
  },
  {
   "cell_type": "code",
   "execution_count": null,
   "metadata": {},
   "outputs": [],
   "source": [
    "a #original list is unchanged"
   ]
  },
  {
   "cell_type": "markdown",
   "metadata": {},
   "source": [
    "You might find the following methods useful. Consult documentation for more information."
   ]
  },
  {
   "cell_type": "code",
   "execution_count": null,
   "metadata": {},
   "outputs": [],
   "source": [
    "a.append(\"a\") #add entry to end of list\n",
    "a #list is changed"
   ]
  },
  {
   "cell_type": "code",
   "execution_count": null,
   "metadata": {},
   "outputs": [],
   "source": [
    "del a[3] #remove entry by index\n",
    "a"
   ]
  },
  {
   "cell_type": "code",
   "execution_count": null,
   "metadata": {},
   "outputs": [],
   "source": [
    "a.insert(2,\"3\") #add entry at specified index\n",
    "a"
   ]
  },
  {
   "cell_type": "code",
   "execution_count": null,
   "metadata": {},
   "outputs": [],
   "source": [
    "a.index(\"a\") #find (first) index of a value\n",
    "#this also works on strings"
   ]
  },
  {
   "cell_type": "code",
   "execution_count": null,
   "metadata": {},
   "outputs": [],
   "source": [
    "a.remove(\"a\") #remove (first matching) entry by value\n",
    "a"
   ]
  },
  {
   "cell_type": "markdown",
   "metadata": {},
   "source": [
    "You can add (concatenate) lists, which also generalises to integer multiplication."
   ]
  },
  {
   "cell_type": "code",
   "execution_count": null,
   "metadata": {},
   "outputs": [],
   "source": [
    "[1,2] + [3,4]"
   ]
  },
  {
   "cell_type": "code",
   "execution_count": null,
   "metadata": {},
   "outputs": [],
   "source": [
    "5*[1,2]"
   ]
  },
  {
   "cell_type": "markdown",
   "metadata": {},
   "source": [
    "Since a string is essentially a list of characters, there is a lot of overlap between string manipulation and list manipulation. You can slice and add strings like lists, and some methods for lists, like `index()`, also work for strings."
   ]
  },
  {
   "cell_type": "code",
   "execution_count": null,
   "metadata": {},
   "outputs": [],
   "source": [
    "b = \"hello world\"\n",
    "b[6], type(b[6])"
   ]
  },
  {
   "cell_type": "code",
   "execution_count": null,
   "metadata": {},
   "outputs": [],
   "source": [
    "b[2:-2] #without 2 characters each from front and back"
   ]
  },
  {
   "cell_type": "code",
   "execution_count": null,
   "metadata": {},
   "outputs": [],
   "source": [
    "\"hello\"+\"world\", 5*\"hi\""
   ]
  },
  {
   "cell_type": "code",
   "execution_count": null,
   "metadata": {},
   "outputs": [],
   "source": [
    "b.index(\"world\")"
   ]
  },
  {
   "cell_type": "markdown",
   "metadata": {},
   "source": [
    "There also several additional methods for string manipulation built-in to Python:"
   ]
  },
  {
   "cell_type": "code",
   "execution_count": null,
   "metadata": {},
   "outputs": [],
   "source": [
    "x = \"  abc, def ghi,\"\n",
    "x.split() #splits string into list where there are spaces"
   ]
  },
  {
   "cell_type": "code",
   "execution_count": null,
   "metadata": {},
   "outputs": [],
   "source": [
    "x.split(\",\") #splits at commas"
   ]
  },
  {
   "cell_type": "code",
   "execution_count": null,
   "metadata": {},
   "outputs": [],
   "source": [
    "x.strip() #removes whitespace at ends"
   ]
  },
  {
   "cell_type": "code",
   "execution_count": null,
   "metadata": {},
   "outputs": [],
   "source": [
    "x.strip(\",\") #removes commas at ends"
   ]
  },
  {
   "cell_type": "code",
   "execution_count": null,
   "metadata": {},
   "outputs": [],
   "source": [
    "\", \".join([\"abc\",\"def\",\"ghi\"])"
   ]
  },
  {
   "cell_type": "markdown",
   "metadata": {},
   "source": [
    "The `in` keywords allows you to test for inclusion in a list-like object or string."
   ]
  },
  {
   "cell_type": "code",
   "execution_count": null,
   "metadata": {},
   "outputs": [],
   "source": [
    "a = [1,2,3,4]\n",
    "b = \"abcd\"\n",
    "4 in a, \"c\" in b, [1,2,3] in a, \"abc\" in b"
   ]
  },
  {
   "cell_type": "markdown",
   "metadata": {},
   "source": [
    "Python has an in-built function called `map()`, which allows you to conveniently execute a function on each element of a list. You might also want to look at `zip()`."
   ]
  },
  {
   "cell_type": "code",
   "execution_count": null,
   "metadata": {},
   "outputs": [],
   "source": [
    "list(map(f, [1,2,3,4]))"
   ]
  },
  {
   "cell_type": "markdown",
   "metadata": {},
   "source": [
    "When a variable stores a primitive data type (like a float or bool), it stores it directly. However, when it stores a list, it stores a _pointer_ to a location in memory where the list is stored. Thus copying e.g. a float is easy, but copying a list involves copying each entry of the list. It also makes comparing objects difficult."
   ]
  },
  {
   "cell_type": "code",
   "execution_count": null,
   "metadata": {},
   "outputs": [],
   "source": [
    "x = 5\n",
    "y = x\n",
    "x += 1 #shorthand for x = x + 1. Similar shorthands exist for -,*,/\n",
    "x, y"
   ]
  },
  {
   "cell_type": "code",
   "execution_count": null,
   "metadata": {},
   "outputs": [],
   "source": [
    "a = [1,2]\n",
    "b = a\n",
    "a.append(\"this is a not b\")\n",
    "a, b"
   ]
  },
  {
   "cell_type": "markdown",
   "metadata": {},
   "source": [
    "The `is` statement can be used to check if two variables point to the same object."
   ]
  },
  {
   "cell_type": "code",
   "execution_count": null,
   "metadata": {},
   "outputs": [],
   "source": [
    "c = [1,2,\"this is a not b\"]\n",
    "a == b, a == c, a is b, a is c"
   ]
  },
  {
   "cell_type": "markdown",
   "metadata": {},
   "source": [
    "_Packages_ are libraries of code made public for people to use, so that people don't have to solve problems that have been solved before or write code that someone else has already written. Packages contain `.py` file(s) called _modules_ that can be imported using the `import` command. You can also write your own modules and import them in other pieces of Python code. You can also download packages from the internet. It is common to use a _package manager_ like [pip](https://pip.pypa.io/en/stable/quickstart/) or [conda](https://docs.conda.io/projects/conda/en/latest/user-guide/getting-started.html). It is also quite easy to [publish](https://pypi.org/) a package that can can be downloaded using pip, or to publish your code to [GitHub](https://github.com/).\n",
    "\n",
    "In addition to external packages that you can download, Python has several in-built modules. The in-built module `copy` provides tools to copy objects instead of pointers. The function `deepcopy()` works with lists of any depth (i.e. lists of lists of lists of...). Before using it, however, we must import it."
   ]
  },
  {
   "cell_type": "code",
   "execution_count": null,
   "metadata": {},
   "outputs": [],
   "source": [
    "import copy\n",
    "\n",
    "a = [1,2]\n",
    "b = copy.deepcopy(a)\n",
    "a.append(\"this is a not b\")\n",
    "a, b"
   ]
  },
  {
   "cell_type": "code",
   "execution_count": null,
   "metadata": {},
   "outputs": [],
   "source": [
    "a = [1,2]\n",
    "b = a[:] #easy way using slicing (only for lists of primitives)\n",
    "a.append(\"this is a not b\")\n",
    "a, b"
   ]
  },
  {
   "cell_type": "markdown",
   "metadata": {},
   "source": [
    "Since we're only importing one function, it is better to use the following syntax to only import the function we need instead of the entire module."
   ]
  },
  {
   "cell_type": "code",
   "execution_count": null,
   "metadata": {},
   "outputs": [],
   "source": [
    "from copy import deepcopy\n",
    "\n",
    "a = [1,2]\n",
    "b = deepcopy(a)\n",
    "a.append(\"this is a not b\")\n",
    "a, b"
   ]
  },
  {
   "cell_type": "markdown",
   "metadata": {},
   "source": [
    "Above, if we had written `from copy import *`, it would have imported everything from `copy` but without adding the name of the package to their names. This is known as a wildcard import, and it is dangerous because it can cause namespace collisions which can overwrite functions and variables that are already defined. You can also alias anything you import using `as`. For example, if you use `import copy as cp` you would then use `cp.deepcopy()`, or if you use `from copy import deepcopy as dc` you would then simply use `dc()`. You can also specify multiple objects to import by separating them with commas."
   ]
  },
  {
   "cell_type": "markdown",
   "metadata": {},
   "source": [
    "Tuples are essentially the same thing as lists, except they are immutable (can't be changed). They are demarcated by `()`."
   ]
  },
  {
   "cell_type": "code",
   "execution_count": null,
   "metadata": {},
   "outputs": [],
   "source": [
    "type(()) #empty tuple"
   ]
  },
  {
   "cell_type": "markdown",
   "metadata": {},
   "source": [
    "Tuples can be indexed and sliced like lists. They are the preferred data type of Python, since any comma-separated input automatically gets converted to tuples."
   ]
  },
  {
   "cell_type": "code",
   "execution_count": null,
   "metadata": {},
   "outputs": [],
   "source": [
    "t = 1, None, \"x\"\n",
    "type(t)"
   ]
  },
  {
   "cell_type": "code",
   "execution_count": null,
   "metadata": {},
   "outputs": [],
   "source": [
    "t"
   ]
  },
  {
   "cell_type": "code",
   "execution_count": null,
   "metadata": {},
   "outputs": [],
   "source": [
    "t[1], t[::-1]"
   ]
  },
  {
   "cell_type": "code",
   "execution_count": null,
   "metadata": {},
   "outputs": [],
   "source": [
    "t[1] = True #immutable, have to create new tuple to edit"
   ]
  },
  {
   "cell_type": "markdown",
   "metadata": {},
   "source": [
    "The `*` keyword can also be used to pass a tuple of arguments in a function, or retrieve any number of optional arguments to a function."
   ]
  },
  {
   "cell_type": "code",
   "execution_count": null,
   "metadata": {},
   "outputs": [],
   "source": [
    "def example1(arg1, arg2):\n",
    "    print(arg1, arg2)\n",
    "\n",
    "args = \"a\",\"b\"\n",
    "example1(*args)"
   ]
  },
  {
   "cell_type": "code",
   "execution_count": null,
   "metadata": {},
   "outputs": [],
   "source": [
    "def example2(arg, *args):\n",
    "    print(\"arg:\", arg)\n",
    "    print(\"args:\", args)\n",
    "    print(\"args:\", *args)\n",
    "\n",
    "example2(1)\n",
    "example2(2, *args)\n",
    "example2(3, *t)"
   ]
  },
  {
   "cell_type": "markdown",
   "metadata": {},
   "source": [
    "Python also supports tuple assignment, where you can economically set a tuple of variables to a tuple of values."
   ]
  },
  {
   "cell_type": "code",
   "execution_count": null,
   "metadata": {},
   "outputs": [],
   "source": [
    "a, b, c = 1, None, \"x\"\n",
    "type(a), type(b), type(c)"
   ]
  },
  {
   "cell_type": "markdown",
   "metadata": {},
   "source": [
    "In fact, we have been using tuples implicitly in almost all of the cells above. When you evaluate each cell (`shift`+`enter`), the Python kernel executes all the code in the cell, and returns the evaluation of the expression in the last line of the cell. Thus all the cells in which the last line is a list of things have returned tuples. However (and this was probably bad design to tell you this so late) we don't have to put things on the last line to see their output. We can display things at any point using the in-built function `print()`."
   ]
  },
  {
   "cell_type": "code",
   "execution_count": null,
   "metadata": {},
   "outputs": [],
   "source": [
    "print(\"this is printed\")\n",
    "\"this is returned\" #note the difference between the two below"
   ]
  },
  {
   "cell_type": "markdown",
   "metadata": {},
   "source": [
    "Python supports a [string formatting mini-language](https://docs.python.org/3/library/string.html#format-specification-mini-language) which enables you to conveniently output information in a readable format. Especially when debugging code, being able to easily read the values of variables is essential."
   ]
  },
  {
   "cell_type": "code",
   "execution_count": null,
   "metadata": {},
   "outputs": [],
   "source": [
    "x = 1.2351\n",
    "y = 1.2349\n",
    "z = 4.9e-3\n",
    "print(f\"The value of x is {x:.2f}\")\n",
    "print(\"The value of y is {0:.2f}\".format(y))\n",
    "print(\"The value of z is %.2f\"%z)"
   ]
  },
  {
   "cell_type": "markdown",
   "metadata": {},
   "source": [
    "Dictionaries (`dict`s) are another commonly-used data type. Dictionaries consist of unordered pairs of objects, called _keys_ and _values_. They follow the format `{key1: value1, key2: value2, ...}`. Values can be accessed using the key similarly to how one may use an index for a list."
   ]
  },
  {
   "cell_type": "code",
   "execution_count": null,
   "metadata": {},
   "outputs": [],
   "source": [
    "type({})"
   ]
  },
  {
   "cell_type": "code",
   "execution_count": null,
   "metadata": {},
   "outputs": [],
   "source": [
    "d = {\"a\": f, 2: \"f\", True: (\"j\", \"k\")}\n",
    "d[\"a\"], d[2]"
   ]
  },
  {
   "cell_type": "code",
   "execution_count": null,
   "metadata": {},
   "outputs": [],
   "source": [
    "d[54.35332] = [5,0,-7,9] #adding a new entry\n",
    "d"
   ]
  },
  {
   "cell_type": "markdown",
   "metadata": {},
   "source": [
    "Dictionaries are useful to store data that consists of multiple fields, e.g. a university could be represented by `{\"name\": \"UC Berkeley\", location: (37.8719, -122.2585), \"students\": 42519, \"private\": False, \"good departments\": [\"Physics\", \"EECS\", \"Political correctness\"]}`."
   ]
  },
  {
   "cell_type": "code",
   "execution_count": null,
   "metadata": {},
   "outputs": [],
   "source": [
    "list(d.keys()) #list of keys"
   ]
  },
  {
   "cell_type": "code",
   "execution_count": null,
   "metadata": {},
   "outputs": [],
   "source": [
    "d.pop(True) #remove entry corresponding to key and return value removed"
   ]
  },
  {
   "cell_type": "code",
   "execution_count": null,
   "metadata": {},
   "outputs": [],
   "source": [
    "d"
   ]
  },
  {
   "cell_type": "markdown",
   "metadata": {},
   "source": [
    "`**` does for dicts what `*` does for tuples, for keyword arguments to functions."
   ]
  },
  {
   "cell_type": "code",
   "execution_count": null,
   "metadata": {},
   "outputs": [],
   "source": [
    "def example3(a, b):\n",
    "    print(a, b)\n",
    "\n",
    "a = None, (5,-6)\n",
    "b = {\"b\": (5,-6), \"a\": None}\n",
    "example3(*a)\n",
    "example3(**b)"
   ]
  },
  {
   "cell_type": "code",
   "execution_count": null,
   "metadata": {},
   "outputs": [],
   "source": [
    "def example4(arg, *args, **kwargs):\n",
    "    print(\"arg:\", arg)\n",
    "    print(\"args:\", args)\n",
    "    print(\"kwargs:\", kwargs)\n",
    "\n",
    "example4(1)\n",
    "example4(2, \"abc\", True, \"def\", keyword1=\"value1\", k2=\"v2\")"
   ]
  },
  {
   "cell_type": "markdown",
   "metadata": {},
   "source": [
    "\n",
    "<a name=\"classes\"></a>\n",
    "### Classes\n",
    "\n",
    "Lists and dicts are examples of complex data types, which can hold multiple pieces of information. These data types are useful generally, but different problems have different solutions. Lists are implemented as automatically-resizing arrays of contiguous memory. This means that (looking only at the [asysmptotic scaling](https://en.wikipedia.org/wiki/Big_O_notation) of the cost of operations) acessing elements is $\\mathcal{O}(1)$ (i.e. is constant with array size), and inserting or removing items changes with the index, from $\\mathcal{O}(1)$ at the end of the list to $\\mathcal{O}(n)$ at the start. If you only need to insert and access things at the ends of a list, you might want to use one of the native Python `queue`s that are optimised for that. Dicts are implemented as [hash tables](https://en.wikipedia.org/wiki/Hash_table), so accessing, inserting and removing is $\\mathcal{O}(1)$, and so is checking for inclusion (which is $\\mathcal{O}(n)$ for lists). Python also has native `set`s, which are essentially dicts with only keys.\n",
    "\n",
    "Other data structures exist such as sorted lists (self-balancing binary trees), neural networks, decision trees, blockchain, etc. that are more efficient or convenient for different applications. A large part of CS is finding the most efficient way to solve a problem.\n",
    "\n",
    "<font color=\"red\">You can define data structures that are convenient for you by defining a `class`. Then you can create objects, which are _instances_ of the class. Using this paradigm is known as object-oriented programming. The class, as well as each object, may have associated variables and functions. These associated functions are called _methods_. If you get the hang of creating and using the classes you need, you will be able to program much more efficiently as you be less likely to have to write the same piece of code twice.\n",
    "\n",
    "For example, if you wanted to create a class to store a 2D circle (e.g. for graphing purposes), you could do something like:\n",
    "</font>"
   ]
  },
  {
   "cell_type": "code",
   "execution_count": null,
   "metadata": {},
   "outputs": [],
   "source": [
    "class Circle2D:\n",
    "    pi = 3.14159 #class variable. of course, Python has a more accurate pi in the math module\n",
    "    \n",
    "    def __init__(self, centre=(0,0), radius=1): #constructor: this creates an instance given the arguments. self refers to instance\n",
    "        #names like __this__ are special. consult docs if curious. names like _this are hidden (accessible only to methods of instance)\n",
    "        self.x = centre[0] #these are instance variables\n",
    "        self.y = centre[1]\n",
    "        self.r = radius\n",
    "    \n",
    "    def centre_distance(self, point):\n",
    "        return ((point[0]-self.x)**2+(point[1]-self.y)**2)**.5\n",
    "    \n",
    "    def contains_point(self, point): #instance method\n",
    "        return self.centre_distance(point) <= self.r\n",
    "    \n",
    "    def area(self):\n",
    "        return self.pi*self.r**2\n",
    "    \n",
    "    def shape(): #class method. note no reference to self\n",
    "        return \"round\""
   ]
  },
  {
   "cell_type": "code",
   "execution_count": null,
   "metadata": {},
   "outputs": [],
   "source": [
    "Circle2D.pi #accessing class variable"
   ]
  },
  {
   "cell_type": "code",
   "execution_count": null,
   "metadata": {},
   "outputs": [],
   "source": [
    "Circle2D.shape() #class method"
   ]
  },
  {
   "cell_type": "code",
   "execution_count": null,
   "metadata": {},
   "outputs": [],
   "source": [
    "c = Circle2D(centre=(-8,4.5), radius=5) #creating instance\n",
    "type(c)"
   ]
  },
  {
   "cell_type": "code",
   "execution_count": null,
   "metadata": {},
   "outputs": [],
   "source": [
    "print(c.x, c.y) #accessing instance variables\n",
    "c.x, c.y =  0, 0 #changing them\n",
    "print(c.x, c.y)"
   ]
  },
  {
   "cell_type": "code",
   "execution_count": null,
   "metadata": {},
   "outputs": [],
   "source": [
    "c.centre_distance((-5,12)), c.contains_point((4,-3)), c.contains_point((5,.1)), c.area() #instance methods"
   ]
  },
  {
   "cell_type": "code",
   "execution_count": null,
   "metadata": {},
   "outputs": [],
   "source": [
    "c.pi #instance also has class variables"
   ]
  },
  {
   "cell_type": "code",
   "execution_count": null,
   "metadata": {},
   "outputs": [],
   "source": [
    "c.shape()"
   ]
  },
  {
   "cell_type": "code",
   "execution_count": null,
   "metadata": {},
   "outputs": [],
   "source": [
    "type(c).shape()"
   ]
  },
  {
   "cell_type": "markdown",
   "metadata": {},
   "source": [
    "<font color=\"red\">All the data types we've seen so far are classes, and we've seen quite a few of their methods and instance variables already. You can extend these, or any other, classes by defining a class that inherits the methods and properties of another class, using `class SubClass(ParentClass):`.</font>\n",
    "\n",
    "<a name=\"cflow\"></a>\n",
    "### Control flow\n",
    "\n",
    "You can also change the way in which the code you write is executed. One example of this is an `if` statement. It executes code conditional on a Boolean."
   ]
  },
  {
   "cell_type": "code",
   "execution_count": null,
   "metadata": {},
   "outputs": [],
   "source": [
    "if .38 == 1.9*.2: #play around with this condition\n",
    "    print(\"true\") #the indented block gets executed conditionally.\n",
    "print(\"done\") #this is always executed"
   ]
  },
  {
   "cell_type": "code",
   "execution_count": null,
   "metadata": {},
   "outputs": [],
   "source": [
    "def float_compare(float1, float2, tolerance=1e-10):\n",
    "    if float_equal(float1, float2, tolerance):\n",
    "        return \"=\"\n",
    "    elif float1 < float2: #else-if\n",
    "        return \"<\"\n",
    "    else: #since the function would have returned already we can replace the elif with an if and get rid of the else entirely\n",
    "        return \">\""
   ]
  },
  {
   "cell_type": "code",
   "execution_count": null,
   "metadata": {},
   "outputs": [],
   "source": [
    "float_compare(6/9.003, 2/3.001)"
   ]
  },
  {
   "cell_type": "markdown",
   "metadata": {},
   "source": [
    "Python also has a _ternery operator_, which does an if-else in one line. The following example first checks if the point is in the circle. If it is, it returns zero, otherwise it computes and returns the distance."
   ]
  },
  {
   "cell_type": "code",
   "execution_count": null,
   "metadata": {},
   "outputs": [],
   "source": [
    "distance_to_circle = lambda point, circle: 0 if circle.contains_point(point) else circle.centre_distance(point) - circle.r"
   ]
  },
  {
   "cell_type": "code",
   "execution_count": null,
   "metadata": {},
   "outputs": [],
   "source": [
    "distance_to_circle((-5,12),c), distance_to_circle((4,-3),c), distance_to_circle((0,1),c)"
   ]
  },
  {
   "cell_type": "markdown",
   "metadata": {},
   "source": [
    "The `not` keyword negates a Boolean, so the above function is equivalent to:"
   ]
  },
  {
   "cell_type": "code",
   "execution_count": null,
   "metadata": {},
   "outputs": [],
   "source": [
    "distance_to_circle = lambda point, circle: (not circle.contains_point(point)) * (circle.centre_distance(point) - circle.r) #true=1 and false=0 for casting"
   ]
  },
  {
   "cell_type": "code",
   "execution_count": null,
   "metadata": {},
   "outputs": [],
   "source": [
    "distance_to_circle((-5,12),c), distance_to_circle((4,-3),c), distance_to_circle((0,1),c)"
   ]
  },
  {
   "cell_type": "markdown",
   "metadata": {},
   "source": [
    "Using the in-built `max()` function, we can shorten the definition to:"
   ]
  },
  {
   "cell_type": "code",
   "execution_count": null,
   "metadata": {},
   "outputs": [],
   "source": [
    "distance_to_circle = lambda point, circle: max(circle.centre_distance(point) - circle.r, 0)"
   ]
  },
  {
   "cell_type": "code",
   "execution_count": null,
   "metadata": {},
   "outputs": [],
   "source": [
    "distance_to_circle((-5,12),c), distance_to_circle((4,-3),c), distance_to_circle((0,1),c)"
   ]
  },
  {
   "cell_type": "markdown",
   "metadata": {},
   "source": [
    "You can also execute a piece of code multiple times if you put it in a __loop__. The `while` statement repeats a block of code until a Boolean turns `False`."
   ]
  },
  {
   "cell_type": "code",
   "execution_count": null,
   "metadata": {},
   "outputs": [],
   "source": [
    "i = 0\n",
    "while i < 10:\n",
    "    i += 1\n",
    "    print(i)\n",
    "print(\"over\")"
   ]
  },
  {
   "cell_type": "markdown",
   "metadata": {},
   "source": [
    "For example, we can implement [Newton's method](https://en.wikipedia.org/wiki/Newton%27s_method) with the following code:"
   ]
  },
  {
   "cell_type": "code",
   "execution_count": null,
   "metadata": {},
   "outputs": [],
   "source": [
    "def newton_method(fn, x, epsilon=1e-5, tolerance=1e-10):\n",
    "    while abs(fn(x)) >= tolerance: #while we are not at zero\n",
    "        df = (fn(x+epsilon/2) - fn(x-epsilon/2))/epsilon #numerical estimate of derivative at x\n",
    "        x -= fn(x)/df #change x\n",
    "    #while loop ended, this means we are at zero\n",
    "    return x"
   ]
  },
  {
   "cell_type": "code",
   "execution_count": null,
   "metadata": {},
   "outputs": [],
   "source": [
    "newton_method(f,3), newton_method(lambda x: x**2-1,3), newton_method(lambda x: x**2-1, -2)"
   ]
  },
  {
   "cell_type": "markdown",
   "metadata": {},
   "source": [
    "The statement `break` stops the execution of the loop, and `continue` skips the rest of the block only for the current iteration."
   ]
  },
  {
   "cell_type": "code",
   "execution_count": null,
   "metadata": {},
   "outputs": [],
   "source": [
    "i = 0\n",
    "while i < 10:\n",
    "    i += 1\n",
    "    if i%3 == 0:\n",
    "        continue\n",
    "    print(i)\n",
    "print(\"over\")"
   ]
  },
  {
   "cell_type": "code",
   "execution_count": null,
   "metadata": {},
   "outputs": [],
   "source": [
    "i = 0\n",
    "while i < 10:\n",
    "    i += 1\n",
    "    if i == 5:\n",
    "        break\n",
    "    print(i)\n",
    "print(\"over\")"
   ]
  },
  {
   "cell_type": "markdown",
   "metadata": {},
   "source": [
    "One has to be careful not to get caught in infinite loops. One will have to interrupt the kernel using `ctrl`+`D`, the right-click menu, or the button on the top of the window in such a situation. (There are several inputs that break Newton's method as well.)"
   ]
  },
  {
   "cell_type": "code",
   "execution_count": null,
   "metadata": {},
   "outputs": [],
   "source": [
    "i = 0\n",
    "while i < 10000:\n",
    "    if i**2 % 4 == 3: #curiosity: which numbers pass this if clause?\n",
    "        print(i)\n",
    "    #remember to increment!"
   ]
  },
  {
   "cell_type": "markdown",
   "metadata": {},
   "source": [
    "Sometimes it is more convenient to use `for` loops, which are essentially `while` loops with different syntax. This allows one to iterate through any `Iterator`, which is an object that enables iteration by implementing a method that returns the next item in iteration (in the example above it would increment `i`). List-like objects are _iterable_, which means they automatically support iteration. (Here the method automatically returns the next element of the list-like object.)"
   ]
  },
  {
   "cell_type": "code",
   "execution_count": null,
   "metadata": {},
   "outputs": [],
   "source": [
    "a = [1, \"a\", True, None, 4.5]\n",
    "for item in a:\n",
    "    print(item)"
   ]
  },
  {
   "cell_type": "markdown",
   "metadata": {},
   "source": [
    "Iterating through a dict is equivalent to iterating through its keys."
   ]
  },
  {
   "cell_type": "code",
   "execution_count": null,
   "metadata": {},
   "outputs": [],
   "source": [
    "d = {1: 3, \"a\": \"b\"}\n",
    "\n",
    "for k in d:\n",
    "    print(k,d[k])"
   ]
  },
  {
   "cell_type": "markdown",
   "metadata": {},
   "source": [
    "The inbuilt function `range(start, end, step)` creates an iterator with syntax that has the same meaning as in the context of slicing. This makes it easy to iterate a set number of times:"
   ]
  },
  {
   "cell_type": "code",
   "execution_count": null,
   "metadata": {},
   "outputs": [],
   "source": [
    "for i in range(10):\n",
    "    print(i)"
   ]
  },
  {
   "cell_type": "markdown",
   "metadata": {},
   "source": [
    "A range is not quite a list, though it can be converted to one. Iterators are better for loops because the entire list need never be created or stored in memory."
   ]
  },
  {
   "cell_type": "code",
   "execution_count": null,
   "metadata": {},
   "outputs": [],
   "source": [
    "range(10), list(range(10))"
   ]
  },
  {
   "cell_type": "code",
   "execution_count": null,
   "metadata": {},
   "outputs": [],
   "source": [
    "type(range(10))"
   ]
  },
  {
   "cell_type": "markdown",
   "metadata": {},
   "source": [
    "<font color=\"red\">You can create your own iterator by defining a _generator_, which is a function that returns an iterator that runs code before and after `yield`ing values for iteration.</font>"
   ]
  },
  {
   "cell_type": "code",
   "execution_count": null,
   "metadata": {},
   "outputs": [],
   "source": [
    "def myGenerator(x):\n",
    "    y=x**2\n",
    "    yield 45\n",
    "    if y==0:\n",
    "        return 0 #stop iterating (return doesn't do anything)\n",
    "    yield \"x\"\n",
    "    yield x\n",
    "    z=x-y\n",
    "    while z<0:\n",
    "        yield z\n",
    "        z+=1\n",
    "    yield y,x**z\n",
    "\n",
    "iterator = myGenerator(3)\n",
    "    \n",
    "for i in iterator:\n",
    "    print(i)\n",
    "\n",
    "myGenerator, iterator, list(myGenerator(0))"
   ]
  },
  {
   "cell_type": "code",
   "execution_count": null,
   "metadata": {},
   "outputs": [],
   "source": [
    "iter = myGenerator(2)"
   ]
  },
  {
   "cell_type": "code",
   "execution_count": null,
   "metadata": {},
   "outputs": [],
   "source": [
    "next(iter) #run this a few times"
   ]
  },
  {
   "cell_type": "markdown",
   "metadata": {},
   "source": [
    "Python also offers a one-line way to create lists using one-line loops, called _list comprehension_. It is often faster than writing out a proper loop. For example, if we wanted to create a list of every number squared from 0 to 10, we could do the following:"
   ]
  },
  {
   "cell_type": "code",
   "execution_count": null,
   "metadata": {},
   "outputs": [],
   "source": [
    "a = []\n",
    "for i in range(10):\n",
    "    a.append(i**2)\n",
    "a"
   ]
  },
  {
   "cell_type": "code",
   "execution_count": null,
   "metadata": {},
   "outputs": [],
   "source": [
    "a = [i**2 for i in range(10)] #equivalent to the above loop\n",
    "a"
   ]
  },
  {
   "cell_type": "markdown",
   "metadata": {},
   "source": [
    "To see that list comprehensions are indeed slightly faster, you can import the `time()` function from the `time` module, which is useful for benchmarking code."
   ]
  },
  {
   "cell_type": "code",
   "execution_count": null,
   "metadata": {},
   "outputs": [],
   "source": [
    "from time import time #is this bad? can we still access the time module?\n",
    "#time() is function that gives current OS clock time in seconds\n",
    "#we will use this to time executions to compare code"
   ]
  },
  {
   "cell_type": "code",
   "execution_count": null,
   "metadata": {},
   "outputs": [],
   "source": [
    "time() #run this a few times"
   ]
  },
  {
   "cell_type": "code",
   "execution_count": null,
   "metadata": {},
   "outputs": [],
   "source": [
    "n = 10**6 #this is size of list, try changing this\n",
    "start = time()\n",
    "a = [] #first time the regular loop\n",
    "for i in range(n):\n",
    "    a.append(i**2)\n",
    "checkpoint1 = time()\n",
    "a = [i**2 for i in range(n)] #then time list comps\n",
    "checkpoint2 = time()\n",
    "a = list(map(f, range(n))) #lastly time the map() function\n",
    "end = time()\n",
    "print(\"List comprehension: %.4f sec\\nLoop: %.4f sec\\nMap function: %.4f sec\" % (checkpoint2-checkpoint1, checkpoint1-start, end-checkpoint2))"
   ]
  },
  {
   "cell_type": "markdown",
   "metadata": {},
   "source": [
    "List comprehensions also support an `if` clause (as well as ternery operators described above)."
   ]
  },
  {
   "cell_type": "code",
   "execution_count": null,
   "metadata": {},
   "outputs": [],
   "source": [
    "#function that, given a Circle2D instance and a list of points, returns the sublist of points within the circle.\n",
    "points_in_circle = lambda points, circle: [point for point in points if circle.contains_point(point)]"
   ]
  },
  {
   "cell_type": "code",
   "execution_count": null,
   "metadata": {},
   "outputs": [],
   "source": [
    "c = Circle2D() #circle has radius 1 and centre at (0,0) by default\n",
    "points = [(1,0), (3,1), (-1,0.1), (0,0), (-0.5,0.5), (98,-23), (0.4, -0.3)]\n",
    "points_in_circle(points, c)"
   ]
  },
  {
   "cell_type": "markdown",
   "metadata": {},
   "source": [
    "You might also find the in-built function `enumerate()` useful."
   ]
  },
  {
   "cell_type": "code",
   "execution_count": null,
   "metadata": {},
   "outputs": [],
   "source": [
    "a_list = [4, \"a\", (7,8,9), {3: 5, \"g\": None}, True]\n",
    "for index, value in enumerate(a_list):\n",
    "    print(index, value)"
   ]
  },
  {
   "cell_type": "markdown",
   "metadata": {},
   "source": [
    "<font color=\"red\">Another useful control method is _recursion_, where a function calls itself. Here is a recursive implementation of Newton's method:</font> "
   ]
  },
  {
   "cell_type": "code",
   "execution_count": null,
   "metadata": {},
   "outputs": [],
   "source": [
    "def newton_recursive(fn, x, epsilon=1e-5, tolerance=1e-10):\n",
    "    if abs(fn(x)) < tolerance: #termination case\n",
    "        return x\n",
    "    #no need for else since function would have returned already otherwise\n",
    "    df = (fn(x+epsilon/2) - fn(x-epsilon/2))/epsilon #numerical estimate of derivative at x\n",
    "    x -= fn(x)/df #change x\n",
    "    return newton_recursive(fn, x, epsilon, tolerance)"
   ]
  },
  {
   "cell_type": "code",
   "execution_count": null,
   "metadata": {},
   "outputs": [],
   "source": [
    "newton_recursive(f,3), newton_recursive(lambda x: x**2-1,3), newton_recursive(lambda x: x**2-1, -2)"
   ]
  },
  {
   "cell_type": "markdown",
   "metadata": {},
   "source": [
    "<font color=\"red\">Again, it is easy to get stuck with infinite loops. To avoid this, remember to code a termination clause (i.e. a case where it returns something without calling itself), and to make progress towards termination at each function call. Recursion is usually aesthetically more pleasing than a loop, but is slightly slower due to the time taken to call each function. There are some problems for which recursion is better suited, particularly when the function calls itself multiple times per execution. Recursion is best suited for problems with self-similarity, which ties into concepts like fractals, scale invariance, and conformal symmetry in physics and mathematics. Such problems can typically be solved in $\\mathcal{O}(\\log(n))$ time. For example, if we wanted to create a simple discrete version of the [Cantor set](https://en.wikipedia.org/wiki/Cantor_set), we could use the following recursive function:</font>"
   ]
  },
  {
   "cell_type": "code",
   "execution_count": null,
   "metadata": {},
   "outputs": [],
   "source": [
    "def cantor(level):\n",
    "    if level == 0:\n",
    "        return [1] #base unit\n",
    "    level -= 1\n",
    "    return cantor(level) + 3**level*[0] + cantor(level)"
   ]
  },
  {
   "cell_type": "code",
   "execution_count": null,
   "metadata": {},
   "outputs": [],
   "source": [
    "start = time()\n",
    "print(cantor(3), len(cantor(15)), 3**15)\n",
    "time()-start"
   ]
  },
  {
   "cell_type": "markdown",
   "metadata": {},
   "source": [
    "<font color=\"red\">Note that the above function can be implemented more efficiently using a loop as follows, but there are other problems where recursion is better.</font>"
   ]
  },
  {
   "cell_type": "code",
   "execution_count": null,
   "metadata": {},
   "outputs": [],
   "source": [
    "def cantor(level):\n",
    "    c = [1]\n",
    "    for i in range(level):\n",
    "        c = c + 3**i*[0] + c\n",
    "    return c"
   ]
  },
  {
   "cell_type": "code",
   "execution_count": null,
   "metadata": {},
   "outputs": [],
   "source": [
    "start = time()\n",
    "print(cantor(3), len(cantor(15)), 3**15)\n",
    "time()-start"
   ]
  },
  {
   "cell_type": "markdown",
   "metadata": {},
   "source": [
    "<font color=\"red\">Recursion is usually slower in Python becuase calling a function takes a certain amount of time, known as _function overhead_. Here is an example of two algorithms that both scale as $\\mathcal{O}(n)$, but recursion is slower.</font>"
   ]
  },
  {
   "cell_type": "code",
   "execution_count": null,
   "metadata": {},
   "outputs": [],
   "source": [
    "from random import shuffle #used to make random test case: more about this in next notebook\n",
    "\n",
    "def recursive_max(arr):\n",
    "    if len(arr)==1:\n",
    "        return arr[0]\n",
    "    x = len(arr)//2\n",
    "    l = recursive_max(arr[:x])\n",
    "    r = recursive_max(arr[x:])\n",
    "    return l if l>r else r\n",
    "\n",
    "def loop_max(arr):\n",
    "    m=arr[0]\n",
    "    for a in arr[1:]:\n",
    "        if a>m:\n",
    "            m=a\n",
    "    return m\n",
    "\n",
    "for i in range(0,6):\n",
    "    test_array = list(range(10**i))\n",
    "    shuffle(test_array) #mix up the order\n",
    "    start=time()\n",
    "    recursive_max(test_array)\n",
    "    cp=time()\n",
    "    loop_max(test_array)\n",
    "    cp2=time()\n",
    "    max(test_array)\n",
    "    end=time()\n",
    "    print(\"length: %d\\trecursive: %.6f s loop: %.6f s python: %.6f\"%(10**i,cp-start,cp2-cp,end-cp2))"
   ]
  },
  {
   "cell_type": "markdown",
   "metadata": {},
   "source": [
    "<font color=\"red\">Sorting can be done recursively in $\\mathcal{O}(n\\log n)$ time. We compare our implementation to the default Python implementation, which is significantly faster because it isn't written in Python. The Python mantra of \"don't reinvent the wheel\" is a paradigm enforced by necessity. (If you want speed, don't use Python. Python is for convenience and not having to reimplement everything.)</font>"
   ]
  },
  {
   "cell_type": "code",
   "execution_count": null,
   "metadata": {},
   "outputs": [],
   "source": [
    "def recursive_sort(arr):\n",
    "    if len(arr)==0:\n",
    "        return []\n",
    "    x=[arr[0]]\n",
    "    l=[]\n",
    "    r=[]\n",
    "    for a in arr[1:]:\n",
    "        if a>x[0]:\n",
    "            r.append(a)\n",
    "        elif x[0]==a:\n",
    "            x.append(a)\n",
    "        else:\n",
    "            l.append(a)\n",
    "    return recursive_sort(l)+x+recursive_sort(r)\n",
    "\n",
    "def loop_sort(arr): #try beating the recursive solution\n",
    "    return sorted(arr) #currently returns Python's native (recursive) implementation\n",
    "\n",
    "for i in range(0,6):\n",
    "    test_array = list(range(10**i))\n",
    "    shuffle(test_array)\n",
    "    start=time()\n",
    "    recursive_sort(test_array)\n",
    "    cp=time()\n",
    "    loop_sort(test_array) #default Python implementation, but feel free to test your own sort function\n",
    "    end=time()\n",
    "    print(\"length: %d\\trecursive time: %.6f s\\tloop time: %.6f s\"%(10**i,cp-start,end-cp))"
   ]
  },
  {
   "cell_type": "markdown",
   "metadata": {},
   "source": [
    "As you learn Python, you might want to solve a few problems to get you familiar with things. We recommend doing the first ~30 problems on [Project Euler](https://projecteuler.net/) for this purpose.\n",
    "\n",
    "There are a few other useful control structures. `try`-`except` lets you rescue a piece of code from an error, and `with` executes code between pre-defined code snippets. Consult docs for more info.\n",
    "\n",
    "<a name=\"numpy\"></a>\n",
    "### NumPy\n",
    "\n",
    "NumPy is one of the most commonly used packages in Python, and is the basis for most of the numerics in Python."
   ]
  },
  {
   "cell_type": "code",
   "execution_count": null,
   "metadata": {},
   "outputs": [],
   "source": [
    "import numpy as np"
   ]
  },
  {
   "cell_type": "markdown",
   "metadata": {},
   "source": [
    "NumPy has mathematical constants (which are also in the in-built `math` module)."
   ]
  },
  {
   "cell_type": "code",
   "execution_count": null,
   "metadata": {},
   "outputs": [],
   "source": [
    "np.pi, np.e #for physical constants, see scipy.constants"
   ]
  },
  {
   "cell_type": "markdown",
   "metadata": {},
   "source": [
    "The most useful feature of NumPy is the `ndarray` data type. This is a generalisation of a list to higher dimensions (a nested list). A list is essentially a vector, a list of lists, or a 2-D array, is a matrix. In general, an `ndarray` is nothing but a rank $n$ tensor. The function `array()` converts a list-like object to a NumPy array."
   ]
  },
  {
   "cell_type": "code",
   "execution_count": null,
   "metadata": {},
   "outputs": [],
   "source": [
    "a = np.array([1])\n",
    "type(a)"
   ]
  },
  {
   "cell_type": "markdown",
   "metadata": {},
   "source": [
    "There are many ways to construct arrays."
   ]
  },
  {
   "cell_type": "code",
   "execution_count": null,
   "metadata": {},
   "outputs": [],
   "source": [
    "np.ones(5)"
   ]
  },
  {
   "cell_type": "code",
   "execution_count": null,
   "metadata": {},
   "outputs": [],
   "source": [
    "np.zeros((3,3,3))"
   ]
  },
  {
   "cell_type": "code",
   "execution_count": null,
   "metadata": {},
   "outputs": [],
   "source": [
    "np.empty((20,3)) #uses whatever values happen to be in memory. be careful! "
   ]
  },
  {
   "cell_type": "code",
   "execution_count": null,
   "metadata": {},
   "outputs": [],
   "source": [
    "np.eye(2) #identity matrix"
   ]
  },
  {
   "cell_type": "code",
   "execution_count": null,
   "metadata": {},
   "outputs": [],
   "source": [
    "np.arange(10) #numpy version of range"
   ]
  },
  {
   "cell_type": "code",
   "execution_count": null,
   "metadata": {},
   "outputs": [],
   "source": [
    "np.diag(np.arange(4,-5,-2)) #diagonal matrix from 1d array"
   ]
  },
  {
   "cell_type": "code",
   "execution_count": null,
   "metadata": {},
   "outputs": [],
   "source": [
    "np.linspace(0,1,21) #21 points evenly spaced between 0 and 1"
   ]
  },
  {
   "cell_type": "markdown",
   "metadata": {},
   "source": [
    "We can perform operations on arrays as if they were just numbers, and these operations are applied element-wise on the arrays."
   ]
  },
  {
   "cell_type": "code",
   "execution_count": null,
   "metadata": {},
   "outputs": [],
   "source": [
    "np.arange(10) + 5"
   ]
  },
  {
   "cell_type": "code",
   "execution_count": null,
   "metadata": {},
   "outputs": [],
   "source": [
    "np.linspace(-3, 4, 50) * (np.arange(50)+1)"
   ]
  },
  {
   "cell_type": "markdown",
   "metadata": {},
   "source": [
    "Each `ndarray` has an a `shape` attribute, which is a tuple that specifies the length of the array in each axis. The first axis corresponds to the outermost list of a nested list. You can change the shape of an array using `reshape()`."
   ]
  },
  {
   "cell_type": "code",
   "execution_count": null,
   "metadata": {},
   "outputs": [],
   "source": [
    "a = np.arange(100)\n",
    "print(a.shape)\n",
    "a.reshape((-1,5,5)) #the -1 fills in for whatever value keeps the same total number of entries"
   ]
  },
  {
   "cell_type": "markdown",
   "metadata": {},
   "source": [
    "NumPy arrays are indexed and sliced just like lists, except now indices can be specified for multiple axes at once."
   ]
  },
  {
   "cell_type": "code",
   "execution_count": null,
   "metadata": {},
   "outputs": [],
   "source": [
    "a = [[1,2], [3,4]] #nested list\n",
    "b = np.array(a) #convert list to ndarray\n",
    "a[1][0], b[1,0]"
   ]
  },
  {
   "cell_type": "code",
   "execution_count": null,
   "metadata": {},
   "outputs": [],
   "source": [
    "a[0][::-1], b[0,::-1]"
   ]
  },
  {
   "cell_type": "markdown",
   "metadata": {},
   "source": [
    "You can also slice arrays using an array of booleans, and using a list of indices."
   ]
  },
  {
   "cell_type": "code",
   "execution_count": null,
   "metadata": {},
   "outputs": [],
   "source": [
    "a = np.arange(10)\n",
    "a > 5"
   ]
  },
  {
   "cell_type": "code",
   "execution_count": null,
   "metadata": {},
   "outputs": [],
   "source": [
    "a[a>5]"
   ]
  },
  {
   "cell_type": "code",
   "execution_count": null,
   "metadata": {},
   "outputs": [],
   "source": [
    "a = np.arange(16).reshape((4,4))\n",
    "a[[1,0,3],2:]"
   ]
  },
  {
   "cell_type": "markdown",
   "metadata": {},
   "source": [
    "<font color=\"red\">Since arrays can be indices, one may chain indexing arrays ad infinitum.</font>"
   ]
  },
  {
   "cell_type": "code",
   "execution_count": null,
   "metadata": {},
   "outputs": [],
   "source": [
    "N = 15 #try changing these and running the next few cells\n",
    "x = 10\n",
    "\n",
    "a = np.cos(np.linspace(0,x,N))**2\n",
    "p = np.argsort(a) #this is a permutation array\n",
    "p"
   ]
  },
  {
   "cell_type": "code",
   "execution_count": null,
   "metadata": {},
   "outputs": [],
   "source": [
    "a, a[p] #p is the permutation that sorts a"
   ]
  },
  {
   "cell_type": "code",
   "execution_count": null,
   "metadata": {},
   "outputs": [],
   "source": [
    "p_inv = np.argsort(p) #inverse of permutation\n",
    "p_inv"
   ]
  },
  {
   "cell_type": "code",
   "execution_count": null,
   "metadata": {},
   "outputs": [],
   "source": [
    "p_inv[p], p[p_inv] #identity permutation"
   ]
  },
  {
   "cell_type": "code",
   "execution_count": null,
   "metadata": {},
   "outputs": [],
   "source": [
    "p[p][p][p][p][p][p][p] #p^8"
   ]
  },
  {
   "cell_type": "code",
   "execution_count": null,
   "metadata": {},
   "outputs": [],
   "source": [
    "#find period of permutation by brute force\n",
    "\n",
    "period = 1\n",
    "identity = p[p_inv]\n",
    "power = p\n",
    "while np.any(power != identity):\n",
    "    power = power[p]\n",
    "    period += 1\n",
    "period"
   ]
  },
  {
   "cell_type": "code",
   "execution_count": null,
   "metadata": {},
   "outputs": [],
   "source": [
    "p[p][p][p][p][p][p][p][p][p][p][p][p][p][p][p][p][p] #checking"
   ]
  },
  {
   "cell_type": "markdown",
   "metadata": {},
   "source": [
    "`ndarrays` are more restrictive than Python arrays. They are __typed__, which means all the entries must be of the same type. (The data type is implicitly understood when creating the array, but can be explicitly set using the `dtype` keyword. Arrays are implicitly cast to different types, while preserving information, when required.) Also the shape of an array is immutable, so the length of each axis is fixed, whereas nested lists have no such restriction in native Python."
   ]
  },
  {
   "cell_type": "code",
   "execution_count": null,
   "metadata": {},
   "outputs": [],
   "source": [
    "a.dtype"
   ]
  },
  {
   "cell_type": "markdown",
   "metadata": {},
   "source": [
    "Higher-dimensional lists aren't stored contiguously in memory, whereas ndarrays are, which makes them faster. Another thing to keep in mind when iterating over multi-dimensional arrays is that the arrays are stored in a 1-dimensional representation (flattened), so looping over the last axis is faster since adjacent values are adjacent in memory. "
   ]
  },
  {
   "cell_type": "code",
   "execution_count": null,
   "metadata": {},
   "outputs": [],
   "source": [
    "a.flatten()"
   ]
  },
  {
   "cell_type": "code",
   "execution_count": null,
   "metadata": {},
   "outputs": [],
   "source": [
    "n = 100\n",
    "a = np.arange(n**3).reshape((n,n,n))\n",
    "start=time()\n",
    "for i in range(n):#loop last axis first\n",
    "    for j in range(n):\n",
    "        for k in range(n):\n",
    "            a[k,j,i]\n",
    "check = time()\n",
    "for i in range(n):#loop last axis last\n",
    "    for j in range(n):\n",
    "        for k in range(n):\n",
    "            a[i,j,k]\n",
    "end = time()\n",
    "print(\"Last axis first: %.3f sec\\nLast axis last: %.3f sec\"%(check-start, end-check))"
   ]
  },
  {
   "cell_type": "markdown",
   "metadata": {},
   "source": [
    "NumPy is written in C, which is a lower-level programming language than Python. This makes it much more efficient than Python. Lower-level languages give one more control while higher-level languages give convenience by providing packaged solutions (a.k.a black boxes), i.e. by allowing you to use functions without knowing how they're implemented. If you're interested in making things run as efficiently as possible so that you can simulate larger systems more accurately, you might want to open these black boxes and maybe implement some things yourself. However the convenience of Python comes from the large number of packages that efficiently solve a lot of problems in the large variety of fields in which Python is widely used. Thus the Python paradigm is to not to reinvent the wheel, but we also recommend being aware of how things work under the hood so that you know which tool is best for a given problem. It's a fine line, and it's up to you to decide how you want to code. If you find yourself re-implementing things to make them faster, you might want to use a lower-level language like C. (You can also use your own implementations of things in other languages within Python for the best of both worlds.)\n",
    "\n",
    "Since NumPy data types are the same as those in C, they are different from native Python. Python resizes ints so that they can be arbitrarily large, whereas the default size of NumPy ints are 64 bits, which means they can store any value in `range(-2**63, 2**63)`. As for `float`s, NumPy also uses 64 bits by default, but has more options for precision (you can use 16, 32, 64, or 128 bits for floats or integers)."
   ]
  },
  {
   "cell_type": "code",
   "execution_count": null,
   "metadata": {},
   "outputs": [],
   "source": [
    "a=np.array([2])\n",
    "a[0]**63, int(a[0])**63, a**64, 2**64 #signed integers in C wrap around at the half-way point, so it effectively implements modular/periodic arithmetic"
   ]
  },
  {
   "cell_type": "markdown",
   "metadata": {},
   "source": [
    "To see just how much faster NumPy is, let's compare the same task as we did earlier with list comprehensions:"
   ]
  },
  {
   "cell_type": "code",
   "execution_count": null,
   "metadata": {},
   "outputs": [],
   "source": [
    "n = 10**6 #this is size of list, try changing this\n",
    "start = time()\n",
    "a = [i**2 for i in range(n)] #first time list comp\n",
    "checkpoint = time()\n",
    "a = np.arange(n)**2 #then time numpy\n",
    "end = time()\n",
    "print(\"List comprehension: %.4f sec\\nNumPy: %.4f sec\" % (checkpoint-start, end-checkpoint))"
   ]
  },
  {
   "cell_type": "markdown",
   "metadata": {},
   "source": [
    "Since NumPy is a lot faster, it is more efficient to reprogram all loops and list comprehensions into operations using NumPy arrays wherever possible. This is an example of _vectorisation_. NumPy has implementations of standard functions like `exp()`, `log()`, `sin()`, `sqrt()`, etc. that work efficiently on arrays. NumPy and SciPy have virtually every tool that one might need, and have optimised these to work well with NumPy arrays. In order to rewrite all your loops into operations involving NumPy arrays to make your code more consistent, you might need to multiply arrays of different sizes. NumPy automatically handles this to some degree with a process known as _broadcasting_, which repeats an array of size 1 in a given dimension to match another array. We already saw an example of this when we added an `ndarray` to a scalar quantity. Consult docs for more info."
   ]
  },
  {
   "cell_type": "code",
   "execution_count": null,
   "metadata": {},
   "outputs": [],
   "source": [
    "print(np.arange(16).reshape((4,4))+np.arange(4))\n",
    "print(np.arange(16).reshape((4,4))+np.arange(4).reshape((4,1)))\n",
    "print(np.arange(4).reshape((1,-1))+np.arange(4).reshape((-1,1)))"
   ]
  },
  {
   "cell_type": "markdown",
   "metadata": {},
   "source": [
    "Once you get more familiar with NumPy, you might find that [the `einsum()` function](https://docs.scipy.org/doc/numpy/reference/generated/numpy.einsum.html) is an easy way to input any array compuation."
   ]
  },
  {
   "cell_type": "markdown",
   "metadata": {},
   "source": [
    "<a name=\"jupyter\"></a>\n",
    "### Jupyter notebooks\n",
    "\n",
    "The file you're interacting with is called a Jupyter notebook. Jupyter notebooks allow you to write, edit, and execute code in an interactive environment. <font color=\"red\">Jupyter spawns a server (if you're on a JupyterHub like the Berkeley datahub, this is some online server, but for regular Jupyter installations, this is a local server on your machine) that allows you to execute code on the server by communicating with it over HTTP (typically using a browser).</font>\n",
    "\n",
    "A notebook is essentially a collection of cells. These cells can be executed in any order, but it is good practice, especially when sharing notebooks, to ensure that the cells can be executed in order without throwing errors. You may want to familiarise yourself with the tools in the menus and toolbars.\n",
    "\n",
    "You can also press `tab` while typing to have the editor suggest names of standard functions, methods, modules, etc. It will also suggest keywords when entering the arguments to a function from a standard package, which is helpful if you don't remember how to supply the arguments required."
   ]
  },
  {
   "cell_type": "code",
   "execution_count": null,
   "metadata": {},
   "outputs": [],
   "source": [
    "np.li #press tab\n",
    "np.linspace("
   ]
  },
  {
   "cell_type": "markdown",
   "metadata": {},
   "source": [
    "Jupyter also uses IPython [_magics_](https://ipython.readthedocs.io/en/stable/interactive/magics.html), which are special functions accessed with `%`. For example, `%timeit` lets you time the execution of a line or cell of code without needing to import the `time` module. (Also see `%time`.)"
   ]
  },
  {
   "cell_type": "code",
   "execution_count": null,
   "metadata": {},
   "outputs": [],
   "source": [
    "%timeit np.sin(np.linspace(0,1,10**5)) #times execution of line"
   ]
  },
  {
   "cell_type": "code",
   "execution_count": null,
   "metadata": {},
   "outputs": [],
   "source": [
    "%%timeit #times execution of cell\n",
    "a = np.sin(np.linspace(0,1,10**5))\n",
    "b = np.exp(a)+a**2"
   ]
  },
  {
   "cell_type": "markdown",
   "metadata": {},
   "source": [
    "In addition to cells containing code, there are also `Markdown` cells, which allow you to typeset text. This cell is a Markdown cell, for example. Double-click to edit and press `shift`+`enter` to display these cells, just like code cells. You can change the type of a cell using the dropdown menu in the toolbar above. Markdown cells also support $\\LaTeX$, which is used for typesetting equations like $f(x) = \\int_0^x e^{-t^2}\\:dt$. If you're planning to do physics or mathematics, you'd probably want to learn it at some point. [Overleaf](https://www.overleaf.com/) is an online LaTeX editor which also has tutorials (and Berkeley students also get free Pro accounts that make it easier to collaborate). Markdown has a variety of formatting options, and is a superset of HTML so supports all HTML formatting abilities. \n",
    "\n",
    "You can also programmatically generate Markdown, including LaTeX, from code cells."
   ]
  },
  {
   "cell_type": "code",
   "execution_count": null,
   "metadata": {},
   "outputs": [],
   "source": [
    "from IPython.display import display,Markdown #IPython is the default interactive Python kernel for Jupyter\n",
    "\n",
    "s = r\"$${\\rm equation}=\\Gamma\\!\\left(\\frac{1}{\\alpha^2}\\right)$$ <a href=''>HTML link</a> [Markdown link]()\"\n",
    "#the r escapes special charcters in the strings, try removing it.. (e.g. \"\\r\" would usually be return, but r\"\\r\" isn't)\n",
    "\n",
    "print(Markdown(s))\n",
    "display(Markdown(s))\n",
    "s"
   ]
  },
  {
   "cell_type": "markdown",
   "metadata": {},
   "source": [
    "The following example illustrates the power of Jupyter notebooks. In it, a function takes arguments from the user using an interactive slider, and outputs an animated video, embedded inline into an HTML5 video tag (without saving the video). The example animates a simple simulation of random growth."
   ]
  },
  {
   "cell_type": "code",
   "execution_count": null,
   "metadata": {},
   "outputs": [],
   "source": [
    "import random\n",
    "import numpy as np\n",
    "%matplotlib agg\n",
    "from matplotlib import pyplot as plt\n",
    "from IPython.display import HTML\n",
    "from matplotlib.animation import FuncAnimation\n",
    "from ipywidgets import interact_manual\n",
    "\n",
    "class GrowthSim:\n",
    "    def __init__(self,d=2):\n",
    "        self.d=d\n",
    "        self.growth=set()\n",
    "        self.neighbours = set([tuple([0]*d)])\n",
    "        self.bounds=np.zeros((d,2),dtype=int)\n",
    "    \n",
    "    def grow(self):\n",
    "        turning = random.sample(self.neighbours,1)[0]\n",
    "        self.neighbours.remove(turning)\n",
    "        self.growth.add(turning)\n",
    "        for i in range(self.d):\n",
    "            if turning[i] > self.bounds[i,0]:\n",
    "                self.bounds[i,0]=turning[i]\n",
    "            elif turning[i] < self.bounds[i,1]:\n",
    "                self.bounds[i,1]=turning[i]\n",
    "            turning=list(turning)\n",
    "            turning[i] += 1\n",
    "            if tuple(turning) not in self.growth:\n",
    "                self.neighbours.add(tuple(turning))\n",
    "            turning[i] -= 2\n",
    "            if tuple(turning) not in self.growth:\n",
    "                self.neighbours.add(tuple(turning))\n",
    "            turning[i] += 1\n",
    "        return tuple(turning)\n",
    "    \n",
    "def frames(size,arr):\n",
    "    sim=GrowthSim()\n",
    "    while np.amax(np.abs(sim.bounds))<size:\n",
    "        arr[tuple(np.array(sim.grow())+size)]=True\n",
    "        yield arr\n",
    "\n",
    "def update(im,disp):\n",
    "    disp.set_data(im)\n",
    "    return disp,\n",
    "\n",
    "def anim(size=20,fps=20):\n",
    "    tsize=2*size+1\n",
    "    f = plt.figure(figsize=(6,6))\n",
    "    dt = 1e3/fps\n",
    "    arr=np.zeros((tsize,tsize),dtype=bool)\n",
    "    disp = plt.imshow(arr,vmin=0,vmax=1)\n",
    "    anim = FuncAnimation(f,update,frames(size,arr),fargs=(disp,),interval=dt,blit=True,save_count=tsize**2)\n",
    "    %matplotlib inline\n",
    "    return HTML(anim.to_jshtml())\n",
    "\n",
    "interact_manual(anim,size=(3,100),fps=(1.,30.))"
   ]
  },
  {
   "cell_type": "markdown",
   "metadata": {},
   "source": [
    "Make sure you understand how to save, open, and create notebooks in the Jupyter environment you are working in. You can browse the file tree (click on the Jupyter logo in the lop-left), launch terminals, and more. For more information, see the Jupyter [quickstart tuorial](https://jupyter-notebook-beginner-guide.readthedocs.io/en/latest/). You might also want to learn how to use git.\n",
    "\n",
    "<font color=\"red\">You can also use python from the command line by writing _scripts_, which are plaintext files containing Python code, convetionally with the file extension `.py` (like modules). Any file can be run as a python script by running `python <filename> <additional arguments>` from the command line (command-line arguments can be retrieved inside scripts using `sys.argv`). To differentiate between modules (which are imported, so should provide functionality but not do anything) and scripts (which are run, so should do something), the conditional `__name__==\"__main__\"` returns `True` if the Python file is being run as a script, and `False` if it is being imported.\n",
    "    \n",
    "You can also run Python in an interactive command-line environment called the _console_ by running `python` from the command line. This is interactive, so, unlike scripts, one can run indivdual lines of code instantly. However, scripts are easy to edit, unlike console code. Jupyter notebooks are a confluence of these two olden paradigms. While scripting is still immensely useful for many purposes, Jupyter notebooks has largely surpassed console use for experimentation and testing.</font>\n",
    "\n",
    "The kernel which executes the code can be changed or restarted without changing the notebook under the `Kernel` dropdown menu. While Jupyter was created for Julia, Python and R (hence the name), [many languages](https://github.com/jupyter/jupyter/wiki/Jupyter-kernels) now have Jupyter kernels. Jupyter notebooks are an effective method of working and sharing code, which is why you will use this environment to do your homework. \n",
    "\n",
    "In the next notebook, we will start on the specifics of numerical computing and show you how to plot, simulate, integrate and sample things. Navigate to the folder containing this notebook (click on the Jupyter logo if the file tree isn't already open) and open the notebook `Intro to numerics.ipynb`.\n",
    "\n",
    "When you have finished the tutorials please fill in the feedback survey [here](https://forms.gle/UN3bFxiXg19GJfy9A)."
   ]
  },
  {
   "cell_type": "markdown",
   "metadata": {},
   "source": [
    "<a name=\"plot\"></a>\n",
    "### Plotting\n",
    "\n",
    "The most common plotting package for Python is `matplotlib`."
   ]
  },
  {
   "cell_type": "code",
   "execution_count": null,
   "metadata": {},
   "outputs": [],
   "source": [
    "import numpy as np #see the notebook \"Intro to Python.ipynb\" if you don't know what NumPy is.\n",
    "from matplotlib import pyplot as plt\n",
    "\n",
    "%matplotlib inline\n",
    "#magic function that sets the plots to display inline"
   ]
  },
  {
   "cell_type": "markdown",
   "metadata": {},
   "source": [
    "The magic `%pylab inline` is a convenient way to do the same things above, but it wildcard imports both NumPy and pyplot (which saves typing `np` and `plt` all the time but overwrites a lot of native Python functions). We do not do it here for pedagogical purposes.\n",
    "\n",
    "Plotting is easy:"
   ]
  },
  {
   "cell_type": "code",
   "execution_count": null,
   "metadata": {},
   "outputs": [],
   "source": [
    "x = np.linspace(-5,5,1000) #takes 1000 values equally spaced between -5 and 5\n",
    "f = x**2/2\n",
    "\n",
    "plt.plot(x, f)\n",
    "plt.xlabel(\"$x$\") #Using LaTeX\n",
    "plt.ylabel(\"$f(x)$\")\n",
    "plt.title(r\"Example plot: $f(x)=\\frac{x^2}{2}$\")\n",
    "\n",
    "#the r escapes the backslash in the string, which would otherwise be \n",
    "#interpreted as a special character \"\\f\" (try removing it)"
   ]
  },
  {
   "cell_type": "code",
   "execution_count": null,
   "metadata": {},
   "outputs": [],
   "source": [
    "x = np.linspace(-1,1,1000)\n",
    "y = np.linspace(-1,1,1000)\n",
    "x,y = np.meshgrid(x,y) #creates 2d array with corresponding values of x,y\n",
    "#to understand what meshgrid() does, try plotting x or y (\"plt.imshow(x)\")\n",
    "r = np.sqrt(x**2+y**2) #radius\n",
    "g = np.sin((2*np.pi)**r) #some function of r\n",
    "\n",
    "plt.figure(figsize=(8,8)) #create figure object on which the plot will be renderred\n",
    "plt.imshow(g) #plots 2d array\n",
    "plt.colorbar()\n",
    "plt.title(r\"$\\sin((2\\pi)^r)$\")"
   ]
  }
 ],
 "metadata": {
  "anaconda-cloud": {},
  "kernelspec": {
   "display_name": "Python 3",
   "language": "python",
   "name": "python3"
  },
  "language_info": {
   "codemirror_mode": {
    "name": "ipython",
    "version": 3
   },
   "file_extension": ".py",
   "mimetype": "text/x-python",
   "name": "python",
   "nbconvert_exporter": "python",
   "pygments_lexer": "ipython3",
   "version": "3.6.4"
  }
 },
 "nbformat": 4,
 "nbformat_minor": 2
}
